{
  "nbformat": 4,
  "nbformat_minor": 0,
  "metadata": {
    "colab": {
      "name": "train.ipynb",
      "provenance": []
    },
    "kernelspec": {
      "name": "python3",
      "display_name": "Python 3"
    },
    "language_info": {
      "name": "python"
    },
    "accelerator": "GPU",
    "widgets": {
      "application/vnd.jupyter.widget-state+json": {
        "af428ca7cba44fcda4934b20fe4a1d79": {
          "model_module": "@jupyter-widgets/controls",
          "model_name": "HBoxModel",
          "state": {
            "_view_name": "HBoxView",
            "_dom_classes": [],
            "_model_name": "HBoxModel",
            "_view_module": "@jupyter-widgets/controls",
            "_model_module_version": "1.5.0",
            "_view_count": null,
            "_view_module_version": "1.5.0",
            "box_style": "",
            "layout": "IPY_MODEL_6ec0ed53c7bf414485bd64517b549d36",
            "_model_module": "@jupyter-widgets/controls",
            "children": [
              "IPY_MODEL_a11df4309f0e4197ab45abc55a0e25aa",
              "IPY_MODEL_727844ef2bec416f9eca6e12840170c3"
            ]
          }
        },
        "6ec0ed53c7bf414485bd64517b549d36": {
          "model_module": "@jupyter-widgets/base",
          "model_name": "LayoutModel",
          "state": {
            "_view_name": "LayoutView",
            "grid_template_rows": null,
            "right": null,
            "justify_content": null,
            "_view_module": "@jupyter-widgets/base",
            "overflow": null,
            "_model_module_version": "1.2.0",
            "_view_count": null,
            "flex_flow": null,
            "width": null,
            "min_width": null,
            "border": null,
            "align_items": null,
            "bottom": null,
            "_model_module": "@jupyter-widgets/base",
            "top": null,
            "grid_column": null,
            "overflow_y": null,
            "overflow_x": null,
            "grid_auto_flow": null,
            "grid_area": null,
            "grid_template_columns": null,
            "flex": null,
            "_model_name": "LayoutModel",
            "justify_items": null,
            "grid_row": null,
            "max_height": null,
            "align_content": null,
            "visibility": null,
            "align_self": null,
            "height": null,
            "min_height": null,
            "padding": null,
            "grid_auto_rows": null,
            "grid_gap": null,
            "max_width": null,
            "order": null,
            "_view_module_version": "1.2.0",
            "grid_template_areas": null,
            "object_position": null,
            "object_fit": null,
            "grid_auto_columns": null,
            "margin": null,
            "display": null,
            "left": null
          }
        },
        "a11df4309f0e4197ab45abc55a0e25aa": {
          "model_module": "@jupyter-widgets/controls",
          "model_name": "FloatProgressModel",
          "state": {
            "_view_name": "ProgressView",
            "style": "IPY_MODEL_cafaa3d4300742cf9f6f6e5ee4872a0c",
            "_dom_classes": [],
            "description": "100%",
            "_model_name": "FloatProgressModel",
            "bar_style": "success",
            "max": 46827520,
            "_view_module": "@jupyter-widgets/controls",
            "_model_module_version": "1.5.0",
            "value": 46827520,
            "_view_count": null,
            "_view_module_version": "1.5.0",
            "orientation": "horizontal",
            "min": 0,
            "description_tooltip": null,
            "_model_module": "@jupyter-widgets/controls",
            "layout": "IPY_MODEL_c33aef8393db4f4e9e705d14b53cd963"
          }
        },
        "727844ef2bec416f9eca6e12840170c3": {
          "model_module": "@jupyter-widgets/controls",
          "model_name": "HTMLModel",
          "state": {
            "_view_name": "HTMLView",
            "style": "IPY_MODEL_e2ac8bfd2c9c42dd89d48500b8dee361",
            "_dom_classes": [],
            "description": "",
            "_model_name": "HTMLModel",
            "placeholder": "​",
            "_view_module": "@jupyter-widgets/controls",
            "_model_module_version": "1.5.0",
            "value": " 44.7M/44.7M [01:53&lt;00:00, 412kB/s]",
            "_view_count": null,
            "_view_module_version": "1.5.0",
            "description_tooltip": null,
            "_model_module": "@jupyter-widgets/controls",
            "layout": "IPY_MODEL_731fb5dd4c614bc0aeafc2744e6200c4"
          }
        },
        "cafaa3d4300742cf9f6f6e5ee4872a0c": {
          "model_module": "@jupyter-widgets/controls",
          "model_name": "ProgressStyleModel",
          "state": {
            "_view_name": "StyleView",
            "_model_name": "ProgressStyleModel",
            "description_width": "initial",
            "_view_module": "@jupyter-widgets/base",
            "_model_module_version": "1.5.0",
            "_view_count": null,
            "_view_module_version": "1.2.0",
            "bar_color": null,
            "_model_module": "@jupyter-widgets/controls"
          }
        },
        "c33aef8393db4f4e9e705d14b53cd963": {
          "model_module": "@jupyter-widgets/base",
          "model_name": "LayoutModel",
          "state": {
            "_view_name": "LayoutView",
            "grid_template_rows": null,
            "right": null,
            "justify_content": null,
            "_view_module": "@jupyter-widgets/base",
            "overflow": null,
            "_model_module_version": "1.2.0",
            "_view_count": null,
            "flex_flow": null,
            "width": null,
            "min_width": null,
            "border": null,
            "align_items": null,
            "bottom": null,
            "_model_module": "@jupyter-widgets/base",
            "top": null,
            "grid_column": null,
            "overflow_y": null,
            "overflow_x": null,
            "grid_auto_flow": null,
            "grid_area": null,
            "grid_template_columns": null,
            "flex": null,
            "_model_name": "LayoutModel",
            "justify_items": null,
            "grid_row": null,
            "max_height": null,
            "align_content": null,
            "visibility": null,
            "align_self": null,
            "height": null,
            "min_height": null,
            "padding": null,
            "grid_auto_rows": null,
            "grid_gap": null,
            "max_width": null,
            "order": null,
            "_view_module_version": "1.2.0",
            "grid_template_areas": null,
            "object_position": null,
            "object_fit": null,
            "grid_auto_columns": null,
            "margin": null,
            "display": null,
            "left": null
          }
        },
        "e2ac8bfd2c9c42dd89d48500b8dee361": {
          "model_module": "@jupyter-widgets/controls",
          "model_name": "DescriptionStyleModel",
          "state": {
            "_view_name": "StyleView",
            "_model_name": "DescriptionStyleModel",
            "description_width": "",
            "_view_module": "@jupyter-widgets/base",
            "_model_module_version": "1.5.0",
            "_view_count": null,
            "_view_module_version": "1.2.0",
            "_model_module": "@jupyter-widgets/controls"
          }
        },
        "731fb5dd4c614bc0aeafc2744e6200c4": {
          "model_module": "@jupyter-widgets/base",
          "model_name": "LayoutModel",
          "state": {
            "_view_name": "LayoutView",
            "grid_template_rows": null,
            "right": null,
            "justify_content": null,
            "_view_module": "@jupyter-widgets/base",
            "overflow": null,
            "_model_module_version": "1.2.0",
            "_view_count": null,
            "flex_flow": null,
            "width": null,
            "min_width": null,
            "border": null,
            "align_items": null,
            "bottom": null,
            "_model_module": "@jupyter-widgets/base",
            "top": null,
            "grid_column": null,
            "overflow_y": null,
            "overflow_x": null,
            "grid_auto_flow": null,
            "grid_area": null,
            "grid_template_columns": null,
            "flex": null,
            "_model_name": "LayoutModel",
            "justify_items": null,
            "grid_row": null,
            "max_height": null,
            "align_content": null,
            "visibility": null,
            "align_self": null,
            "height": null,
            "min_height": null,
            "padding": null,
            "grid_auto_rows": null,
            "grid_gap": null,
            "max_width": null,
            "order": null,
            "_view_module_version": "1.2.0",
            "grid_template_areas": null,
            "object_position": null,
            "object_fit": null,
            "grid_auto_columns": null,
            "margin": null,
            "display": null,
            "left": null
          }
        }
      }
    }
  },
  "cells": [
    {
      "cell_type": "code",
      "metadata": {
        "id": "StBcw6mNCuFi"
      },
      "source": [
        "#initialize\n",
        "import numpy as np\n",
        "import pandas as pd\n",
        "\n",
        "import torch\n",
        "import torch.nn as nn\n",
        "import torch.nn.functional as F\n",
        "import torch.optim as optim\n",
        "import torchvision \n",
        "import torchvision.transforms as transforms \n",
        "from torch.autograd import Variable\n",
        "from torch.utils.data import Dataset, DataLoader\n",
        " \n",
        "import time\n",
        "import matplotlib\n",
        "import matplotlib.pyplot as plt\n",
        "from matplotlib.pyplot import imshow\n",
        "\n",
        "from sklearn.model_selection import train_test_split\n",
        "from sklearn.preprocessing import StandardScaler\n",
        " \n",
        "device = torch.device('cuda' if torch.cuda.is_available() else 'cpu')\n",
        " \n",
        "#hyperparameters\n",
        "num_classes = 10\n",
        "in_channel = 1\n",
        "learning_rate = 0.001\n",
        "batch_size = 128\n",
        "num_epochs = 30"
      ],
      "execution_count": 3,
      "outputs": []
    },
    {
      "cell_type": "code",
      "metadata": {
        "colab": {
          "base_uri": "https://localhost:8080/"
        },
        "id": "cuJ97e3PCwMc",
        "outputId": "b867c797-4e3e-4aae-cc4f-21d8fce93c83"
      },
      "source": [
        "from google.colab import drive \n",
        "\n",
        "drive.mount('/content/gdrive')"
      ],
      "execution_count": 4,
      "outputs": [
        {
          "output_type": "stream",
          "text": [
            "Drive already mounted at /content/gdrive; to attempt to forcibly remount, call drive.mount(\"/content/gdrive\", force_remount=True).\n"
          ],
          "name": "stdout"
        }
      ]
    },
    {
      "cell_type": "code",
      "metadata": {
        "id": "bqeG6KSbCxYC"
      },
      "source": [
        "csv_data ='/content/gdrive/MyDrive/AIC/AIcomm_project_1_train.csv' \n",
        "\n",
        "cols = list(pd.read_csv(csv_data, nrows =1))\n",
        "\n",
        "csv_features = pd.read_csv(csv_data, index_col = 0, usecols =[i for i in cols if i != 'label'])\n",
        "csv_label = pd.read_csv(csv_data, index_col = 0, usecols=[0, 1])\n"
      ],
      "execution_count": 5,
      "outputs": []
    },
    {
      "cell_type": "code",
      "metadata": {
        "id": "NWqVFuO2DESd"
      },
      "source": [
        "# train , validation 데이터 분리\n",
        "scaler = StandardScaler()\n",
        "\n",
        "train_features, valid_features, train_labels, valid_labels = train_test_split(csv_features.values, csv_label.values, train_size = 0.8)\n",
        "\n",
        "train_features = scaler.fit_transform(train_features)\n",
        "valid_features = scaler.transform(valid_features)\n",
        "\n",
        "train_features = train_features.reshape(48000,28,28)\n",
        "valid_features = valid_features.reshape(12000,28,28)\n",
        "\n",
        "train_features = train_features.reshape(-1, 1, 28, 28)\n",
        "valid_features = valid_features.reshape(-1, 1, 28, 28)"
      ],
      "execution_count": 8,
      "outputs": []
    },
    {
      "cell_type": "code",
      "metadata": {
        "id": "OJCXCQjvC5WZ"
      },
      "source": [
        "#data augmentation\n",
        "\n",
        "transforms_augmentation = transforms.Compose([transforms.Resize((28,28)),\n",
        "                           transforms.RandomCrop(28, padding= 4),\n",
        "                           transforms.RandomHorizontalFlip(),\n",
        "                           transforms.ToTensor(),\n",
        "                           transforms.Normalize((0.5,0.5,0.5),(0.5,0.5,0.5))\n",
        "])\n",
        "\n",
        "transforms_transform = transforms.Compose([transforms.ToTensor(),\n",
        "                                transforms.Normalize((0.5,0.5,0.5),(0.5,0.5,0.5))\n",
        "])\n",
        "\n",
        "class aug_DataSet(Dataset):\n",
        "  def __init__(self, train_x, train_y, transform=transforms_augmentation):\n",
        "    self.X = train_x\n",
        "    self.y = train_y\n",
        "    self.transform = transform   \n",
        "\n",
        "  def __getitem__(self, item):\n",
        "    x_t = torch.Tensor(self.X[item])\n",
        "    y_t = self.y[item]\n",
        "    return (x_t, int(y_t))\n",
        "  def __len__(self):\n",
        "    return len(self.X)\n",
        "\n",
        "class DataSet(Dataset):\n",
        "  def __init__(self, train_x, train_y, transform=transforms_transform):\n",
        "    self.X = train_x\n",
        "    self.y = train_y\n",
        "    self.transform = transform      \n",
        "\n",
        "  def __getitem__(self, item):\n",
        "    x_t = torch.Tensor(self.X[item])\n",
        "    y_t = self.y[item]\n",
        "    return (x_t, int(y_t))\n",
        "  def __len__(self):\n",
        "    return len(self.X)"
      ],
      "execution_count": 9,
      "outputs": []
    },
    {
      "cell_type": "code",
      "metadata": {
        "id": "xWDgn6gwD3ec"
      },
      "source": [
        "dataset_train = aug_DataSet(train_features, train_labels)\n",
        "dataset_valid = DataSet(valid_features, valid_labels)\n",
        "\n",
        "train_loader = DataLoader(dataset = dataset_train, batch_size = batch_size, shuffle = True)\n",
        "valid_loader = DataLoader(dataset = dataset_valid, batch_size = batch_size, shuffle = True)"
      ],
      "execution_count": 10,
      "outputs": []
    },
    {
      "cell_type": "code",
      "metadata": {
        "colab": {
          "base_uri": "https://localhost:8080/",
          "height": 104,
          "referenced_widgets": [
            "af428ca7cba44fcda4934b20fe4a1d79",
            "6ec0ed53c7bf414485bd64517b549d36",
            "a11df4309f0e4197ab45abc55a0e25aa",
            "727844ef2bec416f9eca6e12840170c3",
            "cafaa3d4300742cf9f6f6e5ee4872a0c",
            "c33aef8393db4f4e9e705d14b53cd963",
            "e2ac8bfd2c9c42dd89d48500b8dee361",
            "731fb5dd4c614bc0aeafc2744e6200c4"
          ]
        },
        "id": "gZyL82lnDarZ",
        "outputId": "9c602b85-45c0-4915-f1c1-18644ec81d22"
      },
      "source": [
        "from torchvision import models\n",
        "\n",
        "resnet18 = models.resnet18(pretrained=True)"
      ],
      "execution_count": 11,
      "outputs": [
        {
          "output_type": "stream",
          "text": [
            "Downloading: \"https://download.pytorch.org/models/resnet18-5c106cde.pth\" to /root/.cache/torch/hub/checkpoints/resnet18-5c106cde.pth\n"
          ],
          "name": "stderr"
        },
        {
          "output_type": "display_data",
          "data": {
            "application/vnd.jupyter.widget-view+json": {
              "model_id": "af428ca7cba44fcda4934b20fe4a1d79",
              "version_minor": 0,
              "version_major": 2
            },
            "text/plain": [
              "HBox(children=(FloatProgress(value=0.0, max=46827520.0), HTML(value='')))"
            ]
          },
          "metadata": {
            "tags": []
          }
        },
        {
          "output_type": "stream",
          "text": [
            "\n"
          ],
          "name": "stdout"
        }
      ]
    },
    {
      "cell_type": "code",
      "metadata": {
        "id": "G8rfwxLZDbb4"
      },
      "source": [
        "class ResNet(nn.Module):\n",
        "  def __init__(self, in_channels, resnet18, num_classes):\n",
        "    super(ResNet, self).__init__()\n",
        "    self.model = resnet18\n",
        "    self.model.conv1 = nn.Conv2d(1, 64, 3)\n",
        "    self.model.fc = nn.Linear(512, num_classes)\n",
        "\n",
        "  def forward(self, x):\n",
        "    x = self.model(x)\n",
        "\n",
        "    return x"
      ],
      "execution_count": 12,
      "outputs": []
    },
    {
      "cell_type": "code",
      "metadata": {
        "id": "y36sNrnzDcUF"
      },
      "source": [
        "model = ResNet(in_channel,resnet18,num_classes).to(device)\n",
        "\n",
        "#Loss, Optimizer\n",
        "criterion = nn.CrossEntropyLoss()\n",
        "optimizer = torch.optim.Adagrad(model.parameters(), lr=learning_rate, weight_decay=0.1)"
      ],
      "execution_count": 13,
      "outputs": []
    },
    {
      "cell_type": "code",
      "metadata": {
        "colab": {
          "base_uri": "https://localhost:8080/"
        },
        "id": "LoJkCwXIDfXZ",
        "outputId": "39ae405f-764e-48de-ffea-09ceda8dba88"
      },
      "source": [
        "model"
      ],
      "execution_count": 14,
      "outputs": [
        {
          "output_type": "execute_result",
          "data": {
            "text/plain": [
              "ResNet(\n",
              "  (model): ResNet(\n",
              "    (conv1): Conv2d(1, 64, kernel_size=(3, 3), stride=(1, 1))\n",
              "    (bn1): BatchNorm2d(64, eps=1e-05, momentum=0.1, affine=True, track_running_stats=True)\n",
              "    (relu): ReLU(inplace=True)\n",
              "    (maxpool): MaxPool2d(kernel_size=3, stride=2, padding=1, dilation=1, ceil_mode=False)\n",
              "    (layer1): Sequential(\n",
              "      (0): BasicBlock(\n",
              "        (conv1): Conv2d(64, 64, kernel_size=(3, 3), stride=(1, 1), padding=(1, 1), bias=False)\n",
              "        (bn1): BatchNorm2d(64, eps=1e-05, momentum=0.1, affine=True, track_running_stats=True)\n",
              "        (relu): ReLU(inplace=True)\n",
              "        (conv2): Conv2d(64, 64, kernel_size=(3, 3), stride=(1, 1), padding=(1, 1), bias=False)\n",
              "        (bn2): BatchNorm2d(64, eps=1e-05, momentum=0.1, affine=True, track_running_stats=True)\n",
              "      )\n",
              "      (1): BasicBlock(\n",
              "        (conv1): Conv2d(64, 64, kernel_size=(3, 3), stride=(1, 1), padding=(1, 1), bias=False)\n",
              "        (bn1): BatchNorm2d(64, eps=1e-05, momentum=0.1, affine=True, track_running_stats=True)\n",
              "        (relu): ReLU(inplace=True)\n",
              "        (conv2): Conv2d(64, 64, kernel_size=(3, 3), stride=(1, 1), padding=(1, 1), bias=False)\n",
              "        (bn2): BatchNorm2d(64, eps=1e-05, momentum=0.1, affine=True, track_running_stats=True)\n",
              "      )\n",
              "    )\n",
              "    (layer2): Sequential(\n",
              "      (0): BasicBlock(\n",
              "        (conv1): Conv2d(64, 128, kernel_size=(3, 3), stride=(2, 2), padding=(1, 1), bias=False)\n",
              "        (bn1): BatchNorm2d(128, eps=1e-05, momentum=0.1, affine=True, track_running_stats=True)\n",
              "        (relu): ReLU(inplace=True)\n",
              "        (conv2): Conv2d(128, 128, kernel_size=(3, 3), stride=(1, 1), padding=(1, 1), bias=False)\n",
              "        (bn2): BatchNorm2d(128, eps=1e-05, momentum=0.1, affine=True, track_running_stats=True)\n",
              "        (downsample): Sequential(\n",
              "          (0): Conv2d(64, 128, kernel_size=(1, 1), stride=(2, 2), bias=False)\n",
              "          (1): BatchNorm2d(128, eps=1e-05, momentum=0.1, affine=True, track_running_stats=True)\n",
              "        )\n",
              "      )\n",
              "      (1): BasicBlock(\n",
              "        (conv1): Conv2d(128, 128, kernel_size=(3, 3), stride=(1, 1), padding=(1, 1), bias=False)\n",
              "        (bn1): BatchNorm2d(128, eps=1e-05, momentum=0.1, affine=True, track_running_stats=True)\n",
              "        (relu): ReLU(inplace=True)\n",
              "        (conv2): Conv2d(128, 128, kernel_size=(3, 3), stride=(1, 1), padding=(1, 1), bias=False)\n",
              "        (bn2): BatchNorm2d(128, eps=1e-05, momentum=0.1, affine=True, track_running_stats=True)\n",
              "      )\n",
              "    )\n",
              "    (layer3): Sequential(\n",
              "      (0): BasicBlock(\n",
              "        (conv1): Conv2d(128, 256, kernel_size=(3, 3), stride=(2, 2), padding=(1, 1), bias=False)\n",
              "        (bn1): BatchNorm2d(256, eps=1e-05, momentum=0.1, affine=True, track_running_stats=True)\n",
              "        (relu): ReLU(inplace=True)\n",
              "        (conv2): Conv2d(256, 256, kernel_size=(3, 3), stride=(1, 1), padding=(1, 1), bias=False)\n",
              "        (bn2): BatchNorm2d(256, eps=1e-05, momentum=0.1, affine=True, track_running_stats=True)\n",
              "        (downsample): Sequential(\n",
              "          (0): Conv2d(128, 256, kernel_size=(1, 1), stride=(2, 2), bias=False)\n",
              "          (1): BatchNorm2d(256, eps=1e-05, momentum=0.1, affine=True, track_running_stats=True)\n",
              "        )\n",
              "      )\n",
              "      (1): BasicBlock(\n",
              "        (conv1): Conv2d(256, 256, kernel_size=(3, 3), stride=(1, 1), padding=(1, 1), bias=False)\n",
              "        (bn1): BatchNorm2d(256, eps=1e-05, momentum=0.1, affine=True, track_running_stats=True)\n",
              "        (relu): ReLU(inplace=True)\n",
              "        (conv2): Conv2d(256, 256, kernel_size=(3, 3), stride=(1, 1), padding=(1, 1), bias=False)\n",
              "        (bn2): BatchNorm2d(256, eps=1e-05, momentum=0.1, affine=True, track_running_stats=True)\n",
              "      )\n",
              "    )\n",
              "    (layer4): Sequential(\n",
              "      (0): BasicBlock(\n",
              "        (conv1): Conv2d(256, 512, kernel_size=(3, 3), stride=(2, 2), padding=(1, 1), bias=False)\n",
              "        (bn1): BatchNorm2d(512, eps=1e-05, momentum=0.1, affine=True, track_running_stats=True)\n",
              "        (relu): ReLU(inplace=True)\n",
              "        (conv2): Conv2d(512, 512, kernel_size=(3, 3), stride=(1, 1), padding=(1, 1), bias=False)\n",
              "        (bn2): BatchNorm2d(512, eps=1e-05, momentum=0.1, affine=True, track_running_stats=True)\n",
              "        (downsample): Sequential(\n",
              "          (0): Conv2d(256, 512, kernel_size=(1, 1), stride=(2, 2), bias=False)\n",
              "          (1): BatchNorm2d(512, eps=1e-05, momentum=0.1, affine=True, track_running_stats=True)\n",
              "        )\n",
              "      )\n",
              "      (1): BasicBlock(\n",
              "        (conv1): Conv2d(512, 512, kernel_size=(3, 3), stride=(1, 1), padding=(1, 1), bias=False)\n",
              "        (bn1): BatchNorm2d(512, eps=1e-05, momentum=0.1, affine=True, track_running_stats=True)\n",
              "        (relu): ReLU(inplace=True)\n",
              "        (conv2): Conv2d(512, 512, kernel_size=(3, 3), stride=(1, 1), padding=(1, 1), bias=False)\n",
              "        (bn2): BatchNorm2d(512, eps=1e-05, momentum=0.1, affine=True, track_running_stats=True)\n",
              "      )\n",
              "    )\n",
              "    (avgpool): AdaptiveAvgPool2d(output_size=(1, 1))\n",
              "    (fc): Linear(in_features=512, out_features=10, bias=True)\n",
              "  )\n",
              ")"
            ]
          },
          "metadata": {
            "tags": []
          },
          "execution_count": 14
        }
      ]
    },
    {
      "cell_type": "code",
      "metadata": {
        "colab": {
          "base_uri": "https://localhost:8080/",
          "height": 814
        },
        "id": "iXfCgoHZDhKK",
        "outputId": "48ff19b5-d00f-4168-a037-d492622358c5"
      },
      "source": [
        "# Train\n",
        "\n",
        "total_step = len(train_loader)\n",
        "loss_list = []\n",
        "best_acc = 0\n",
        "\n",
        "for epoch in range(num_epochs):\n",
        "  for i, (data, labels) in enumerate(train_loader):\n",
        "\n",
        "\n",
        "    # Assign Tensors to Configured Device\n",
        "    images, labels = Variable(data.float()).to(device), Variable(labels.type(torch.LongTensor)).to(device)\n",
        "\n",
        "    # Forward Propagation\n",
        "    outputs = model(images)\n",
        "\n",
        "    # Get Loss, Compute Gradient, Update Parameters\n",
        "    loss = criterion(outputs, labels)\n",
        "    optimizer.zero_grad()\n",
        "    loss.backward()\n",
        "    optimizer.step()\n",
        "\n",
        "    # Append loss to plot graph\n",
        "    loss_list.append(loss)\n",
        "\n",
        "    # Print Loss to track Training process\n",
        "    if (i+1)==len(train_loader):\n",
        "      \n",
        "      train_acc = 0\n",
        "      train_image, train_label = next(iter(train_loader))\n",
        "      train_image, train_label = Variable(train_image.float()).to(device), Variable(train_label.type(torch.LongTensor)).to(device)\n",
        "\n",
        "      _, train_predicted = torch.max(model(train_image.to(device)).data, 1)\n",
        "\n",
        "      for (pred, ans) in zip(train_predicted, train_label):\n",
        "        if pred == ans:\n",
        "          train_acc += 1\n",
        "      train_acc = train_acc / len(train_predicted)\n",
        "\n",
        "      valid_acc = 0\n",
        "      valid_image, valid_label = next(iter(valid_loader))\n",
        "      valid_image, valid_label = Variable(valid_image.float()).to(device), Variable(valid_label.type(torch.LongTensor)).to(device)\n",
        "\n",
        "      _, valid_predicted = torch.max(model(valid_image.to(device)).data, 1)\n",
        "      \n",
        "      for (pred, ans) in zip(valid_predicted, valid_label):\n",
        "        if pred == ans:\n",
        "          valid_acc += 1\n",
        "      valid_acc = valid_acc / len(valid_predicted)\n",
        "\n",
        "      if best_acc < valid_acc:\n",
        "          best_acc = valid_acc\n",
        "          torch.save(model.state_dict(), 'Fassion_Classification.pth')\n",
        "\n",
        "      print('Epoch [{}/{}], Loss: {:.4f}, Train Accuracy: {:.2f}%, Valid Accuracy: {:.2f}%'.format(epoch+1,num_epochs, loss.item(), train_acc*100, valid_acc*100))\n",
        "\n",
        "plt.plot(loss_list)\n",
        "plt.title(\"Fassion Classfication\")\n",
        "plt.show()"
      ],
      "execution_count": 15,
      "outputs": [
        {
          "output_type": "stream",
          "text": [
            "Epoch [1/30], Loss: 0.2373, Train Accuracy: 83.59%, Valid Accuracy: 82.81%\n",
            "Epoch [2/30], Loss: 0.3516, Train Accuracy: 89.84%, Valid Accuracy: 92.19%\n",
            "Epoch [3/30], Loss: 0.1980, Train Accuracy: 93.75%, Valid Accuracy: 89.84%\n",
            "Epoch [4/30], Loss: 0.2346, Train Accuracy: 92.97%, Valid Accuracy: 85.94%\n",
            "Epoch [5/30], Loss: 0.1665, Train Accuracy: 95.31%, Valid Accuracy: 91.41%\n",
            "Epoch [6/30], Loss: 0.2262, Train Accuracy: 96.88%, Valid Accuracy: 89.84%\n",
            "Epoch [7/30], Loss: 0.1236, Train Accuracy: 99.22%, Valid Accuracy: 89.84%\n",
            "Epoch [8/30], Loss: 0.0973, Train Accuracy: 96.88%, Valid Accuracy: 95.31%\n",
            "Epoch [9/30], Loss: 0.1385, Train Accuracy: 97.66%, Valid Accuracy: 91.41%\n",
            "Epoch [10/30], Loss: 0.0826, Train Accuracy: 95.31%, Valid Accuracy: 92.19%\n",
            "Epoch [11/30], Loss: 0.1252, Train Accuracy: 99.22%, Valid Accuracy: 85.94%\n",
            "Epoch [12/30], Loss: 0.0459, Train Accuracy: 99.22%, Valid Accuracy: 92.97%\n",
            "Epoch [13/30], Loss: 0.0766, Train Accuracy: 96.88%, Valid Accuracy: 92.19%\n",
            "Epoch [14/30], Loss: 0.0510, Train Accuracy: 99.22%, Valid Accuracy: 88.28%\n",
            "Epoch [15/30], Loss: 0.0564, Train Accuracy: 98.44%, Valid Accuracy: 90.62%\n",
            "Epoch [16/30], Loss: 0.0465, Train Accuracy: 98.44%, Valid Accuracy: 91.41%\n",
            "Epoch [17/30], Loss: 0.0933, Train Accuracy: 99.22%, Valid Accuracy: 90.62%\n",
            "Epoch [18/30], Loss: 0.0771, Train Accuracy: 99.22%, Valid Accuracy: 86.72%\n",
            "Epoch [19/30], Loss: 0.0557, Train Accuracy: 99.22%, Valid Accuracy: 89.84%\n",
            "Epoch [20/30], Loss: 0.1196, Train Accuracy: 98.44%, Valid Accuracy: 88.28%\n",
            "Epoch [21/30], Loss: 0.0392, Train Accuracy: 100.00%, Valid Accuracy: 91.41%\n",
            "Epoch [22/30], Loss: 0.0360, Train Accuracy: 98.44%, Valid Accuracy: 88.28%\n",
            "Epoch [23/30], Loss: 0.0315, Train Accuracy: 98.44%, Valid Accuracy: 83.59%\n",
            "Epoch [24/30], Loss: 0.0683, Train Accuracy: 98.44%, Valid Accuracy: 92.19%\n",
            "Epoch [25/30], Loss: 0.0170, Train Accuracy: 98.44%, Valid Accuracy: 90.62%\n",
            "Epoch [26/30], Loss: 0.0755, Train Accuracy: 98.44%, Valid Accuracy: 87.50%\n",
            "Epoch [27/30], Loss: 0.0149, Train Accuracy: 100.00%, Valid Accuracy: 92.19%\n",
            "Epoch [28/30], Loss: 0.0087, Train Accuracy: 100.00%, Valid Accuracy: 95.31%\n",
            "Epoch [29/30], Loss: 0.0144, Train Accuracy: 98.44%, Valid Accuracy: 89.06%\n",
            "Epoch [30/30], Loss: 0.0222, Train Accuracy: 100.00%, Valid Accuracy: 93.75%\n"
          ],
          "name": "stdout"
        },
        {
          "output_type": "display_data",
          "data": {
            "image/png": "[encoded data removed]",
            "text/plain": [
              "<Figure size 432x288 with 1 Axes>"
            ]
          },
          "metadata": {
            "tags": [],
            "needs_background": "light"
          }
        }
      ]
    },
    {
      "cell_type": "code",
      "metadata": {
        "id": "GTAyj4pAD6a8"
      },
      "source": [
        ""
      ],
      "execution_count": 16,
      "outputs": []
    }
  ]
}