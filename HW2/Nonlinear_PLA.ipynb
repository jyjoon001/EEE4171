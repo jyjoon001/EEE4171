{
  "nbformat": 4,
  "nbformat_minor": 0,
  "metadata": {
    "colab": {
      "name": "Nonlinear_PLA.ipynb",
      "provenance": [],
      "collapsed_sections": []
    },
    "kernelspec": {
      "name": "python3",
      "display_name": "Python 3"
    }
  },
  "cells": [
    {
      "cell_type": "code",
      "metadata": {
        "colab": {
          "base_uri": "https://localhost:8080/"
        },
        "id": "q5Kp5f2MKc8s",
        "outputId": "75f0907c-3985-46e5-dc6a-dd87052b5228"
      },
      "source": [
        "from google.colab import drive \r\n",
        "drive.mount('/content/gdrive')"
      ],
      "execution_count": 2,
      "outputs": [
        {
          "output_type": "stream",
          "text": [
            "Drive already mounted at /content/gdrive; to attempt to forcibly remount, call drive.mount(\"/content/gdrive\", force_remount=True).\n"
          ],
          "name": "stdout"
        }
      ]
    },
    {
      "cell_type": "code",
      "metadata": {
        "id": "cin77zqmRCen"
      },
      "source": [
        "import numpy as np\r\n",
        "import matplotlib.pyplot as plt\r\n",
        "import pandas as pd\r\n",
        "from sklearn import svm"
      ],
      "execution_count": 4,
      "outputs": []
    },
    {
      "cell_type": "code",
      "metadata": {
        "id": "aSe3BaHRWMf-"
      },
      "source": [
        "learning_rate=0.005"
      ],
      "execution_count": 76,
      "outputs": []
    },
    {
      "cell_type": "code",
      "metadata": {
        "id": "4_XF9GizKdq9"
      },
      "source": [
        "np.random.seed(0)\r\n",
        "filename = '/content/gdrive/MyDrive/aicomm/classification_data_nonlinear.csv'\r\n",
        "data = pd.read_csv(filename)"
      ],
      "execution_count": 77,
      "outputs": []
    },
    {
      "cell_type": "code",
      "metadata": {
        "id": "1a_5nnyYQ_rM"
      },
      "source": [
        "X1=data['X1']\r\n",
        "X2=data['X2']\r\n",
        "x=np.array(list(zip(X1,X2)))\r\n",
        "y=data['Y']"
      ],
      "execution_count": 78,
      "outputs": []
    },
    {
      "cell_type": "code",
      "metadata": {
        "colab": {
          "base_uri": "https://localhost:8080/",
          "height": 265
        },
        "id": "xyicu7oARG8P",
        "outputId": "6e938179-7bbb-4bcd-d401-b83e522bbc51"
      },
      "source": [
        "svc = svm.SVC(kernel='linear',C=learning_rate).fit(x,y)\r\n",
        "\r\n",
        "blu_data=y[y<0].index\r\n",
        "red_data=y[y>0].index\r\n",
        "plt.scatter(x[blu_data,0],x[blu_data,1],c='b',label = 'label : 1')\r\n",
        "plt.scatter(x[red_data,0],x[red_data,1],c='r',label = 'label : -1')\r\n",
        "\r\n",
        "X,Y = np.mgrid[0:20,0:20]\r\n",
        "Z = svc.decision_function(np.c_[X.ravel(),Y.ravel()]).reshape(X.shape)\r\n",
        "\r\n",
        "plt.contour(X,Y,Z,colors=['purple'], linestyles=['-'],levels=[0])\r\n",
        "legend = plt.legend(loc='best',fontsize=10,frameon=1,shadow=True, borderpad=1)\r\n",
        "plt.grid()"
      ],
      "execution_count": 79,
      "outputs": [
        {
          "output_type": "display_data",
          "data": {
            "image/png": "[encoded data removed]",
            "text/plain": [
              "<Figure size 432x288 with 1 Axes>"
            ]
          },
          "metadata": {
            "tags": [],
            "needs_background": "light"
          }
        }
      ]
    },
    {
      "cell_type": "code",
      "metadata": {
        "id": "wgyEzuHAYzU9"
      },
      "source": [
        ""
      ],
      "execution_count": 71,
      "outputs": []
    }
  ]
}