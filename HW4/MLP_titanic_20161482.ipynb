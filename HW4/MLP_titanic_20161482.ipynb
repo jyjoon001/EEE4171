{
  "nbformat": 4,
  "nbformat_minor": 0,
  "metadata": {
    "colab": {
      "name": "MLP_titanic.ipynb",
      "provenance": [],
      "collapsed_sections": []
    },
    "kernelspec": {
      "name": "python3",
      "display_name": "Python 3"
    },
    "language_info": {
      "name": "python"
    },
    "accelerator": "GPU"
  },
  "cells": [
    {
      "cell_type": "code",
      "metadata": {
        "colab": {
          "base_uri": "https://localhost:8080/"
        },
        "id": "zE0R0edNI3LT",
        "outputId": "0dd3cfaf-d5a2-4bba-a9d4-3f7f59fbad34"
      },
      "source": [
        "from google.colab import drive \n",
        "\n",
        "drive.mount('/content/gdrive')"
      ],
      "execution_count": null,
      "outputs": [
        {
          "output_type": "stream",
          "text": [
            "Mounted at /content/gdrive\n"
          ],
          "name": "stdout"
        }
      ]
    },
    {
      "cell_type": "code",
      "metadata": {
        "id": "hN59l0v_pmbJ"
      },
      "source": [
        "import numpy as np\n",
        "import pandas as pd\n",
        "import matplotlib.pyplot as plt\n",
        "\n",
        "from sklearn.model_selection import train_test_split\n",
        "from sklearn.preprocessing import StandardScaler"
      ],
      "execution_count": null,
      "outputs": []
    },
    {
      "cell_type": "code",
      "metadata": {
        "id": "1_fwbDxUpuCc"
      },
      "source": [
        "import torch\n",
        "import torch.nn as nn\n",
        "import torch.nn.functional as F\n",
        "import torch.optim as optim\n",
        "\n",
        "from torch.autograd import Variable\n",
        "from torch.utils.data import Dataset, DataLoader"
      ],
      "execution_count": null,
      "outputs": []
    },
    {
      "cell_type": "code",
      "metadata": {
        "id": "TZoB8ZleqR0C"
      },
      "source": [
        "filename_feature='/content/gdrive/MyDrive/aicomm/titanic_feature.csv' \n",
        "filename_survival='/content/gdrive/MyDrive/aicomm/titanic_survival.csv' \n",
        "\n",
        "features = pd.read_csv(filename_feature, index_col = 0)\n",
        "survival = pd.read_csv(filename_survival, index_col = 0)"
      ],
      "execution_count": null,
      "outputs": []
    },
    {
      "cell_type": "code",
      "metadata": {
        "id": "g3c3rfqTJRA2"
      },
      "source": [
        "train_features, test_features, train_labels, test_labels = train_test_split(features.values, survival.values, train_size = 0.8)\n",
        "\n",
        "train_labels = train_labels.reshape(-1)\n",
        "test_labels = test_labels.reshape(-1)\n",
        "\n",
        "\n",
        "scaler = StandardScaler()\n",
        "\n",
        "train_features = scaler.fit_transform(train_features)\n",
        "test_features = scaler.transform(test_features)\n",
        "\n",
        "test_length = test_features.shape[0]"
      ],
      "execution_count": null,
      "outputs": []
    },
    {
      "cell_type": "code",
      "metadata": {
        "id": "9SAoIBhnp7RX"
      },
      "source": [
        "class DataSet(Dataset):\n",
        "  def __init__(self, train_x, train_y):\n",
        "    self.X = train_x\n",
        "    self.y = train_y\n",
        "  def __getitem__(self, item):\n",
        "    x_t = self.X[item]\n",
        "    y_t = self.y[item]\n",
        "    return x_t, y_t\n",
        "  def __len__(self):\n",
        "    return len(self.X)"
      ],
      "execution_count": null,
      "outputs": []
    },
    {
      "cell_type": "code",
      "metadata": {
        "id": "v-7E9A4ejSEB"
      },
      "source": [
        "dataset_train = DataSet(train_features, train_labels)\n",
        "dataset_test = DataSet(test_features, test_labels)"
      ],
      "execution_count": null,
      "outputs": []
    },
    {
      "cell_type": "code",
      "metadata": {
        "id": "5B22Djqzhghl"
      },
      "source": [
        "batch_size = 1\n",
        "train_loader = DataLoader(dataset = dataset_train, batch_size = batch_size, shuffle = True)\n",
        "test_loader = DataLoader(dataset = dataset_test, batch_size = batch_size, shuffle = False)"
      ],
      "execution_count": null,
      "outputs": []
    },
    {
      "cell_type": "code",
      "metadata": {
        "id": "nFL13VXEJBDo"
      },
      "source": [
        "class Net(nn.Module):\n",
        "  def __init__(self):\n",
        "    super(Net, self).__init__()\n",
        "    self.fc1 = nn.Linear(in_features=4, out_features=4)\n",
        "    self.sigmoid = nn.Sigmoid()\n",
        "    self.fc2 = nn.Linear(in_features = 4, out_features = 4)\n",
        "    self.fc3 = nn.Linear(in_features = 4, out_features = 2)\n",
        "  def forward(self, x):\n",
        "    x = self.fc1(x)\n",
        "    x = self.sigmoid(x)\n",
        "    x = self.fc2(x)\n",
        "    x = self.sigmoid(x)\n",
        "    x = self.fc3(x)\n",
        "    return x.squeeze(1)"
      ],
      "execution_count": null,
      "outputs": []
    },
    {
      "cell_type": "code",
      "metadata": {
        "id": "4RUG0wBJJBGB"
      },
      "source": [
        "net = Net()\n",
        "device = torch.device('cuda:0' if torch.cuda.is_available() else 'cpu')\n",
        "net.to(device)\n",
        "\n",
        "criterion = nn.CrossEntropyLoss()\n",
        "optimizer = optim.Adam(net.parameters(), lr = 1e-3) \n",
        "training_loss = []"
      ],
      "execution_count": null,
      "outputs": []
    },
    {
      "cell_type": "code",
      "metadata": {
        "id": "CZ0seED0K5w7"
      },
      "source": [
        "def training_process(net, data_loader):\n",
        "  net.train()\n",
        "  train_loss = 0\n",
        "  loss = 0\n",
        "  for batch_idx, (data, label) in enumerate(data_loader):\n",
        "    data, label = Variable(data.float()).to(device), Variable(label.type(torch.LongTensor)).to(device)\n",
        "    optimizer.zero_grad()\n",
        "    \n",
        "    output = net.forward(data)\n",
        "    loss = criterion(output, label)\n",
        "    loss.backward()\n",
        "    train_loss += loss.item()\n",
        "    optimizer.step()\n",
        "\n",
        "  return net, train_loss"
      ],
      "execution_count": null,
      "outputs": []
    },
    {
      "cell_type": "code",
      "metadata": {
        "id": "h6eAsqadK7ak"
      },
      "source": [
        "def validation_process(net, data_loader):\n",
        "  net.eval()\n",
        "  with torch.no_grad():\n",
        "    accuracy_total = 0\n",
        "    for batch_idx, (data, label) in enumerate(data_loader):\n",
        "      data, label = Variable(data.float()).to(device), Variable(label.type(torch.LongTensor)).to(device)\n",
        "      output = net.forward(data)\n",
        "\n",
        "      if torch.argmax(output, 1) == label:\n",
        "        correct_prediction = 1\n",
        "      else:\n",
        "        correct_prediction = 0\n",
        "\n",
        "      accuracy_total += correct_prediction\n",
        "\n",
        "  return accuracy_total"
      ],
      "execution_count": null,
      "outputs": []
    },
    {
      "cell_type": "code",
      "metadata": {
        "id": "ckhSWT7iJBK-",
        "colab": {
          "base_uri": "https://localhost:8080/"
        },
        "outputId": "d4472fe9-bb16-4819-bc61-f55e705c259b"
      },
      "source": [
        "training_loss = []\n",
        "epochs = 50\n",
        "best_accuracy = 0\n",
        "for epoch in range(epochs):\n",
        "  net, train_loss = training_process(net, train_loader)\n",
        "\n",
        "  print('Epoch : %d // Loss : %.6f' %(epoch, train_loss))\n",
        "  training_loss.append(train_loss)\n",
        "\n",
        "  accuracy = validation_process(net, test_loader)\n",
        "  print('Accuracy:%.2f' %(100*accuracy/test_length))\n",
        "print(\"학습 끝!\")"
      ],
      "execution_count": null,
      "outputs": [
        {
          "output_type": "stream",
          "text": [
            "Epoch : 0 // Loss : 386.113181\n",
            "Accuracy:60.84\n",
            "Epoch : 1 // Loss : 380.687966\n",
            "Accuracy:60.84\n",
            "Epoch : 2 // Loss : 371.714733\n",
            "Accuracy:60.84\n",
            "Epoch : 3 // Loss : 357.230048\n",
            "Accuracy:65.73\n",
            "Epoch : 4 // Loss : 337.540441\n",
            "Accuracy:74.83\n",
            "Epoch : 5 // Loss : 316.452564\n",
            "Accuracy:74.83\n",
            "Epoch : 6 // Loss : 299.193523\n",
            "Accuracy:74.83\n",
            "Epoch : 7 // Loss : 286.891729\n",
            "Accuracy:74.83\n",
            "Epoch : 8 // Loss : 278.394322\n",
            "Accuracy:74.83\n",
            "Epoch : 9 // Loss : 272.984337\n",
            "Accuracy:74.13\n",
            "Epoch : 10 // Loss : 269.406835\n",
            "Accuracy:74.13\n",
            "Epoch : 11 // Loss : 266.915445\n",
            "Accuracy:74.13\n",
            "Epoch : 12 // Loss : 265.073746\n",
            "Accuracy:73.43\n",
            "Epoch : 13 // Loss : 263.621212\n",
            "Accuracy:74.13\n",
            "Epoch : 14 // Loss : 262.469111\n",
            "Accuracy:74.13\n",
            "Epoch : 15 // Loss : 261.232812\n",
            "Accuracy:74.83\n",
            "Epoch : 16 // Loss : 260.211599\n",
            "Accuracy:77.62\n",
            "Epoch : 17 // Loss : 259.250940\n",
            "Accuracy:77.62\n",
            "Epoch : 18 // Loss : 258.744844\n",
            "Accuracy:77.62\n",
            "Epoch : 19 // Loss : 257.483356\n",
            "Accuracy:76.22\n",
            "Epoch : 20 // Loss : 256.493450\n",
            "Accuracy:78.32\n",
            "Epoch : 21 // Loss : 256.947990\n",
            "Accuracy:77.62\n",
            "Epoch : 22 // Loss : 256.377010\n",
            "Accuracy:75.52\n",
            "Epoch : 23 // Loss : 255.536671\n",
            "Accuracy:74.83\n",
            "Epoch : 24 // Loss : 255.472374\n",
            "Accuracy:76.92\n",
            "Epoch : 25 // Loss : 254.874022\n",
            "Accuracy:77.62\n",
            "Epoch : 26 // Loss : 254.370438\n",
            "Accuracy:76.92\n",
            "Epoch : 27 // Loss : 253.765295\n",
            "Accuracy:76.22\n",
            "Epoch : 28 // Loss : 253.563408\n",
            "Accuracy:77.62\n",
            "Epoch : 29 // Loss : 253.166576\n",
            "Accuracy:77.62\n",
            "Epoch : 30 // Loss : 252.971125\n",
            "Accuracy:77.62\n",
            "Epoch : 31 // Loss : 252.536709\n",
            "Accuracy:77.62\n",
            "Epoch : 32 // Loss : 252.056709\n",
            "Accuracy:78.32\n",
            "Epoch : 33 // Loss : 251.953371\n",
            "Accuracy:77.62\n",
            "Epoch : 34 // Loss : 251.134817\n",
            "Accuracy:78.32\n",
            "Epoch : 35 // Loss : 250.305499\n",
            "Accuracy:75.52\n",
            "Epoch : 36 // Loss : 250.635992\n",
            "Accuracy:75.52\n",
            "Epoch : 37 // Loss : 250.443428\n",
            "Accuracy:76.22\n",
            "Epoch : 38 // Loss : 250.107855\n",
            "Accuracy:75.52\n",
            "Epoch : 39 // Loss : 249.896264\n",
            "Accuracy:76.92\n",
            "Epoch : 40 // Loss : 249.326566\n",
            "Accuracy:75.52\n",
            "Epoch : 41 // Loss : 248.997403\n",
            "Accuracy:75.52\n",
            "Epoch : 42 // Loss : 248.698367\n",
            "Accuracy:75.52\n",
            "Epoch : 43 // Loss : 248.440479\n",
            "Accuracy:76.92\n",
            "Epoch : 44 // Loss : 248.549862\n",
            "Accuracy:74.13\n",
            "Epoch : 45 // Loss : 247.732480\n",
            "Accuracy:74.13\n",
            "Epoch : 46 // Loss : 247.400656\n",
            "Accuracy:75.52\n",
            "Epoch : 47 // Loss : 246.919835\n",
            "Accuracy:74.13\n",
            "Epoch : 48 // Loss : 246.432009\n",
            "Accuracy:74.83\n",
            "Epoch : 49 // Loss : 246.465059\n",
            "Accuracy:74.13\n",
            "학습 끝!\n"
          ],
          "name": "stdout"
        }
      ]
    },
    {
      "cell_type": "code",
      "metadata": {
        "id": "9TTTpc8Zd4ia"
      },
      "source": [
        ""
      ],
      "execution_count": null,
      "outputs": []
    }
  ]
}