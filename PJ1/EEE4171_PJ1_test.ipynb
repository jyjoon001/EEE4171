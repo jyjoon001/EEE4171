{
  "nbformat": 4,
  "nbformat_minor": 0,
  "metadata": {
    "colab": {
      "name": "test.ipynb",
      "provenance": [],
      "collapsed_sections": []
    },
    "kernelspec": {
      "name": "python3",
      "display_name": "Python 3"
    },
    "language_info": {
      "name": "python"
    },
    "accelerator": "GPU",
    "widgets": {
      "application/vnd.jupyter.widget-state+json": {
        "04f22b776a9d43359b3abd5b19e43ba2": {
          "model_module": "@jupyter-widgets/controls",
          "model_name": "HBoxModel",
          "state": {
            "_view_name": "HBoxView",
            "_dom_classes": [],
            "_model_name": "HBoxModel",
            "_view_module": "@jupyter-widgets/controls",
            "_model_module_version": "1.5.0",
            "_view_count": null,
            "_view_module_version": "1.5.0",
            "box_style": "",
            "layout": "IPY_MODEL_5e08715561294dde9e810d4beffed493",
            "_model_module": "@jupyter-widgets/controls",
            "children": [
              "IPY_MODEL_5adf14d85d7843a186a7314e2d10f432",
              "IPY_MODEL_6df376c438bc474f8a90e680709c9782"
            ]
          }
        },
        "5e08715561294dde9e810d4beffed493": {
          "model_module": "@jupyter-widgets/base",
          "model_name": "LayoutModel",
          "state": {
            "_view_name": "LayoutView",
            "grid_template_rows": null,
            "right": null,
            "justify_content": null,
            "_view_module": "@jupyter-widgets/base",
            "overflow": null,
            "_model_module_version": "1.2.0",
            "_view_count": null,
            "flex_flow": null,
            "width": null,
            "min_width": null,
            "border": null,
            "align_items": null,
            "bottom": null,
            "_model_module": "@jupyter-widgets/base",
            "top": null,
            "grid_column": null,
            "overflow_y": null,
            "overflow_x": null,
            "grid_auto_flow": null,
            "grid_area": null,
            "grid_template_columns": null,
            "flex": null,
            "_model_name": "LayoutModel",
            "justify_items": null,
            "grid_row": null,
            "max_height": null,
            "align_content": null,
            "visibility": null,
            "align_self": null,
            "height": null,
            "min_height": null,
            "padding": null,
            "grid_auto_rows": null,
            "grid_gap": null,
            "max_width": null,
            "order": null,
            "_view_module_version": "1.2.0",
            "grid_template_areas": null,
            "object_position": null,
            "object_fit": null,
            "grid_auto_columns": null,
            "margin": null,
            "display": null,
            "left": null
          }
        },
        "5adf14d85d7843a186a7314e2d10f432": {
          "model_module": "@jupyter-widgets/controls",
          "model_name": "FloatProgressModel",
          "state": {
            "_view_name": "ProgressView",
            "style": "IPY_MODEL_8df2305d536e4127a4c341ccabccbff1",
            "_dom_classes": [],
            "description": "100%",
            "_model_name": "FloatProgressModel",
            "bar_style": "success",
            "max": 46827520,
            "_view_module": "@jupyter-widgets/controls",
            "_model_module_version": "1.5.0",
            "value": 46827520,
            "_view_count": null,
            "_view_module_version": "1.5.0",
            "orientation": "horizontal",
            "min": 0,
            "description_tooltip": null,
            "_model_module": "@jupyter-widgets/controls",
            "layout": "IPY_MODEL_f6cd767f52ed4f31b1e2746c99165489"
          }
        },
        "6df376c438bc474f8a90e680709c9782": {
          "model_module": "@jupyter-widgets/controls",
          "model_name": "HTMLModel",
          "state": {
            "_view_name": "HTMLView",
            "style": "IPY_MODEL_ad87f04013004c86ae2314d7fdbc2380",
            "_dom_classes": [],
            "description": "",
            "_model_name": "HTMLModel",
            "placeholder": "​",
            "_view_module": "@jupyter-widgets/controls",
            "_model_module_version": "1.5.0",
            "value": " 44.7M/44.7M [00:51&lt;00:00, 905kB/s]",
            "_view_count": null,
            "_view_module_version": "1.5.0",
            "description_tooltip": null,
            "_model_module": "@jupyter-widgets/controls",
            "layout": "IPY_MODEL_cde30bf8da604fd8bd44b3fa54dab7ca"
          }
        },
        "8df2305d536e4127a4c341ccabccbff1": {
          "model_module": "@jupyter-widgets/controls",
          "model_name": "ProgressStyleModel",
          "state": {
            "_view_name": "StyleView",
            "_model_name": "ProgressStyleModel",
            "description_width": "initial",
            "_view_module": "@jupyter-widgets/base",
            "_model_module_version": "1.5.0",
            "_view_count": null,
            "_view_module_version": "1.2.0",
            "bar_color": null,
            "_model_module": "@jupyter-widgets/controls"
          }
        },
        "f6cd767f52ed4f31b1e2746c99165489": {
          "model_module": "@jupyter-widgets/base",
          "model_name": "LayoutModel",
          "state": {
            "_view_name": "LayoutView",
            "grid_template_rows": null,
            "right": null,
            "justify_content": null,
            "_view_module": "@jupyter-widgets/base",
            "overflow": null,
            "_model_module_version": "1.2.0",
            "_view_count": null,
            "flex_flow": null,
            "width": null,
            "min_width": null,
            "border": null,
            "align_items": null,
            "bottom": null,
            "_model_module": "@jupyter-widgets/base",
            "top": null,
            "grid_column": null,
            "overflow_y": null,
            "overflow_x": null,
            "grid_auto_flow": null,
            "grid_area": null,
            "grid_template_columns": null,
            "flex": null,
            "_model_name": "LayoutModel",
            "justify_items": null,
            "grid_row": null,
            "max_height": null,
            "align_content": null,
            "visibility": null,
            "align_self": null,
            "height": null,
            "min_height": null,
            "padding": null,
            "grid_auto_rows": null,
            "grid_gap": null,
            "max_width": null,
            "order": null,
            "_view_module_version": "1.2.0",
            "grid_template_areas": null,
            "object_position": null,
            "object_fit": null,
            "grid_auto_columns": null,
            "margin": null,
            "display": null,
            "left": null
          }
        },
        "ad87f04013004c86ae2314d7fdbc2380": {
          "model_module": "@jupyter-widgets/controls",
          "model_name": "DescriptionStyleModel",
          "state": {
            "_view_name": "StyleView",
            "_model_name": "DescriptionStyleModel",
            "description_width": "",
            "_view_module": "@jupyter-widgets/base",
            "_model_module_version": "1.5.0",
            "_view_count": null,
            "_view_module_version": "1.2.0",
            "_model_module": "@jupyter-widgets/controls"
          }
        },
        "cde30bf8da604fd8bd44b3fa54dab7ca": {
          "model_module": "@jupyter-widgets/base",
          "model_name": "LayoutModel",
          "state": {
            "_view_name": "LayoutView",
            "grid_template_rows": null,
            "right": null,
            "justify_content": null,
            "_view_module": "@jupyter-widgets/base",
            "overflow": null,
            "_model_module_version": "1.2.0",
            "_view_count": null,
            "flex_flow": null,
            "width": null,
            "min_width": null,
            "border": null,
            "align_items": null,
            "bottom": null,
            "_model_module": "@jupyter-widgets/base",
            "top": null,
            "grid_column": null,
            "overflow_y": null,
            "overflow_x": null,
            "grid_auto_flow": null,
            "grid_area": null,
            "grid_template_columns": null,
            "flex": null,
            "_model_name": "LayoutModel",
            "justify_items": null,
            "grid_row": null,
            "max_height": null,
            "align_content": null,
            "visibility": null,
            "align_self": null,
            "height": null,
            "min_height": null,
            "padding": null,
            "grid_auto_rows": null,
            "grid_gap": null,
            "max_width": null,
            "order": null,
            "_view_module_version": "1.2.0",
            "grid_template_areas": null,
            "object_position": null,
            "object_fit": null,
            "grid_auto_columns": null,
            "margin": null,
            "display": null,
            "left": null
          }
        }
      }
    }
  },
  "cells": [
    {
      "cell_type": "code",
      "metadata": {
        "id": "XyiXzBdbA3FQ"
      },
      "source": [
        "#initialize\n",
        "import numpy as np\n",
        "import pandas as pd\n",
        "\n",
        "import torch\n",
        "import torch.nn as nn\n",
        "import torch.nn.functional as F\n",
        "import torch.optim as optim\n",
        "import torchvision \n",
        "import torchvision.transforms as transforms \n",
        "from torch.autograd import Variable\n",
        "from torch.utils.data import Dataset, DataLoader\n",
        " \n",
        "import time\n",
        "import matplotlib\n",
        "import matplotlib.pyplot as plt\n",
        "from matplotlib.pyplot import imshow\n",
        "\n",
        "from sklearn.model_selection import train_test_split\n",
        "from sklearn.preprocessing import StandardScaler\n",
        " \n",
        "device = torch.device('cuda' if torch.cuda.is_available() else 'cpu')\n",
        "\n",
        " #hyperparameters data size 28*28*1, 10 classes\n",
        "num_classes = 10\n",
        "in_channel = 1\n",
        "learning_rate = 0.001\n",
        "batch_size = 128\n",
        "num_epochs = 30"
      ],
      "execution_count": 1,
      "outputs": []
    },
    {
      "cell_type": "code",
      "metadata": {
        "id": "F8SHuVPEATSS",
        "colab": {
          "base_uri": "https://localhost:8080/",
          "height": 104,
          "referenced_widgets": [
            "04f22b776a9d43359b3abd5b19e43ba2",
            "5e08715561294dde9e810d4beffed493",
            "5adf14d85d7843a186a7314e2d10f432",
            "6df376c438bc474f8a90e680709c9782",
            "8df2305d536e4127a4c341ccabccbff1",
            "f6cd767f52ed4f31b1e2746c99165489",
            "ad87f04013004c86ae2314d7fdbc2380",
            "cde30bf8da604fd8bd44b3fa54dab7ca"
          ]
        },
        "outputId": "3cfc115c-bdaa-44d5-9ba2-58490c76a46e"
      },
      "source": [
        "from torchvision import models\n",
        "\n",
        "resnet18 = models.resnet18(pretrained=True)"
      ],
      "execution_count": 2,
      "outputs": [
        {
          "output_type": "stream",
          "text": [
            "Downloading: \"https://download.pytorch.org/models/resnet18-5c106cde.pth\" to /root/.cache/torch/hub/checkpoints/resnet18-5c106cde.pth\n"
          ],
          "name": "stderr"
        },
        {
          "output_type": "display_data",
          "data": {
            "application/vnd.jupyter.widget-view+json": {
              "model_id": "04f22b776a9d43359b3abd5b19e43ba2",
              "version_minor": 0,
              "version_major": 2
            },
            "text/plain": [
              "HBox(children=(FloatProgress(value=0.0, max=46827520.0), HTML(value='')))"
            ]
          },
          "metadata": {
            "tags": []
          }
        },
        {
          "output_type": "stream",
          "text": [
            "\n"
          ],
          "name": "stdout"
        }
      ]
    },
    {
      "cell_type": "code",
      "metadata": {
        "id": "YRc3Uz1pAxYg"
      },
      "source": [
        "class ResNet(nn.Module):\n",
        "  def __init__(self, in_channels, resnet18, num_classes):\n",
        "    super(ResNet, self).__init__()\n",
        "    self.model = resnet18\n",
        "    self.model.conv1 = nn.Conv2d(1, 64, 3)\n",
        "    self.model.fc = nn.Linear(512, num_classes)\n",
        "\n",
        "  def forward(self, x):\n",
        "    x = self.model(x)\n",
        "    return x"
      ],
      "execution_count": 3,
      "outputs": []
    },
    {
      "cell_type": "code",
      "metadata": {
        "id": "cxvsibOgAyyN"
      },
      "source": [
        "model = ResNet(in_channel,resnet18,num_classes).to(device)\n",
        "#Loss, Optimizer, LR scheduler\n",
        "criterion = nn.CrossEntropyLoss()\n",
        "optimizer = torch.optim.Adagrad(model.parameters(), lr=learning_rate, weight_decay=0.1)"
      ],
      "execution_count": 4,
      "outputs": []
    },
    {
      "cell_type": "code",
      "metadata": {
        "id": "ddi02bfXBIx_"
      },
      "source": [
        "transforms_transform = transforms.Compose([transforms.ToTensor(),\n",
        "                                transforms.Normalize((0.5,0.5,0.5),(0.5,0.5,0.5))\n",
        "])\n",
        "\n",
        "class DataSet(Dataset):\n",
        "  def __init__(self, train_x, train_y, transform=transforms_transform):\n",
        "    self.X = train_x\n",
        "    self.y = train_y\n",
        "    self.transform = transform      \n",
        "\n",
        "  def __getitem__(self, item):\n",
        "    x_t = torch.Tensor(self.X[item])\n",
        "    y_t = self.y[item]\n",
        "    return (x_t, int(y_t))\n",
        "  def __len__(self):\n",
        "    return len(self.X)"
      ],
      "execution_count": 5,
      "outputs": []
    },
    {
      "cell_type": "code",
      "metadata": {
        "colab": {
          "base_uri": "https://localhost:8080/"
        },
        "id": "GbV8Ucc8-oUp",
        "outputId": "c5f9aed6-bd1f-4284-dc8c-69d7d009856d"
      },
      "source": [
        "from google.colab import drive \n",
        "\n",
        "drive.mount('/content/gdrive')"
      ],
      "execution_count": 6,
      "outputs": [
        {
          "output_type": "stream",
          "text": [
            "Mounted at /content/gdrive\n"
          ],
          "name": "stdout"
        }
      ]
    },
    {
      "cell_type": "code",
      "metadata": {
        "id": "OQsZYiwvAzzl"
      },
      "source": [
        "#load test_data from csv\n",
        "\n",
        "csv_test ='/content/AIcomm_project_1_test.csv' \n",
        "\n",
        "cols = list(pd.read_csv(csv_test, nrows =1))\n",
        "scaler = StandardScaler()\n",
        "\n",
        "csv_test_features = pd.read_csv(csv_test, index_col = 0, usecols =[i for i in cols if i != 'label'])\n",
        "csv_test_labels = pd.read_csv(csv_test, index_col = 0, usecols=[0, 1])\n",
        "\n",
        "test_features = csv_test_features.values\n",
        "test_features = scaler.fit_transform(test_features)\n",
        "\n",
        "test_labels = csv_test_labels.values\n",
        "\"\"\"test_labels = test_labels.reshape(-1)\"\"\"\n",
        "\n",
        "test_features = test_features.reshape(10000,1,28,28)\n",
        "\n",
        "dataset_test = DataSet(test_features, test_labels)\n",
        "\n",
        "test_loader = DataLoader(dataset = dataset_test, batch_size = batch_size, shuffle = False)"
      ],
      "execution_count": 8,
      "outputs": []
    },
    {
      "cell_type": "code",
      "metadata": {
        "id": "I4Mp1ZA4EJ0X"
      },
      "source": [
        "#load trained model and evaluate model on test data\n",
        "test_model = ResNet(1,resnet18,10).to(device)\n",
        "test_model.load_state_dict(torch.load('/content/gdrive/MyDrive/Fassion_Classification.pth'))\n",
        "test_model.eval()\n",
        "with torch.no_grad():\n",
        "  correct = 0\n",
        "  for image, label in test_loader:\n",
        "    image = image.to(device)\n",
        "    label = label.to(device)\n",
        "    out = model(image)\n",
        "    _, pred = torch.max(out.data, 1)\n",
        "    correct += (pred == label).sum().item()\n",
        "  print(\"Accuracy of the network on the {} test images: {}%\".format(len(test_loader)*batch_size, 100 * correct / (len(test_loader) * batch_size)))"
      ],
      "execution_count": null,
      "outputs": []
    }
  ]
}