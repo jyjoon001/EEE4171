{
  "nbformat": 4,
  "nbformat_minor": 0,
  "metadata": {
    "colab": {
      "name": "Project2_check_IID.ipynb",
      "provenance": [],
      "collapsed_sections": []
    },
    "kernelspec": {
      "name": "python3",
      "display_name": "Python 3"
    },
    "language_info": {
      "name": "python"
    },
    "accelerator": "GPU"
  },
  "cells": [
    {
      "cell_type": "code",
      "metadata": {
        "id": "XyiXzBdbA3FQ"
      },
      "source": [
        "#initialize\n",
        "import numpy as np\n",
        "import pandas as pd\n",
        "\n",
        "import torch\n",
        "import torch.nn as nn\n",
        "import torch.nn.functional as F\n",
        "import torch.optim as optim\n",
        "import torchvision \n",
        "import torchvision.transforms as transforms \n",
        "from torch.autograd import Variable\n",
        "from torch.utils.data import Dataset, DataLoader\n",
        " \n",
        "import time\n",
        "import matplotlib\n",
        "import matplotlib.pyplot as plt\n",
        "from matplotlib.pyplot import imshow\n",
        "\n",
        "from sklearn.model_selection import train_test_split\n",
        "from sklearn.preprocessing import StandardScaler\n",
        " \n",
        "device = torch.device('cuda' if torch.cuda.is_available() else 'cpu')\n",
        "\n",
        " #hyperparameters data size 28*28*1, 10 classes\n",
        "num_classes = 10\n",
        "in_channel = 1\n",
        "learning_rate = 0.001\n",
        "batch_size = 128\n",
        "num_epochs = 30"
      ],
      "execution_count": null,
      "outputs": []
    },
    {
      "cell_type": "code",
      "metadata": {
        "colab": {
          "base_uri": "https://localhost:8080/"
        },
        "id": "GbV8Ucc8-oUp",
        "outputId": "1193b1c5-4ddd-4742-9348-d397798b044a"
      },
      "source": [
        "from google.colab import drive \n",
        "\n",
        "drive.mount('/content/gdrive')"
      ],
      "execution_count": null,
      "outputs": [
        {
          "output_type": "stream",
          "text": [
            "Mounted at /content/gdrive\n"
          ],
          "name": "stdout"
        }
      ]
    },
    {
      "cell_type": "code",
      "metadata": {
        "id": "gvi2Ixabh0XK"
      },
      "source": [
        "csv_dataset1_train_alice1 ='/content/gdrive/MyDrive/dataset1/AIcomm_project_2_train_alice_1.csv'\n",
        "csv_dataset1_train_john1 ='/content/gdrive/MyDrive/dataset1/AIcomm_project_2_train_john_1.csv'\n",
        "csv_dataset1_train_peter1 ='/content/gdrive/MyDrive/dataset1/AIcomm_project_2_train_peter_1.csv'\n",
        "csv_dataset2_train_alice2 ='/content/gdrive/MyDrive/dataset2/AIcomm_project_2_train_alice_2.csv'\n",
        "csv_dataset2_train_john2 ='/content/gdrive/MyDrive/dataset2/AIcomm_project_2_train_john_2.csv'\n",
        "csv_dataset2_train_peter2 ='/content/gdrive/MyDrive/dataset2/AIcomm_project_2_train_peter_2.csv'\n",
        "\n",
        "cols_dataset1_train_alice1 = list(pd.read_csv(csv_dataset1_train_alice1, nrows =1))\n",
        "cols_dataset1_train_john1 = list(pd.read_csv(csv_dataset1_train_john1, nrows =1))\n",
        "cols_dataset1_train_peter1 = list(pd.read_csv(csv_dataset1_train_peter1, nrows =1))\n",
        "cols_dataset2_train_alice2 = list(pd.read_csv(csv_dataset2_train_alice2, nrows =1))\n",
        "cols_dataset2_train_john2 = list(pd.read_csv(csv_dataset2_train_john2, nrows =1))\n",
        "cols_dataset2_train_peter2 = list(pd.read_csv(csv_dataset2_train_peter2, nrows =1))\n",
        "\n",
        "\n",
        "\n",
        "csv_features_alice1 = pd.read_csv(csv_dataset1_train_alice1, index_col = 0, usecols =[i for i in cols_dataset1_train_alice1 if i != 'label'])\n",
        "csv_label_alice1 = pd.read_csv(csv_dataset1_train_alice1, index_col = 0, usecols=[0, 1])\n",
        "csv_features_john1 = pd.read_csv(csv_dataset1_train_john1, index_col = 0, usecols =[i for i in cols_dataset1_train_john1 if i != 'label'])\n",
        "csv_label_john1 = pd.read_csv(csv_dataset1_train_john1, index_col = 0, usecols=[0, 1])\n",
        "csv_features_peter1 = pd.read_csv(csv_dataset1_train_peter1, index_col = 0, usecols =[i for i in cols_dataset1_train_peter1 if i != 'label'])\n",
        "csv_label_peter1 = pd.read_csv(csv_dataset1_train_peter1, index_col = 0, usecols=[0, 1])\n",
        "\n",
        "csv_features_alice2 = pd.read_csv(csv_dataset2_train_alice2, index_col = 0, usecols =[i for i in cols_dataset2_train_alice2 if i != 'label'])\n",
        "csv_label_alice2 = pd.read_csv(csv_dataset2_train_alice2, index_col = 0, usecols=[0, 1])\n",
        "csv_features_john2 = pd.read_csv(csv_dataset2_train_john2, index_col = 0, usecols =[i for i in cols_dataset2_train_john2 if i != 'label'])\n",
        "csv_label_john2 = pd.read_csv(csv_dataset2_train_john2, index_col = 0, usecols=[0, 1])\n",
        "csv_features_peter2 = pd.read_csv(csv_dataset2_train_peter2, index_col = 0, usecols =[i for i in cols_dataset2_train_peter2 if i != 'label'])\n",
        "csv_label_peter2 = pd.read_csv(csv_dataset2_train_peter2, index_col = 0, usecols=[0, 1])"
      ],
      "execution_count": null,
      "outputs": []
    },
    {
      "cell_type": "code",
      "metadata": {
        "colab": {
          "base_uri": "https://localhost:8080/"
        },
        "id": "Uv27RixChK-H",
        "outputId": "a58fb689-51a3-4292-eb7e-5aeadee32b94"
      },
      "source": [
        "count_class = []\n",
        "labels = [csv_label_alice1,csv_label_john1,csv_label_peter1,csv_label_alice2,csv_label_john2,csv_label_peter2]\n",
        "name_labels = [\"csv_label_alice1\",\"csv_label_john1\",\"csv_label_peter1\",\"csv_label_alice2\",\"csv_label_john2\",\"csv_label_peter2\"]\n",
        "counter = 0;\n",
        "\n",
        "for i in range(10):\n",
        "    count_class.append(0)\n",
        "\n",
        "for lab in labels:\n",
        "    for i in range(lab.shape[0]):\n",
        "        label = lab.values[i][0]\n",
        "        count_class[label] = count_class[label] + 1\n",
        "    print(name_labels[counter], \" :  \", count_class,\" \\n\")\n",
        "    count_class = []\n",
        "    for i in range(10):\n",
        "        count_class.append(0)\n",
        "    counter = counter +1"
      ],
      "execution_count": null,
      "outputs": [
        {
          "output_type": "stream",
          "text": [
            "csv_label_alice1  :   [2002, 1947, 2026, 2048, 1999, 1965, 2051, 1980, 1927, 2055]  \n",
            "\n",
            "csv_label_john1  :   [1952, 2053, 2046, 1983, 1988, 2003, 2017, 1966, 2046, 1946]  \n",
            "\n",
            "csv_label_peter1  :   [2008, 2034, 1971, 1977, 2048, 2035, 1947, 2020, 1943, 2017]  \n",
            "\n",
            "csv_label_alice2  :   [5978, 5985, 6023, 0, 0, 0, 0, 0, 0, 2014]  \n",
            "\n",
            "csv_label_john2  :   [0, 0, 0, 0, 0, 0, 5963, 5961, 6065, 2011]  \n",
            "\n",
            "csv_label_peter2  :   [0, 0, 0, 6067, 5979, 5983, 0, 0, 0, 1971]  \n",
            "\n"
          ],
          "name": "stdout"
        }
      ]
    },
    {
      "cell_type": "code",
      "metadata": {
        "colab": {
          "base_uri": "https://localhost:8080/"
        },
        "id": "dY6jl_iUIy9B",
        "outputId": "14ba1826-5f09-446b-e854-cdffa54deb34"
      },
      "source": [
        "csv_data ='/content/gdrive/MyDrive/AIcomm_project_2_test.csv'\n",
        "\n",
        "cols = list(pd.read_csv(csv_data, nrows =1))\n",
        "\n",
        "csv_features = pd.read_csv(csv_data, index_col = 0, usecols =[i for i in cols if i != 'label'])\n",
        "csv_label = pd.read_csv(csv_data, index_col = 0, usecols=[0, 1])\n",
        "\n",
        "count_class = []\n",
        "\n",
        "for i in range(num_classes):\n",
        "    count_class.append(0)\n",
        "\n",
        "for i in range(csv_label.shape[0]):\n",
        "    label = csv_label.values[i][0]\n",
        "    count_class[label] = count_class[label] + 1\n",
        "\n",
        "print(\"csv_test_label :  \", count_class,\" \\n\")"
      ],
      "execution_count": null,
      "outputs": [
        {
          "output_type": "stream",
          "text": [
            "csv_test_label :   [1038, 966, 957, 992, 965, 997, 985, 1034, 1084, 982]  \n",
            "\n"
          ],
          "name": "stdout"
        }
      ]
    }
  ]
}