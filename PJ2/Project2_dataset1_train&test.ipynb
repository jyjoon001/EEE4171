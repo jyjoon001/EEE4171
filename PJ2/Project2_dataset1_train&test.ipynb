{
  "nbformat": 4,
  "nbformat_minor": 0,
  "metadata": {
    "colab": {
      "name": "Project2_dataset1_train&test.ipynb",
      "provenance": [],
      "collapsed_sections": []
    },
    "kernelspec": {
      "name": "python3",
      "display_name": "Python 3"
    },
    "language_info": {
      "name": "python"
    },
    "accelerator": "GPU"
  },
  "cells": [
    {
      "cell_type": "code",
      "metadata": {
        "id": "StBcw6mNCuFi"
      },
      "source": [
        "#initialize\n",
        "import numpy as np\n",
        "import pandas as pd\n",
        "\n",
        "import torch\n",
        "import torch.nn as nn\n",
        "import torch.nn.functional as F\n",
        "import torch.optim as optim\n",
        "import torchvision \n",
        "import torchvision.transforms as transforms \n",
        "from torch.autograd import Variable\n",
        "from torch.utils.data import Dataset, DataLoader\n",
        " \n",
        "import time\n",
        "import matplotlib\n",
        "import matplotlib.pyplot as plt\n",
        "from matplotlib.pyplot import imshow\n",
        "\n",
        "from sklearn.model_selection import train_test_split\n",
        "from sklearn.preprocessing import StandardScaler\n",
        " \n",
        "device = torch.device('cuda' if torch.cuda.is_available() else 'cpu')\n",
        " \n",
        "#hyperparameters\n",
        "num_classes = 10\n",
        "in_channel = 1\n",
        "learning_rate = 0.001\n",
        "batch_size = 128\n",
        "num_epochs = 10"
      ],
      "execution_count": null,
      "outputs": []
    },
    {
      "cell_type": "code",
      "metadata": {
        "id": "cuJ97e3PCwMc",
        "colab": {
          "base_uri": "https://localhost:8080/"
        },
        "outputId": "d47fb2b1-8ce7-41eb-f5ba-f249a0b847b8"
      },
      "source": [
        "from google.colab import drive \n",
        "\n",
        "drive.mount('/content/gdrive')"
      ],
      "execution_count": null,
      "outputs": [
        {
          "output_type": "stream",
          "text": [
            "Mounted at /content/gdrive\n"
          ],
          "name": "stdout"
        }
      ]
    },
    {
      "cell_type": "code",
      "metadata": {
        "id": "LN57CWANjByA"
      },
      "source": [
        "#load train_data from csv\n",
        "\n",
        "csv_dataset1_train_alice1 ='/content/gdrive/MyDrive/dataset1/AIcomm_project_2_train_alice_1.csv'\n",
        "csv_dataset1_train_john1 ='/content/gdrive/MyDrive/dataset1/AIcomm_project_2_train_john_1.csv'\n",
        "csv_dataset1_train_peter1 ='/content/gdrive/MyDrive/dataset1/AIcomm_project_2_train_peter_1.csv'\n",
        "\n",
        "cols_dataset1_train_alice1 = list(pd.read_csv(csv_dataset1_train_alice1, nrows =1))\n",
        "cols_dataset1_train_john1 = list(pd.read_csv(csv_dataset1_train_john1, nrows =1))\n",
        "cols_dataset1_train_peter1 = list(pd.read_csv(csv_dataset1_train_peter1, nrows =1))\n",
        "\n",
        "csv_features_alice1 = pd.read_csv(csv_dataset1_train_alice1, index_col = 0, usecols =[i for i in cols_dataset1_train_alice1 if i != 'label'])\n",
        "csv_label_alice1 = pd.read_csv(csv_dataset1_train_alice1, index_col = 0, usecols=[0, 1])\n",
        "csv_features_john1 = pd.read_csv(csv_dataset1_train_john1, index_col = 0, usecols =[i for i in cols_dataset1_train_john1 if i != 'label'])\n",
        "csv_label_john1 = pd.read_csv(csv_dataset1_train_john1, index_col = 0, usecols=[0, 1])\n",
        "csv_features_peter1 = pd.read_csv(csv_dataset1_train_peter1, index_col = 0, usecols =[i for i in cols_dataset1_train_peter1 if i != 'label'])\n",
        "csv_label_peter1 = pd.read_csv(csv_dataset1_train_peter1, index_col = 0, usecols=[0, 1])\n",
        "\n",
        "#pd.concat for CL dataset\n",
        "csv_features_1 = pd.concat([csv_features_alice1, csv_features_john1,csv_features_peter1])\n",
        "csv_label_1 = pd.concat([csv_label_alice1, csv_label_john1,csv_label_peter1])\n"
      ],
      "execution_count": null,
      "outputs": []
    },
    {
      "cell_type": "code",
      "metadata": {
        "id": "NWqVFuO2DESd"
      },
      "source": [
        "# train , validation 데이터 분리\n",
        "scaler = StandardScaler()\n",
        "\n",
        "train_features_1, valid_features_1, train_labels_1, valid_labels_1 = train_test_split(csv_features_1.values, csv_label_1.values, train_size = 0.8)\n",
        "\n",
        "train_features_1 = scaler.fit_transform(train_features_1)\n",
        "valid_features_1 = scaler.transform(valid_features_1)\n",
        "\n",
        "train_features_1 = train_features_1.reshape(-1, 1, 28, 28)\n",
        "valid_features_1 = valid_features_1.reshape(-1, 1, 28, 28)\n",
        "\n",
        "#alice\n",
        "train_features_alice1, valid_features_alice1, train_labels_alice1, valid_labels_alice1 = train_test_split(csv_features_alice1.values, csv_label_alice1.values, train_size = 0.8)\n",
        "\n",
        "train_features_alice1 = scaler.fit_transform(train_features_alice1)\n",
        "valid_features_alice1 = scaler.transform(valid_features_alice1)\n",
        "\n",
        "train_features_alice1 = train_features_alice1.reshape(-1, 1, 28, 28)\n",
        "valid_features_alice1 = valid_features_alice1.reshape(-1, 1, 28, 28)\n",
        "\n",
        "#john\n",
        "train_features_john1, valid_features_john1, train_labels_john1, valid_labels_john1 = train_test_split(csv_features_john1.values, csv_label_john1.values, train_size = 0.8)\n",
        "\n",
        "train_features_john1 = scaler.fit_transform(train_features_john1)\n",
        "valid_features_john1 = scaler.transform(valid_features_john1)\n",
        "\n",
        "train_features_john1 = train_features_john1.reshape(-1, 1, 28, 28)\n",
        "valid_features_john1 = valid_features_john1.reshape(-1, 1, 28, 28)\n",
        "\n",
        "\n",
        "\n",
        "#peter\n",
        "train_features_peter1, valid_features_peter1, train_labels_peter1, valid_labels_peter1 = train_test_split(csv_features_peter1.values, csv_label_peter1.values, train_size = 0.8)\n",
        "\n",
        "train_features_peter1 = scaler.fit_transform(train_features_peter1)\n",
        "valid_features_peter1 = scaler.transform(valid_features_peter1)\n",
        "\n",
        "train_features_peter1 = train_features_peter1.reshape(-1, 1, 28, 28)\n",
        "valid_features_peter1 = valid_features_peter1.reshape(-1, 1, 28, 28)"
      ],
      "execution_count": null,
      "outputs": []
    },
    {
      "cell_type": "code",
      "metadata": {
        "id": "OJCXCQjvC5WZ"
      },
      "source": [
        "class DataSet(Dataset):\n",
        "  def __init__(self, train_x, train_y, transform=transforms.ToTensor):\n",
        "    self.X = train_x\n",
        "    self.y = train_y\n",
        "    self.transform = transform      \n",
        "\n",
        "  def __getitem__(self, item):\n",
        "    x_t = torch.Tensor(self.X[item])\n",
        "    y_t = self.y[item]\n",
        "    return (x_t, int(y_t))\n",
        "  def __len__(self):\n",
        "    return len(self.X)"
      ],
      "execution_count": null,
      "outputs": []
    },
    {
      "cell_type": "code",
      "metadata": {
        "id": "xWDgn6gwD3ec"
      },
      "source": [
        "dataset_train_1 = DataSet(train_features_1, train_labels_1)\n",
        "dataset_valid_1 = DataSet(valid_features_1, valid_labels_1)\n",
        "\n",
        "train_loader_1 = DataLoader(dataset = dataset_train_1, batch_size = batch_size, shuffle = True)\n",
        "valid_loader_1 = DataLoader(dataset = dataset_valid_1, batch_size = batch_size, shuffle = True)\n",
        "\n",
        "#alice\n",
        "dataset_train_alice1 = DataSet(train_features_alice1, train_labels_alice1)\n",
        "dataset_valid_alice1 = DataSet(valid_features_alice1, valid_labels_alice1)\n",
        "\n",
        "train_loader_alice1 = DataLoader(dataset = dataset_train_alice1, batch_size = batch_size, shuffle = True)\n",
        "valid_loader_alice1 = DataLoader(dataset = dataset_valid_alice1, batch_size = batch_size, shuffle = True)\n",
        "\n",
        "#john\n",
        "dataset_train_john1 = DataSet(train_features_john1, train_labels_john1)\n",
        "dataset_valid_john1 = DataSet(valid_features_john1, valid_labels_john1)\n",
        "\n",
        "train_loader_john1 = DataLoader(dataset = dataset_train_john1, batch_size = batch_size, shuffle = True)\n",
        "valid_loader_john1 = DataLoader(dataset = dataset_valid_john1, batch_size = batch_size, shuffle = True)\n",
        "\n",
        "#peter\n",
        "dataset_train_peter1 = DataSet(train_features_peter1, train_labels_peter1)\n",
        "dataset_valid_peter1 = DataSet(valid_features_peter1, valid_labels_peter1)\n",
        "\n",
        "train_loader_peter1 = DataLoader(dataset = dataset_train_peter1, batch_size = batch_size, shuffle = True)\n",
        "valid_loader_peter1 = DataLoader(dataset = dataset_valid_peter1, batch_size = batch_size, shuffle = True)"
      ],
      "execution_count": null,
      "outputs": []
    },
    {
      "cell_type": "code",
      "metadata": {
        "id": "HJ6zPF-ypx8R"
      },
      "source": [
        "#load test_data from csv\n",
        "\n",
        "csv_test ='/content/gdrive/MyDrive/AIcomm_project_2_test.csv'\n",
        "\n",
        "cols = list(pd.read_csv(csv_test, nrows =1))\n",
        "scaler = StandardScaler()\n",
        "\n",
        "csv_test_features = pd.read_csv(csv_test, index_col = 0, usecols =[i for i in cols if i != 'label'])\n",
        "csv_test_labels = pd.read_csv(csv_test, index_col = 0, usecols=[0, 1])\n",
        "\n",
        "test_features = csv_test_features.values\n",
        "test_features = scaler.fit_transform(test_features)\n",
        "\n",
        "test_labels = csv_test_labels.values\n",
        "\n",
        "test_features = test_features.reshape(-1,1,28,28)\n",
        "\n",
        "dataset_test = DataSet(test_features, test_labels)\n",
        "\n",
        "test_loader = DataLoader(dataset = dataset_test, batch_size = batch_size, shuffle = False)"
      ],
      "execution_count": null,
      "outputs": []
    },
    {
      "cell_type": "code",
      "metadata": {
        "id": "gZyL82lnDarZ"
      },
      "source": [
        "from torchvision import models\n",
        "\n",
        "resnet18 = models.resnet18(pretrained=True)"
      ],
      "execution_count": null,
      "outputs": []
    },
    {
      "cell_type": "code",
      "metadata": {
        "id": "G8rfwxLZDbb4"
      },
      "source": [
        "class ResNet(nn.Module):\n",
        "  def __init__(self, in_channels, resnet18, num_classes):\n",
        "    super(ResNet, self).__init__()\n",
        "    self.model = resnet18\n",
        "    self.model.conv1 = nn.Conv2d(1, 64, 3)\n",
        "    self.model.fc = nn.Linear(512, num_classes)\n",
        "\n",
        "  def forward(self, x):\n",
        "    x = self.model(x)\n",
        "\n",
        "    return x"
      ],
      "execution_count": null,
      "outputs": []
    },
    {
      "cell_type": "code",
      "metadata": {
        "id": "y36sNrnzDcUF"
      },
      "source": [
        "model = ResNet(in_channel,resnet18,num_classes).to(device)\n",
        "\n",
        "#Loss, Optimizer\n",
        "criterion = nn.CrossEntropyLoss()\n",
        "optimizer = torch.optim.Adagrad(model.parameters(), lr=learning_rate, weight_decay=0.1)"
      ],
      "execution_count": null,
      "outputs": []
    },
    {
      "cell_type": "code",
      "metadata": {
        "id": "LoJkCwXIDfXZ"
      },
      "source": [
        "model"
      ],
      "execution_count": null,
      "outputs": []
    },
    {
      "cell_type": "markdown",
      "metadata": {
        "id": "kdYmyMxa528s"
      },
      "source": [
        "# CL 데이터 학습"
      ]
    },
    {
      "cell_type": "code",
      "metadata": {
        "colab": {
          "base_uri": "https://localhost:8080/",
          "height": 458
        },
        "id": "iXfCgoHZDhKK",
        "outputId": "049a12e4-f288-4cd4-9c5c-6bc7ee6834f7"
      },
      "source": [
        "#CL Train\n",
        "\n",
        "total_step = len(train_loader_1)\n",
        "loss_list = []\n",
        "best_acc = 0\n",
        "\n",
        "for epoch in range(num_epochs):\n",
        "  for i, (data, labels) in enumerate(train_loader_1):\n",
        "\n",
        "\n",
        "    # Assign Tensors to Configured Device\n",
        "    images, labels = Variable(data.float()).to(device), Variable(labels.type(torch.LongTensor)).to(device)\n",
        "\n",
        "    # Forward Propagation\n",
        "    outputs = model(images)\n",
        "\n",
        "    # Get Loss, Compute Gradient, Update Parameters\n",
        "    loss = criterion(outputs, labels)\n",
        "    optimizer.zero_grad()\n",
        "    loss.backward()\n",
        "    optimizer.step()\n",
        "\n",
        "    # Append loss to plot graph\n",
        "    loss_list.append(loss)\n",
        "\n",
        "    # Print Loss to track Training process\n",
        "    if (i+1)==len(train_loader_1):\n",
        "      \n",
        "      train_acc = 0\n",
        "      train_image, train_label = next(iter(train_loader_1))\n",
        "      train_image, train_label = Variable(train_image.float()).to(device), Variable(train_label.type(torch.LongTensor)).to(device)\n",
        "\n",
        "      _, train_predicted = torch.max(model(train_image.to(device)).data, 1)\n",
        "\n",
        "      for (pred, ans) in zip(train_predicted, train_label):\n",
        "        if pred == ans:\n",
        "          train_acc += 1\n",
        "      train_acc = train_acc / len(train_predicted)\n",
        "\n",
        "      valid_acc = 0\n",
        "      valid_image, valid_label = next(iter(valid_loader_1))\n",
        "      valid_image, valid_label = Variable(valid_image.float()).to(device), Variable(valid_label.type(torch.LongTensor)).to(device)\n",
        "\n",
        "      _, valid_predicted = torch.max(model(valid_image.to(device)).data, 1)\n",
        "      \n",
        "      for (pred, ans) in zip(valid_predicted, valid_label):\n",
        "        if pred == ans:\n",
        "          valid_acc += 1\n",
        "      valid_acc = valid_acc / len(valid_predicted)\n",
        "\n",
        "      if best_acc < valid_acc:\n",
        "          best_acc = valid_acc\n",
        "          torch.save(model.state_dict(), 'Fassion_Classification_CL.pth')\n",
        "\n",
        "      print('Epoch [{}/{}], Loss: {:.4f}, Train Accuracy: {:.2f}%, Valid Accuracy: {:.2f}%'.format(epoch+1,num_epochs, loss.item(), train_acc*100, valid_acc*100))\n",
        "\n",
        "plt.plot(loss_list)\n",
        "plt.title(\"Fassion Classfication_CL\")\n",
        "plt.show()"
      ],
      "execution_count": null,
      "outputs": [
        {
          "output_type": "stream",
          "text": [
            "Epoch [1/10], Loss: 0.3823, Train Accuracy: 83.59%, Valid Accuracy: 85.94%\n",
            "Epoch [2/10], Loss: 0.3012, Train Accuracy: 95.31%, Valid Accuracy: 89.06%\n",
            "Epoch [3/10], Loss: 0.2482, Train Accuracy: 96.88%, Valid Accuracy: 88.28%\n",
            "Epoch [4/10], Loss: 0.2842, Train Accuracy: 92.19%, Valid Accuracy: 89.84%\n",
            "Epoch [5/10], Loss: 0.2297, Train Accuracy: 95.31%, Valid Accuracy: 88.28%\n",
            "Epoch [6/10], Loss: 0.1571, Train Accuracy: 100.00%, Valid Accuracy: 92.19%\n",
            "Epoch [7/10], Loss: 0.1406, Train Accuracy: 96.88%, Valid Accuracy: 83.59%\n",
            "Epoch [8/10], Loss: 0.2354, Train Accuracy: 97.66%, Valid Accuracy: 93.75%\n",
            "Epoch [9/10], Loss: 0.1176, Train Accuracy: 98.44%, Valid Accuracy: 91.41%\n",
            "Epoch [10/10], Loss: 0.0595, Train Accuracy: 98.44%, Valid Accuracy: 89.06%\n"
          ],
          "name": "stdout"
        },
        {
          "output_type": "display_data",
          "data": {
            "image/png": "[encoded data removed]",
            "text/plain": [
              "<Figure size 432x288 with 1 Axes>"
            ]
          },
          "metadata": {
            "tags": [],
            "needs_background": "light"
          }
        }
      ]
    },
    {
      "cell_type": "code",
      "metadata": {
        "id": "hWDVLDLgnY8o",
        "colab": {
          "base_uri": "https://localhost:8080/"
        },
        "outputId": "df3a815d-e955-4017-bd55-4d7d8af07997"
      },
      "source": [
        "#CL Test\n",
        "\n",
        "model = ResNet(in_channel,resnet18,num_classes).to(device)\n",
        "#Loss, Optimizer, LR scheduler\n",
        "criterion = nn.CrossEntropyLoss()\n",
        "optimizer = torch.optim.Adagrad(model.parameters(), lr=learning_rate, weight_decay=0.1)\n",
        "\n",
        "#load trained model and evaluate model on test data\n",
        "test_model = ResNet(1,resnet18,10).to(device)\n",
        "test_model.load_state_dict(torch.load('/content/Fassion_Classification_CL.pth'))\n",
        "test_model.eval()\n",
        "with torch.no_grad():\n",
        "  correct = 0\n",
        "  for image, label in test_loader:\n",
        "    image = image.to(device)\n",
        "    label = label.to(device)\n",
        "    out = model(image)\n",
        "    _, pred = torch.max(out.data, 1)\n",
        "    correct += (pred == label).sum().item()\n",
        "  print(\"Accuracy of the network on the {} test images: {}%\".format(len(test_loader)*batch_size, 100 * correct / (len(test_loader) * batch_size)))"
      ],
      "execution_count": null,
      "outputs": [
        {
          "output_type": "stream",
          "text": [
            "Accuracy of the network on the 10112 test images: 90.07120253164557%\n"
          ],
          "name": "stdout"
        }
      ]
    },
    {
      "cell_type": "markdown",
      "metadata": {
        "id": "chAlIakk6Blr"
      },
      "source": [
        "# **FL 데이터 학습**"
      ]
    },
    {
      "cell_type": "code",
      "metadata": {
        "id": "op6HGQbxr42C"
      },
      "source": [
        "import copy\n",
        "import torch.optim as optim"
      ],
      "execution_count": null,
      "outputs": []
    },
    {
      "cell_type": "code",
      "metadata": {
        "id": "xZX9ml-hqnQ4"
      },
      "source": [
        "#FL dataloader\n",
        "user_id = ['Alice','John', 'Peter']\n",
        "\n",
        "train_loaders = [train_loader_alice1, train_loader_john1,train_loader_peter1]\n",
        "valid_loaders = [valid_loader_alice1, valid_loader_john1,valid_loader_peter1]"
      ],
      "execution_count": null,
      "outputs": []
    },
    {
      "cell_type": "code",
      "metadata": {
        "id": "sml1ND3TqmX9"
      },
      "source": [
        "global_model = ResNet(in_channel,resnet18,num_classes).to(device)\n",
        "\n",
        "global_weights = global_model.state_dict()\n",
        "\n",
        "criterion = nn.CrossEntropyLoss()"
      ],
      "execution_count": null,
      "outputs": []
    },
    {
      "cell_type": "code",
      "metadata": {
        "id": "T6ucK8oSrhsb"
      },
      "source": [
        "def train_test(global_model, train_loaders, user_id, epochs=10, interval=100):\n",
        "    for epoch in range(epochs):\n",
        "        local_weights = []\n",
        "        \n",
        "        global_model.train()\n",
        "        \n",
        "        models = [copy.deepcopy(global_model), copy.deepcopy(global_model), copy.deepcopy(global_model),]\n",
        "        \n",
        "        for idx in range(len(user_id)):\n",
        "            w = local_update(models[idx], train_loaders[idx], user_id[idx], epoch, interval)\n",
        "            local_weights.append(copy.deepcopy(w))\n",
        "            \n",
        "        global_weights = average_weights(local_weights)\n",
        "        global_model.load_state_dict(global_weights)\n",
        "    \n",
        "        test(global_model, test_loader)\n",
        "    \n",
        "    return global_model"
      ],
      "execution_count": null,
      "outputs": []
    },
    {
      "cell_type": "code",
      "metadata": {
        "id": "jQfISELQrivL"
      },
      "source": [
        "def local_update(model, train_loader, user_id, epoch, interval):\n",
        "    print(\"User ID : %s\" %user_id)\n",
        "    model.train()\n",
        "    \n",
        "    optimizer = optim.Adam(model.parameters(), lr = 1e-3)\n",
        "    \n",
        "    for batch_idx, (data, target) in enumerate(train_loader):\n",
        "        data, target = data.to(device), target.to(device)\n",
        "        \n",
        "        optimizer.zero_grad()\n",
        "        output = model(data)\n",
        "        loss = criterion(output, target)\n",
        "        loss.backward()\n",
        "        optimizer.step()\n",
        "        \n",
        "        if batch_idx % interval == 0:\n",
        "            print('Train Epoch: {} [{}/{} ({:.0f}%)]\\tLoss: {:.6f}'.format(\n",
        "                epoch, batch_idx * len(data), len(train_loader.dataset),\n",
        "                100. * batch_idx / len(train_loader), loss.item()))            \n",
        "        \n",
        "    return model.state_dict()"
      ],
      "execution_count": null,
      "outputs": []
    },
    {
      "cell_type": "code",
      "metadata": {
        "id": "R1rq1fEGrjyf"
      },
      "source": [
        "def average_weights(w):\n",
        "    w_avg = copy.deepcopy(w[0])\n",
        "    for k in w_avg.keys():\n",
        "        for i in range(1, len(w)):\n",
        "            w_avg[k] += w[i][k]\n",
        "        w_avg[k] = torch.div(w_avg[k], len(w))\n",
        "    return w_avg"
      ],
      "execution_count": null,
      "outputs": []
    },
    {
      "cell_type": "code",
      "metadata": {
        "id": "9UR4rtgCrkyC"
      },
      "source": [
        "def test(global_model, test_loader):\n",
        "    global_model.eval()\n",
        "    test_loss = 0\n",
        "    correct = 0\n",
        "    with torch.no_grad():\n",
        "        for data, label in test_loader:\n",
        "            data, label = data.to(device), label.to(device)\n",
        "            output = global_model(data)\n",
        "            test_loss += criterion(output, label).item()\n",
        "            pred = output.argmax(dim=1, keepdim = True)\n",
        "            correct += pred.eq(label.view_as(pred)).sum().item()\n",
        "    test_loss /= len(test_loader.dataset)\n",
        "    print('\\nTest set: Average loss: {:.4f}, Accuracy: {}/{} ({:.2f}%)\\n'.format\n",
        "          (test_loss, correct, len(test_loader.dataset),\n",
        "        100. * correct / len(test_loader.dataset)))"
      ],
      "execution_count": null,
      "outputs": []
    },
    {
      "cell_type": "code",
      "metadata": {
        "id": "U1qXnb3mrmit",
        "colab": {
          "base_uri": "https://localhost:8080/"
        },
        "outputId": "5a7c3b85-5ee4-4c77-fa92-528afae102f1"
      },
      "source": [
        "global_model = train_test(global_model, train_loaders, user_id)"
      ],
      "execution_count": null,
      "outputs": [
        {
          "output_type": "stream",
          "text": [
            "User ID : Alice\n",
            "Train Epoch: 0 [0/16000 (0%)]\tLoss: 2.553295\n",
            "Train Epoch: 0 [12800/16000 (80%)]\tLoss: 0.376428\n",
            "User ID : John\n",
            "Train Epoch: 0 [0/16000 (0%)]\tLoss: 2.527211\n",
            "Train Epoch: 0 [12800/16000 (80%)]\tLoss: 0.472635\n",
            "User ID : Peter\n",
            "Train Epoch: 0 [0/16000 (0%)]\tLoss: 2.564293\n",
            "Train Epoch: 0 [12800/16000 (80%)]\tLoss: 0.491257\n",
            "\n",
            "Test set: Average loss: 0.0190, Accuracy: 2232/10000 (22.32%)\n",
            "\n",
            "User ID : Alice\n",
            "Train Epoch: 1 [0/16000 (0%)]\tLoss: 0.688353\n",
            "Train Epoch: 1 [12800/16000 (80%)]\tLoss: 0.545813\n",
            "User ID : John\n",
            "Train Epoch: 1 [0/16000 (0%)]\tLoss: 0.789457\n",
            "Train Epoch: 1 [12800/16000 (80%)]\tLoss: 0.334010\n",
            "User ID : Peter\n",
            "Train Epoch: 1 [0/16000 (0%)]\tLoss: 0.820669\n",
            "Train Epoch: 1 [12800/16000 (80%)]\tLoss: 0.306650\n",
            "\n",
            "Test set: Average loss: 0.0031, Accuracy: 8740/10000 (87.40%)\n",
            "\n",
            "User ID : Alice\n",
            "Train Epoch: 2 [0/16000 (0%)]\tLoss: 0.499333\n",
            "Train Epoch: 2 [12800/16000 (80%)]\tLoss: 0.273438\n",
            "User ID : John\n",
            "Train Epoch: 2 [0/16000 (0%)]\tLoss: 0.272757\n",
            "Train Epoch: 2 [12800/16000 (80%)]\tLoss: 0.358623\n",
            "User ID : Peter\n",
            "Train Epoch: 2 [0/16000 (0%)]\tLoss: 0.312261\n",
            "Train Epoch: 2 [12800/16000 (80%)]\tLoss: 0.336909\n",
            "\n",
            "Test set: Average loss: 0.0022, Accuracy: 8982/10000 (89.82%)\n",
            "\n",
            "User ID : Alice\n",
            "Train Epoch: 3 [0/16000 (0%)]\tLoss: 0.248867\n",
            "Train Epoch: 3 [12800/16000 (80%)]\tLoss: 0.251608\n",
            "User ID : John\n",
            "Train Epoch: 3 [0/16000 (0%)]\tLoss: 0.317707\n",
            "Train Epoch: 3 [12800/16000 (80%)]\tLoss: 0.301047\n",
            "User ID : Peter\n",
            "Train Epoch: 3 [0/16000 (0%)]\tLoss: 0.257028\n",
            "Train Epoch: 3 [12800/16000 (80%)]\tLoss: 0.306498\n",
            "\n",
            "Test set: Average loss: 0.0021, Accuracy: 9005/10000 (90.05%)\n",
            "\n",
            "User ID : Alice\n",
            "Train Epoch: 4 [0/16000 (0%)]\tLoss: 0.281271\n",
            "Train Epoch: 4 [12800/16000 (80%)]\tLoss: 0.297037\n",
            "User ID : John\n",
            "Train Epoch: 4 [0/16000 (0%)]\tLoss: 0.137651\n",
            "Train Epoch: 4 [12800/16000 (80%)]\tLoss: 0.145609\n",
            "User ID : Peter\n",
            "Train Epoch: 4 [0/16000 (0%)]\tLoss: 0.201159\n",
            "Train Epoch: 4 [12800/16000 (80%)]\tLoss: 0.293014\n",
            "\n",
            "Test set: Average loss: 0.0018, Accuracy: 9137/10000 (91.37%)\n",
            "\n",
            "User ID : Alice\n",
            "Train Epoch: 5 [0/16000 (0%)]\tLoss: 0.247472\n",
            "Train Epoch: 5 [12800/16000 (80%)]\tLoss: 0.188502\n",
            "User ID : John\n",
            "Train Epoch: 5 [0/16000 (0%)]\tLoss: 0.155910\n",
            "Train Epoch: 5 [12800/16000 (80%)]\tLoss: 0.175557\n",
            "User ID : Peter\n",
            "Train Epoch: 5 [0/16000 (0%)]\tLoss: 0.141392\n",
            "Train Epoch: 5 [12800/16000 (80%)]\tLoss: 0.167101\n",
            "\n",
            "Test set: Average loss: 0.0017, Accuracy: 9190/10000 (91.90%)\n",
            "\n",
            "User ID : Alice\n",
            "Train Epoch: 6 [0/16000 (0%)]\tLoss: 0.217096\n",
            "Train Epoch: 6 [12800/16000 (80%)]\tLoss: 0.288763\n",
            "User ID : John\n",
            "Train Epoch: 6 [0/16000 (0%)]\tLoss: 0.190710\n",
            "Train Epoch: 6 [12800/16000 (80%)]\tLoss: 0.206592\n",
            "User ID : Peter\n",
            "Train Epoch: 6 [0/16000 (0%)]\tLoss: 0.225683\n",
            "Train Epoch: 6 [12800/16000 (80%)]\tLoss: 0.248031\n",
            "\n",
            "Test set: Average loss: 0.0016, Accuracy: 9284/10000 (92.84%)\n",
            "\n",
            "User ID : Alice\n",
            "Train Epoch: 7 [0/16000 (0%)]\tLoss: 0.226651\n",
            "Train Epoch: 7 [12800/16000 (80%)]\tLoss: 0.315939\n",
            "User ID : John\n",
            "Train Epoch: 7 [0/16000 (0%)]\tLoss: 0.167465\n",
            "Train Epoch: 7 [12800/16000 (80%)]\tLoss: 0.245807\n",
            "User ID : Peter\n",
            "Train Epoch: 7 [0/16000 (0%)]\tLoss: 0.101537\n",
            "Train Epoch: 7 [12800/16000 (80%)]\tLoss: 0.251343\n",
            "\n",
            "Test set: Average loss: 0.0016, Accuracy: 9272/10000 (92.72%)\n",
            "\n",
            "User ID : Alice\n",
            "Train Epoch: 8 [0/16000 (0%)]\tLoss: 0.142381\n",
            "Train Epoch: 8 [12800/16000 (80%)]\tLoss: 0.201541\n",
            "User ID : John\n",
            "Train Epoch: 8 [0/16000 (0%)]\tLoss: 0.226635\n",
            "Train Epoch: 8 [12800/16000 (80%)]\tLoss: 0.148337\n",
            "User ID : Peter\n",
            "Train Epoch: 8 [0/16000 (0%)]\tLoss: 0.196419\n",
            "Train Epoch: 8 [12800/16000 (80%)]\tLoss: 0.157919\n",
            "\n",
            "Test set: Average loss: 0.0015, Accuracy: 9293/10000 (92.93%)\n",
            "\n",
            "User ID : Alice\n",
            "Train Epoch: 9 [0/16000 (0%)]\tLoss: 0.155964\n",
            "Train Epoch: 9 [12800/16000 (80%)]\tLoss: 0.120585\n",
            "User ID : John\n",
            "Train Epoch: 9 [0/16000 (0%)]\tLoss: 0.158814\n",
            "Train Epoch: 9 [12800/16000 (80%)]\tLoss: 0.164174\n",
            "User ID : Peter\n",
            "Train Epoch: 9 [0/16000 (0%)]\tLoss: 0.125344\n",
            "Train Epoch: 9 [12800/16000 (80%)]\tLoss: 0.179189\n",
            "\n",
            "Test set: Average loss: 0.0015, Accuracy: 9289/10000 (92.89%)\n",
            "\n"
          ],
          "name": "stdout"
        }
      ]
    },
    {
      "cell_type": "markdown",
      "metadata": {
        "id": "YpMOwEOb6H-K"
      },
      "source": [
        "# **개별 데이터 학습**"
      ]
    },
    {
      "cell_type": "code",
      "metadata": {
        "id": "3B-AdVIDtIre",
        "colab": {
          "base_uri": "https://localhost:8080/",
          "height": 476
        },
        "outputId": "63198047-52d1-4a45-f9f1-0b6194f9e380"
      },
      "source": [
        "#개별 데이터 학습 alice train&test\n",
        "\n",
        "total_step = len(train_loader_alice1)\n",
        "loss_list = []\n",
        "best_acc = 0\n",
        "\n",
        "for epoch in range(num_epochs):\n",
        "  for i, (data, labels) in enumerate(train_loader_alice1):\n",
        "\n",
        "\n",
        "    # Assign Tensors to Configured Device\n",
        "    images, labels = Variable(data.float()).to(device), Variable(labels.type(torch.LongTensor)).to(device)\n",
        "\n",
        "    # Forward Propagation\n",
        "    outputs = model(images)\n",
        "\n",
        "    # Get Loss, Compute Gradient, Update Parameters\n",
        "    loss = criterion(outputs, labels)\n",
        "    optimizer.zero_grad()\n",
        "    loss.backward()\n",
        "    optimizer.step()\n",
        "\n",
        "    # Append loss to plot graph\n",
        "    loss_list.append(loss)\n",
        "\n",
        "    # Print Loss to track Training process\n",
        "    if (i+1)==len(train_loader_alice1):\n",
        "      \n",
        "      train_acc = 0\n",
        "      train_image, train_label = next(iter(train_loader_alice1))\n",
        "      train_image, train_label = Variable(train_image.float()).to(device), Variable(train_label.type(torch.LongTensor)).to(device)\n",
        "\n",
        "      _, train_predicted = torch.max(model(train_image.to(device)).data, 1)\n",
        "\n",
        "      for (pred, ans) in zip(train_predicted, train_label):\n",
        "        if pred == ans:\n",
        "          train_acc += 1\n",
        "      train_acc = train_acc / len(train_predicted)\n",
        "\n",
        "      valid_acc = 0\n",
        "      valid_image, valid_label = next(iter(valid_loader_alice1))\n",
        "      valid_image, valid_label = Variable(valid_image.float()).to(device), Variable(valid_label.type(torch.LongTensor)).to(device)\n",
        "\n",
        "      _, valid_predicted = torch.max(model(valid_image.to(device)).data, 1)\n",
        "      \n",
        "      for (pred, ans) in zip(valid_predicted, valid_label):\n",
        "        if pred == ans:\n",
        "          valid_acc += 1\n",
        "      valid_acc = valid_acc / len(valid_predicted)\n",
        "\n",
        "      if best_acc < valid_acc:\n",
        "          best_acc = valid_acc\n",
        "          torch.save(model.state_dict(), 'Fassion_Classification_Alice1.pth')\n",
        "\n",
        "      print('Epoch [{}/{}], Loss: {:.4f}, Train Accuracy: {:.2f}%, Valid Accuracy: {:.2f}%'.format(epoch+1,num_epochs, loss.item(), train_acc*100, valid_acc*100))\n",
        "\n",
        "plt.plot(loss_list)\n",
        "plt.title(\"Fassion Classfication_Alice1\")\n",
        "plt.show()\n",
        "\n",
        "#CL Test\n",
        "\n",
        "model = ResNet(in_channel,resnet18,num_classes).to(device)\n",
        "#Loss, Optimizer, LR scheduler\n",
        "criterion = nn.CrossEntropyLoss()\n",
        "optimizer = torch.optim.Adagrad(model.parameters(), lr=learning_rate, weight_decay=0.1)\n",
        "\n",
        "#load trained model and evaluate model on test data\n",
        "test_model = ResNet(1,resnet18,10).to(device)\n",
        "test_model.load_state_dict(torch.load('/content/Fassion_Classification_Alice1.pth'))\n",
        "test_model.eval()\n",
        "with torch.no_grad():\n",
        "  correct = 0\n",
        "  for image, label in test_loader:\n",
        "    image = image.to(device)\n",
        "    label = label.to(device)\n",
        "    out = model(image)\n",
        "    _, pred = torch.max(out.data, 1)\n",
        "    correct += (pred == label).sum().item()\n",
        "  print(\"Accuracy of the network on the {} test images: {}%\".format(len(test_loader)*batch_size, 100 * correct / (len(test_loader) * batch_size)))"
      ],
      "execution_count": null,
      "outputs": [
        {
          "output_type": "stream",
          "text": [
            "Epoch [1/10], Loss: 0.2488, Train Accuracy: 87.50%, Valid Accuracy: 82.81%\n",
            "Epoch [2/10], Loss: 0.3257, Train Accuracy: 90.62%, Valid Accuracy: 87.50%\n",
            "Epoch [3/10], Loss: 0.2306, Train Accuracy: 90.62%, Valid Accuracy: 84.38%\n",
            "Epoch [4/10], Loss: 0.2833, Train Accuracy: 95.31%, Valid Accuracy: 83.59%\n",
            "Epoch [5/10], Loss: 0.1372, Train Accuracy: 99.22%, Valid Accuracy: 92.97%\n",
            "Epoch [6/10], Loss: 0.2690, Train Accuracy: 96.09%, Valid Accuracy: 79.69%\n",
            "Epoch [7/10], Loss: 0.1854, Train Accuracy: 96.09%, Valid Accuracy: 78.91%\n",
            "Epoch [8/10], Loss: 0.1136, Train Accuracy: 97.66%, Valid Accuracy: 85.16%\n",
            "Epoch [9/10], Loss: 0.0656, Train Accuracy: 96.88%, Valid Accuracy: 86.72%\n",
            "Epoch [10/10], Loss: 0.0878, Train Accuracy: 97.66%, Valid Accuracy: 84.38%\n"
          ],
          "name": "stdout"
        },
        {
          "output_type": "display_data",
          "data": {
            "image/png": "[encoded data removed]",
            "text/plain": [
              "<Figure size 432x288 with 1 Axes>"
            ]
          },
          "metadata": {
            "tags": [],
            "needs_background": "light"
          }
        },
        {
          "output_type": "stream",
          "text": [
            "Accuracy of the network on the 10112 test images: 86.73852848101266%\n"
          ],
          "name": "stdout"
        }
      ]
    },
    {
      "cell_type": "code",
      "metadata": {
        "colab": {
          "base_uri": "https://localhost:8080/",
          "height": 476
        },
        "id": "OrpP0jRh5uns",
        "outputId": "933d7834-c3d2-4f91-ffb5-75fe17a27625"
      },
      "source": [
        "#개별 데이터 학습 john train&test\n",
        "\n",
        "total_step = len(train_loader_john1)\n",
        "loss_list = []\n",
        "best_acc = 0\n",
        "\n",
        "for epoch in range(num_epochs):\n",
        "  for i, (data, labels) in enumerate(train_loader_john1):\n",
        "\n",
        "\n",
        "    # Assign Tensors to Configured Device\n",
        "    images, labels = Variable(data.float()).to(device), Variable(labels.type(torch.LongTensor)).to(device)\n",
        "\n",
        "    # Forward Propagation\n",
        "    outputs = model(images)\n",
        "\n",
        "    # Get Loss, Compute Gradient, Update Parameters\n",
        "    loss = criterion(outputs, labels)\n",
        "    optimizer.zero_grad()\n",
        "    loss.backward()\n",
        "    optimizer.step()\n",
        "\n",
        "    # Append loss to plot graph\n",
        "    loss_list.append(loss)\n",
        "\n",
        "    # Print Loss to track Training process\n",
        "    if (i+1)==len(train_loader_john1):\n",
        "      \n",
        "      train_acc = 0\n",
        "      train_image, train_label = next(iter(train_loader_john1))\n",
        "      train_image, train_label = Variable(train_image.float()).to(device), Variable(train_label.type(torch.LongTensor)).to(device)\n",
        "\n",
        "      _, train_predicted = torch.max(model(train_image.to(device)).data, 1)\n",
        "\n",
        "      for (pred, ans) in zip(train_predicted, train_label):\n",
        "        if pred == ans:\n",
        "          train_acc += 1\n",
        "      train_acc = train_acc / len(train_predicted)\n",
        "\n",
        "      valid_acc = 0\n",
        "      valid_image, valid_label = next(iter(valid_loader_john1))\n",
        "      valid_image, valid_label = Variable(valid_image.float()).to(device), Variable(valid_label.type(torch.LongTensor)).to(device)\n",
        "\n",
        "      _, valid_predicted = torch.max(model(valid_image.to(device)).data, 1)\n",
        "      \n",
        "      for (pred, ans) in zip(valid_predicted, valid_label):\n",
        "        if pred == ans:\n",
        "          valid_acc += 1\n",
        "      valid_acc = valid_acc / len(valid_predicted)\n",
        "\n",
        "      if best_acc < valid_acc:\n",
        "          best_acc = valid_acc\n",
        "          torch.save(model.state_dict(), 'Fassion_Classification_John1.pth')\n",
        "\n",
        "      print('Epoch [{}/{}], Loss: {:.4f}, Train Accuracy: {:.2f}%, Valid Accuracy: {:.2f}%'.format(epoch+1,num_epochs, loss.item(), train_acc*100, valid_acc*100))\n",
        "\n",
        "plt.plot(loss_list)\n",
        "plt.title(\"Fassion Classfication_John1\")\n",
        "plt.show()\n",
        "\n",
        "#CL Test\n",
        "\n",
        "model = ResNet(in_channel,resnet18,num_classes).to(device)\n",
        "#Loss, Optimizer, LR scheduler\n",
        "criterion = nn.CrossEntropyLoss()\n",
        "optimizer = torch.optim.Adagrad(model.parameters(), lr=learning_rate, weight_decay=0.1)\n",
        "\n",
        "#load trained model and evaluate model on test data\n",
        "test_model = ResNet(1,resnet18,10).to(device)\n",
        "test_model.load_state_dict(torch.load('/content/Fassion_Classification_John1.pth'))\n",
        "test_model.eval()\n",
        "with torch.no_grad():\n",
        "  correct = 0\n",
        "  for image, label in test_loader:\n",
        "    image = image.to(device)\n",
        "    label = label.to(device)\n",
        "    out = model(image)\n",
        "    _, pred = torch.max(out.data, 1)\n",
        "    correct += (pred == label).sum().item()\n",
        "  print(\"Accuracy of the network on the {} test images: {}%\".format(len(test_loader)*batch_size, 100 * correct / (len(test_loader) * batch_size)))"
      ],
      "execution_count": null,
      "outputs": [
        {
          "output_type": "stream",
          "text": [
            "Epoch [1/10], Loss: 0.3772, Train Accuracy: 85.94%, Valid Accuracy: 88.28%\n",
            "Epoch [2/10], Loss: 0.2642, Train Accuracy: 92.97%, Valid Accuracy: 85.16%\n",
            "Epoch [3/10], Loss: 0.2224, Train Accuracy: 92.97%, Valid Accuracy: 89.06%\n",
            "Epoch [4/10], Loss: 0.1614, Train Accuracy: 92.97%, Valid Accuracy: 86.72%\n",
            "Epoch [5/10], Loss: 0.1965, Train Accuracy: 97.66%, Valid Accuracy: 89.84%\n",
            "Epoch [6/10], Loss: 0.0768, Train Accuracy: 97.66%, Valid Accuracy: 85.94%\n",
            "Epoch [7/10], Loss: 0.1618, Train Accuracy: 99.22%, Valid Accuracy: 90.62%\n",
            "Epoch [8/10], Loss: 0.1918, Train Accuracy: 97.66%, Valid Accuracy: 89.06%\n",
            "Epoch [9/10], Loss: 0.1801, Train Accuracy: 94.53%, Valid Accuracy: 90.62%\n",
            "Epoch [10/10], Loss: 0.0420, Train Accuracy: 99.22%, Valid Accuracy: 89.06%\n"
          ],
          "name": "stdout"
        },
        {
          "output_type": "display_data",
          "data": {
            "image/png": "[encoded data removed]",
            "text/plain": [
              "<Figure size 432x288 with 1 Axes>"
            ]
          },
          "metadata": {
            "tags": [],
            "needs_background": "light"
          }
        },
        {
          "output_type": "stream",
          "text": [
            "Accuracy of the network on the 10112 test images: 85.80893987341773%\n"
          ],
          "name": "stdout"
        }
      ]
    },
    {
      "cell_type": "code",
      "metadata": {
        "colab": {
          "base_uri": "https://localhost:8080/",
          "height": 476
        },
        "id": "vP5bzHWq63vJ",
        "outputId": "11c0b762-eeb9-4771-db0c-4fb5b168d741"
      },
      "source": [
        "#개별 데이터 학습 peter train&test\n",
        "\n",
        "total_step = len(train_loader_peter1)\n",
        "loss_list = []\n",
        "best_acc = 0\n",
        "\n",
        "for epoch in range(num_epochs):\n",
        "  for i, (data, labels) in enumerate(train_loader_peter1):\n",
        "\n",
        "\n",
        "    # Assign Tensors to Configured Device\n",
        "    images, labels = Variable(data.float()).to(device), Variable(labels.type(torch.LongTensor)).to(device)\n",
        "\n",
        "    # Forward Propagation\n",
        "    outputs = model(images)\n",
        "\n",
        "    # Get Loss, Compute Gradient, Update Parameters\n",
        "    loss = criterion(outputs, labels)\n",
        "    optimizer.zero_grad()\n",
        "    loss.backward()\n",
        "    optimizer.step()\n",
        "\n",
        "    # Append loss to plot graph\n",
        "    loss_list.append(loss)\n",
        "\n",
        "    # Print Loss to track Training process\n",
        "    if (i+1)==len(train_loader_peter1):\n",
        "      \n",
        "      train_acc = 0\n",
        "      train_image, train_label = next(iter(train_loader_peter1))\n",
        "      train_image, train_label = Variable(train_image.float()).to(device), Variable(train_label.type(torch.LongTensor)).to(device)\n",
        "\n",
        "      _, train_predicted = torch.max(model(train_image.to(device)).data, 1)\n",
        "\n",
        "      for (pred, ans) in zip(train_predicted, train_label):\n",
        "        if pred == ans:\n",
        "          train_acc += 1\n",
        "      train_acc = train_acc / len(train_predicted)\n",
        "\n",
        "      valid_acc = 0\n",
        "      valid_image, valid_label = next(iter(valid_loader_peter1))\n",
        "      valid_image, valid_label = Variable(valid_image.float()).to(device), Variable(valid_label.type(torch.LongTensor)).to(device)\n",
        "\n",
        "      _, valid_predicted = torch.max(model(valid_image.to(device)).data, 1)\n",
        "      \n",
        "      for (pred, ans) in zip(valid_predicted, valid_label):\n",
        "        if pred == ans:\n",
        "          valid_acc += 1\n",
        "      valid_acc = valid_acc / len(valid_predicted)\n",
        "\n",
        "      if best_acc < valid_acc:\n",
        "          best_acc = valid_acc\n",
        "          torch.save(model.state_dict(), 'Fassion_Classification_Peter1.pth')\n",
        "\n",
        "      print('Epoch [{}/{}], Loss: {:.4f}, Train Accuracy: {:.2f}%, Valid Accuracy: {:.2f}%'.format(epoch+1,num_epochs, loss.item(), train_acc*100, valid_acc*100))\n",
        "\n",
        "plt.plot(loss_list)\n",
        "plt.title(\"Fassion Classfication_Peter1\")\n",
        "plt.show()\n",
        "\n",
        "#CL Test\n",
        "\n",
        "model = ResNet(in_channel,resnet18,num_classes).to(device)\n",
        "#Loss, Optimizer, LR scheduler\n",
        "criterion = nn.CrossEntropyLoss()\n",
        "optimizer = torch.optim.Adagrad(model.parameters(), lr=learning_rate, weight_decay=0.1)\n",
        "\n",
        "#load trained model and evaluate model on test data\n",
        "test_model = ResNet(1,resnet18,10).to(device)\n",
        "test_model.load_state_dict(torch.load('/content/Fassion_Classification_Peter1.pth'))\n",
        "test_model.eval()\n",
        "with torch.no_grad():\n",
        "  correct = 0\n",
        "  for image, label in test_loader:\n",
        "    image = image.to(device)\n",
        "    label = label.to(device)\n",
        "    out = model(image)\n",
        "    _, pred = torch.max(out.data, 1)\n",
        "    correct += (pred == label).sum().item()\n",
        "  print(\"Accuracy of the network on the {} test images: {}%\".format(len(test_loader)*batch_size, 100 * correct / (len(test_loader) * batch_size)))"
      ],
      "execution_count": null,
      "outputs": [
        {
          "output_type": "stream",
          "text": [
            "Epoch [1/10], Loss: 0.3323, Train Accuracy: 89.06%, Valid Accuracy: 78.91%\n",
            "Epoch [2/10], Loss: 0.3876, Train Accuracy: 92.19%, Valid Accuracy: 86.72%\n",
            "Epoch [3/10], Loss: 0.3113, Train Accuracy: 92.19%, Valid Accuracy: 84.38%\n",
            "Epoch [4/10], Loss: 0.2033, Train Accuracy: 94.53%, Valid Accuracy: 85.16%\n",
            "Epoch [5/10], Loss: 0.1662, Train Accuracy: 92.97%, Valid Accuracy: 85.94%\n",
            "Epoch [6/10], Loss: 0.2007, Train Accuracy: 97.66%, Valid Accuracy: 89.06%\n",
            "Epoch [7/10], Loss: 0.1497, Train Accuracy: 97.66%, Valid Accuracy: 89.06%\n",
            "Epoch [8/10], Loss: 0.1008, Train Accuracy: 96.88%, Valid Accuracy: 91.41%\n",
            "Epoch [9/10], Loss: 0.1081, Train Accuracy: 98.44%, Valid Accuracy: 83.59%\n",
            "Epoch [10/10], Loss: 0.0711, Train Accuracy: 98.44%, Valid Accuracy: 88.28%\n"
          ],
          "name": "stdout"
        },
        {
          "output_type": "display_data",
          "data": {
            "image/png": "[encoded data removed]",
            "text/plain": [
              "<Figure size 432x288 with 1 Axes>"
            ]
          },
          "metadata": {
            "tags": [],
            "needs_background": "light"
          }
        },
        {
          "output_type": "stream",
          "text": [
            "Accuracy of the network on the 10112 test images: 86.82753164556962%\n"
          ],
          "name": "stdout"
        }
      ]
    },
    {
      "cell_type": "code",
      "metadata": {
        "id": "Qpk4oX9s7nlr"
      },
      "source": [
        ""
      ],
      "execution_count": null,
      "outputs": []
    }
  ]
}