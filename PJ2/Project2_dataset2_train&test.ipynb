{
  "nbformat": 4,
  "nbformat_minor": 0,
  "metadata": {
    "colab": {
      "name": "Project2_dataset2_train&test.ipynb",
      "provenance": [],
      "collapsed_sections": []
    },
    "kernelspec": {
      "name": "python3",
      "display_name": "Python 3"
    },
    "language_info": {
      "name": "python"
    },
    "accelerator": "GPU"
  },
  "cells": [
    {
      "cell_type": "code",
      "metadata": {
        "id": "StBcw6mNCuFi"
      },
      "source": [
        "#initialize\n",
        "import numpy as np\n",
        "import pandas as pd\n",
        "\n",
        "import torch\n",
        "import torch.nn as nn\n",
        "import torch.nn.functional as F\n",
        "import torch.optim as optim\n",
        "import torchvision \n",
        "import torchvision.transforms as transforms \n",
        "from torch.autograd import Variable\n",
        "from torch.utils.data import Dataset, DataLoader\n",
        " \n",
        "import time\n",
        "import matplotlib\n",
        "import matplotlib.pyplot as plt\n",
        "from matplotlib.pyplot import imshow\n",
        "\n",
        "from sklearn.model_selection import train_test_split\n",
        "from sklearn.preprocessing import StandardScaler\n",
        " \n",
        "device = torch.device('cuda' if torch.cuda.is_available() else 'cpu')\n",
        " \n",
        "#hyperparameters\n",
        "num_classes = 10\n",
        "in_channel = 1\n",
        "learning_rate = 0.001\n",
        "batch_size = 128\n",
        "num_epochs = 10"
      ],
      "execution_count": null,
      "outputs": []
    },
    {
      "cell_type": "code",
      "metadata": {
        "id": "cuJ97e3PCwMc",
        "colab": {
          "base_uri": "https://localhost:8080/"
        },
        "outputId": "94fab759-37a9-4171-b69f-8acf6fda854b"
      },
      "source": [
        "from google.colab import drive \n",
        "\n",
        "drive.mount('/content/gdrive')"
      ],
      "execution_count": null,
      "outputs": [
        {
          "output_type": "stream",
          "text": [
            "Mounted at /content/gdrive\n"
          ],
          "name": "stdout"
        }
      ]
    },
    {
      "cell_type": "code",
      "metadata": {
        "id": "LN57CWANjByA"
      },
      "source": [
        "#load train_data from csv\n",
        "\n",
        "csv_dataset1_train_alice1 ='/content/gdrive/MyDrive/dataset2/AIcomm_project_2_train_alice_2.csv'\n",
        "csv_dataset1_train_john1 ='/content/gdrive/MyDrive/dataset2/AIcomm_project_2_train_john_2.csv'\n",
        "csv_dataset1_train_peter1 ='/content/gdrive/MyDrive/dataset2/AIcomm_project_2_train_peter_2.csv'\n",
        "\n",
        "cols_dataset1_train_alice1 = list(pd.read_csv(csv_dataset1_train_alice1, nrows =1))\n",
        "cols_dataset1_train_john1 = list(pd.read_csv(csv_dataset1_train_john1, nrows =1))\n",
        "cols_dataset1_train_peter1 = list(pd.read_csv(csv_dataset1_train_peter1, nrows =1))\n",
        "\n",
        "csv_features_alice1 = pd.read_csv(csv_dataset1_train_alice1, index_col = 0, usecols =[i for i in cols_dataset1_train_alice1 if i != 'label'])\n",
        "csv_label_alice1 = pd.read_csv(csv_dataset1_train_alice1, index_col = 0, usecols=[0, 1])\n",
        "csv_features_john1 = pd.read_csv(csv_dataset1_train_john1, index_col = 0, usecols =[i for i in cols_dataset1_train_john1 if i != 'label'])\n",
        "csv_label_john1 = pd.read_csv(csv_dataset1_train_john1, index_col = 0, usecols=[0, 1])\n",
        "csv_features_peter1 = pd.read_csv(csv_dataset1_train_peter1, index_col = 0, usecols =[i for i in cols_dataset1_train_peter1 if i != 'label'])\n",
        "csv_label_peter1 = pd.read_csv(csv_dataset1_train_peter1, index_col = 0, usecols=[0, 1])\n",
        "\n",
        "#pd.concat for CL dataset\n",
        "csv_features_1 = pd.concat([csv_features_alice1, csv_features_john1,csv_features_peter1])\n",
        "csv_label_1 = pd.concat([csv_label_alice1, csv_label_john1,csv_label_peter1])\n"
      ],
      "execution_count": null,
      "outputs": []
    },
    {
      "cell_type": "code",
      "metadata": {
        "id": "NWqVFuO2DESd"
      },
      "source": [
        "# train , validation 데이터 분리\n",
        "scaler = StandardScaler()\n",
        "\n",
        "train_features_1, valid_features_1, train_labels_1, valid_labels_1 = train_test_split(csv_features_1.values, csv_label_1.values, train_size = 0.8)\n",
        "\n",
        "train_features_1 = scaler.fit_transform(train_features_1)\n",
        "valid_features_1 = scaler.transform(valid_features_1)\n",
        "\n",
        "train_features_1 = train_features_1.reshape(-1, 1, 28, 28)\n",
        "valid_features_1 = valid_features_1.reshape(-1, 1, 28, 28)\n",
        "\n",
        "#alice\n",
        "train_features_alice1, valid_features_alice1, train_labels_alice1, valid_labels_alice1 = train_test_split(csv_features_alice1.values, csv_label_alice1.values, train_size = 0.8)\n",
        "\n",
        "train_features_alice1 = scaler.fit_transform(train_features_alice1)\n",
        "valid_features_alice1 = scaler.transform(valid_features_alice1)\n",
        "\n",
        "train_features_alice1 = train_features_alice1.reshape(-1, 1, 28, 28)\n",
        "valid_features_alice1 = valid_features_alice1.reshape(-1, 1, 28, 28)\n",
        "\n",
        "#john\n",
        "train_features_john1, valid_features_john1, train_labels_john1, valid_labels_john1 = train_test_split(csv_features_john1.values, csv_label_john1.values, train_size = 0.8)\n",
        "\n",
        "train_features_john1 = scaler.fit_transform(train_features_john1)\n",
        "valid_features_john1 = scaler.transform(valid_features_john1)\n",
        "\n",
        "train_features_john1 = train_features_john1.reshape(-1, 1, 28, 28)\n",
        "valid_features_john1 = valid_features_john1.reshape(-1, 1, 28, 28)\n",
        "\n",
        "\n",
        "\n",
        "#peter\n",
        "train_features_peter1, valid_features_peter1, train_labels_peter1, valid_labels_peter1 = train_test_split(csv_features_peter1.values, csv_label_peter1.values, train_size = 0.8)\n",
        "\n",
        "train_features_peter1 = scaler.fit_transform(train_features_peter1)\n",
        "valid_features_peter1 = scaler.transform(valid_features_peter1)\n",
        "\n",
        "train_features_peter1 = train_features_peter1.reshape(-1, 1, 28, 28)\n",
        "valid_features_peter1 = valid_features_peter1.reshape(-1, 1, 28, 28)"
      ],
      "execution_count": null,
      "outputs": []
    },
    {
      "cell_type": "code",
      "metadata": {
        "id": "OJCXCQjvC5WZ"
      },
      "source": [
        "class DataSet(Dataset):\n",
        "  def __init__(self, train_x, train_y, transform=transforms.ToTensor):\n",
        "    self.X = train_x\n",
        "    self.y = train_y\n",
        "    self.transform = transform      \n",
        "\n",
        "  def __getitem__(self, item):\n",
        "    x_t = torch.Tensor(self.X[item])\n",
        "    y_t = self.y[item]\n",
        "    return (x_t, int(y_t))\n",
        "  def __len__(self):\n",
        "    return len(self.X)"
      ],
      "execution_count": null,
      "outputs": []
    },
    {
      "cell_type": "code",
      "metadata": {
        "id": "xWDgn6gwD3ec"
      },
      "source": [
        "dataset_train_1 = DataSet(train_features_1, train_labels_1)\n",
        "dataset_valid_1 = DataSet(valid_features_1, valid_labels_1)\n",
        "\n",
        "train_loader_1 = DataLoader(dataset = dataset_train_1, batch_size = batch_size, shuffle = True)\n",
        "valid_loader_1 = DataLoader(dataset = dataset_valid_1, batch_size = batch_size, shuffle = True)\n",
        "\n",
        "#alice\n",
        "dataset_train_alice1 = DataSet(train_features_alice1, train_labels_alice1)\n",
        "dataset_valid_alice1 = DataSet(valid_features_alice1, valid_labels_alice1)\n",
        "\n",
        "train_loader_alice1 = DataLoader(dataset = dataset_train_alice1, batch_size = batch_size, shuffle = True)\n",
        "valid_loader_alice1 = DataLoader(dataset = dataset_valid_alice1, batch_size = batch_size, shuffle = True)\n",
        "\n",
        "#john\n",
        "dataset_train_john1 = DataSet(train_features_john1, train_labels_john1)\n",
        "dataset_valid_john1 = DataSet(valid_features_john1, valid_labels_john1)\n",
        "\n",
        "train_loader_john1 = DataLoader(dataset = dataset_train_john1, batch_size = batch_size, shuffle = True)\n",
        "valid_loader_john1 = DataLoader(dataset = dataset_valid_john1, batch_size = batch_size, shuffle = True)\n",
        "\n",
        "#peter\n",
        "dataset_train_peter1 = DataSet(train_features_peter1, train_labels_peter1)\n",
        "dataset_valid_peter1 = DataSet(valid_features_peter1, valid_labels_peter1)\n",
        "\n",
        "train_loader_peter1 = DataLoader(dataset = dataset_train_peter1, batch_size = batch_size, shuffle = True)\n",
        "valid_loader_peter1 = DataLoader(dataset = dataset_valid_peter1, batch_size = batch_size, shuffle = True)"
      ],
      "execution_count": null,
      "outputs": []
    },
    {
      "cell_type": "code",
      "metadata": {
        "id": "HJ6zPF-ypx8R"
      },
      "source": [
        "#load test_data from csv\n",
        "\n",
        "csv_test ='/content/gdrive/MyDrive/AIcomm_project_2_test.csv'\n",
        "\n",
        "cols = list(pd.read_csv(csv_test, nrows =1))\n",
        "scaler = StandardScaler()\n",
        "\n",
        "csv_test_features = pd.read_csv(csv_test, index_col = 0, usecols =[i for i in cols if i != 'label'])\n",
        "csv_test_labels = pd.read_csv(csv_test, index_col = 0, usecols=[0, 1])\n",
        "\n",
        "test_features = csv_test_features.values\n",
        "test_features = scaler.fit_transform(test_features)\n",
        "\n",
        "test_labels = csv_test_labels.values\n",
        "\n",
        "test_features = test_features.reshape(-1,1,28,28)\n",
        "\n",
        "dataset_test = DataSet(test_features, test_labels)\n",
        "\n",
        "test_loader = DataLoader(dataset = dataset_test, batch_size = batch_size, shuffle = False)"
      ],
      "execution_count": null,
      "outputs": []
    },
    {
      "cell_type": "code",
      "metadata": {
        "id": "gZyL82lnDarZ"
      },
      "source": [
        "from torchvision import models\n",
        "\n",
        "resnet18 = models.resnet18(pretrained=True)"
      ],
      "execution_count": null,
      "outputs": []
    },
    {
      "cell_type": "code",
      "metadata": {
        "id": "G8rfwxLZDbb4"
      },
      "source": [
        "class ResNet(nn.Module):\n",
        "  def __init__(self, in_channels, resnet18, num_classes):\n",
        "    super(ResNet, self).__init__()\n",
        "    self.model = resnet18\n",
        "    self.model.conv1 = nn.Conv2d(1, 64, 3)\n",
        "    self.model.fc = nn.Linear(512, num_classes)\n",
        "\n",
        "  def forward(self, x):\n",
        "    x = self.model(x)\n",
        "\n",
        "    return x"
      ],
      "execution_count": null,
      "outputs": []
    },
    {
      "cell_type": "code",
      "metadata": {
        "id": "y36sNrnzDcUF"
      },
      "source": [
        "model = ResNet(in_channel,resnet18,num_classes).to(device)\n",
        "\n",
        "#Loss, Optimizer\n",
        "criterion = nn.CrossEntropyLoss()\n",
        "optimizer = torch.optim.Adagrad(model.parameters(), lr=learning_rate, weight_decay=0.1)"
      ],
      "execution_count": null,
      "outputs": []
    },
    {
      "cell_type": "markdown",
      "metadata": {
        "id": "kdYmyMxa528s"
      },
      "source": [
        "# CL 데이터 학습"
      ]
    },
    {
      "cell_type": "code",
      "metadata": {
        "colab": {
          "base_uri": "https://localhost:8080/",
          "height": 458
        },
        "id": "iXfCgoHZDhKK",
        "outputId": "ea0a9366-ccc3-428d-f48c-012521757a75"
      },
      "source": [
        "#CL Train\n",
        "\n",
        "total_step = len(train_loader_1)\n",
        "loss_list = []\n",
        "best_acc = 0\n",
        "\n",
        "for epoch in range(num_epochs):\n",
        "  for i, (data, labels) in enumerate(train_loader_1):\n",
        "\n",
        "\n",
        "    # Assign Tensors to Configured Device\n",
        "    images, labels = Variable(data.float()).to(device), Variable(labels.type(torch.LongTensor)).to(device)\n",
        "\n",
        "    # Forward Propagation\n",
        "    outputs = model(images)\n",
        "\n",
        "    # Get Loss, Compute Gradient, Update Parameters\n",
        "    loss = criterion(outputs, labels)\n",
        "    optimizer.zero_grad()\n",
        "    loss.backward()\n",
        "    optimizer.step()\n",
        "\n",
        "    # Append loss to plot graph\n",
        "    loss_list.append(loss)\n",
        "\n",
        "    # Print Loss to track Training process\n",
        "    if (i+1)==len(train_loader_1):\n",
        "      \n",
        "      train_acc = 0\n",
        "      train_image, train_label = next(iter(train_loader_1))\n",
        "      train_image, train_label = Variable(train_image.float()).to(device), Variable(train_label.type(torch.LongTensor)).to(device)\n",
        "\n",
        "      _, train_predicted = torch.max(model(train_image.to(device)).data, 1)\n",
        "\n",
        "      for (pred, ans) in zip(train_predicted, train_label):\n",
        "        if pred == ans:\n",
        "          train_acc += 1\n",
        "      train_acc = train_acc / len(train_predicted)\n",
        "\n",
        "      valid_acc = 0\n",
        "      valid_image, valid_label = next(iter(valid_loader_1))\n",
        "      valid_image, valid_label = Variable(valid_image.float()).to(device), Variable(valid_label.type(torch.LongTensor)).to(device)\n",
        "\n",
        "      _, valid_predicted = torch.max(model(valid_image.to(device)).data, 1)\n",
        "      \n",
        "      for (pred, ans) in zip(valid_predicted, valid_label):\n",
        "        if pred == ans:\n",
        "          valid_acc += 1\n",
        "      valid_acc = valid_acc / len(valid_predicted)\n",
        "\n",
        "      if best_acc < valid_acc:\n",
        "          best_acc = valid_acc\n",
        "          torch.save(model.state_dict(), 'Fassion_Classification_CL2.pth')\n",
        "\n",
        "      print('Epoch [{}/{}], Loss: {:.4f}, Train Accuracy: {:.2f}%, Valid Accuracy: {:.2f}%'.format(epoch+1,num_epochs, loss.item(), train_acc*100, valid_acc*100))\n",
        "\n",
        "plt.plot(loss_list)\n",
        "plt.title(\"Fassion Classfication_CL2\")\n",
        "plt.show()"
      ],
      "execution_count": null,
      "outputs": [
        {
          "output_type": "stream",
          "text": [
            "Epoch [1/10], Loss: 0.4034, Train Accuracy: 92.97%, Valid Accuracy: 85.16%\n",
            "Epoch [2/10], Loss: 0.2833, Train Accuracy: 85.94%, Valid Accuracy: 92.19%\n",
            "Epoch [3/10], Loss: 0.2653, Train Accuracy: 92.97%, Valid Accuracy: 92.19%\n",
            "Epoch [4/10], Loss: 0.1921, Train Accuracy: 93.75%, Valid Accuracy: 91.41%\n",
            "Epoch [5/10], Loss: 0.1381, Train Accuracy: 90.62%, Valid Accuracy: 92.19%\n",
            "Epoch [6/10], Loss: 0.2272, Train Accuracy: 96.09%, Valid Accuracy: 92.97%\n",
            "Epoch [7/10], Loss: 0.1895, Train Accuracy: 98.44%, Valid Accuracy: 92.19%\n",
            "Epoch [8/10], Loss: 0.1050, Train Accuracy: 99.22%, Valid Accuracy: 91.41%\n",
            "Epoch [9/10], Loss: 0.2309, Train Accuracy: 97.66%, Valid Accuracy: 92.97%\n",
            "Epoch [10/10], Loss: 0.1025, Train Accuracy: 96.88%, Valid Accuracy: 93.75%\n"
          ],
          "name": "stdout"
        },
        {
          "output_type": "display_data",
          "data": {
            "image/png": "[encoded data removed]",
            "text/plain": [
              "<Figure size 432x288 with 1 Axes>"
            ]
          },
          "metadata": {
            "tags": [],
            "needs_background": "light"
          }
        }
      ]
    },
    {
      "cell_type": "code",
      "metadata": {
        "id": "hWDVLDLgnY8o",
        "colab": {
          "base_uri": "https://localhost:8080/"
        },
        "outputId": "b5a8060e-a4a0-4134-9fde-1e032a1540d7"
      },
      "source": [
        "#CL Test\n",
        "\n",
        "model = ResNet(in_channel,resnet18,num_classes).to(device)\n",
        "#Loss, Optimizer, LR scheduler\n",
        "criterion = nn.CrossEntropyLoss()\n",
        "optimizer = torch.optim.Adagrad(model.parameters(), lr=learning_rate, weight_decay=0.1)\n",
        "\n",
        "#load trained model and evaluate model on test data\n",
        "test_model = ResNet(1,resnet18,10).to(device)\n",
        "test_model.load_state_dict(torch.load('/content/Fassion_Classification_CL2.pth'))\n",
        "test_model.eval()\n",
        "with torch.no_grad():\n",
        "  correct = 0\n",
        "  for image, label in test_loader:\n",
        "    image = image.to(device)\n",
        "    label = label.to(device)\n",
        "    out = model(image)\n",
        "    _, pred = torch.max(out.data, 1)\n",
        "    correct += (pred == label).sum().item()\n",
        "  print(\"Accuracy of the network on the {} test images: {}%\".format(len(test_loader)*batch_size, 100 * correct / (len(test_loader) * batch_size)))"
      ],
      "execution_count": null,
      "outputs": [
        {
          "output_type": "stream",
          "text": [
            "Accuracy of the network on the 10112 test images: 95.05537974683544%\n"
          ],
          "name": "stdout"
        }
      ]
    },
    {
      "cell_type": "markdown",
      "metadata": {
        "id": "chAlIakk6Blr"
      },
      "source": [
        "# **FL 데이터 학습**"
      ]
    },
    {
      "cell_type": "code",
      "metadata": {
        "id": "op6HGQbxr42C"
      },
      "source": [
        "import copy\n",
        "import torch.optim as optim"
      ],
      "execution_count": null,
      "outputs": []
    },
    {
      "cell_type": "code",
      "metadata": {
        "id": "xZX9ml-hqnQ4"
      },
      "source": [
        "#FL dataloader\n",
        "user_id = ['Alice2','John2', 'Peter2']\n",
        "\n",
        "train_loaders = [train_loader_alice1, train_loader_john1,train_loader_peter1]\n",
        "valid_loaders = [valid_loader_alice1, valid_loader_john1,valid_loader_peter1]"
      ],
      "execution_count": null,
      "outputs": []
    },
    {
      "cell_type": "code",
      "metadata": {
        "id": "sml1ND3TqmX9"
      },
      "source": [
        "global_model = ResNet(in_channel,resnet18,num_classes).to(device)\n",
        "\n",
        "global_weights = global_model.state_dict()\n",
        "\n",
        "criterion = nn.CrossEntropyLoss()"
      ],
      "execution_count": null,
      "outputs": []
    },
    {
      "cell_type": "code",
      "metadata": {
        "id": "T6ucK8oSrhsb"
      },
      "source": [
        "def train_test(global_model, train_loaders, user_id, epochs=10, interval=100):\n",
        "    for epoch in range(epochs):\n",
        "        local_weights = []\n",
        "        \n",
        "        global_model.train()\n",
        "        \n",
        "        models = [copy.deepcopy(global_model), copy.deepcopy(global_model), copy.deepcopy(global_model),]\n",
        "        \n",
        "        for idx in range(len(user_id)):\n",
        "            w = local_update(models[idx], train_loaders[idx], user_id[idx], epoch, interval)\n",
        "            local_weights.append(copy.deepcopy(w))\n",
        "            \n",
        "        global_weights = average_weights(local_weights)\n",
        "        global_model.load_state_dict(global_weights)\n",
        "    \n",
        "        test(global_model, test_loader)\n",
        "    \n",
        "    return global_model"
      ],
      "execution_count": null,
      "outputs": []
    },
    {
      "cell_type": "code",
      "metadata": {
        "id": "jQfISELQrivL"
      },
      "source": [
        "def local_update(model, train_loader, user_id, epoch, interval):\n",
        "    print(\"User ID : %s\" %user_id)\n",
        "    model.train()\n",
        "    \n",
        "    optimizer = optim.Adam(model.parameters(), lr = 1e-3)\n",
        "    \n",
        "    for batch_idx, (data, target) in enumerate(train_loader):\n",
        "        data, target = data.to(device), target.to(device)\n",
        "        \n",
        "        optimizer.zero_grad()\n",
        "        output = model(data)\n",
        "        loss = criterion(output, target)\n",
        "        loss.backward()\n",
        "        optimizer.step()\n",
        "        \n",
        "        if batch_idx % interval == 0:\n",
        "            print('Train Epoch: {} [{}/{} ({:.0f}%)]\\tLoss: {:.6f}'.format(\n",
        "                epoch, batch_idx * len(data), len(train_loader.dataset),\n",
        "                100. * batch_idx / len(train_loader), loss.item()))            \n",
        "        \n",
        "    return model.state_dict()"
      ],
      "execution_count": null,
      "outputs": []
    },
    {
      "cell_type": "code",
      "metadata": {
        "id": "R1rq1fEGrjyf"
      },
      "source": [
        "def average_weights(w):\n",
        "    w_avg = copy.deepcopy(w[0])\n",
        "    for k in w_avg.keys():\n",
        "        for i in range(1, len(w)):\n",
        "            w_avg[k] += w[i][k]\n",
        "        w_avg[k] = torch.div(w_avg[k], len(w))\n",
        "    return w_avg"
      ],
      "execution_count": null,
      "outputs": []
    },
    {
      "cell_type": "code",
      "metadata": {
        "id": "9UR4rtgCrkyC"
      },
      "source": [
        "def test(global_model, test_loader):\n",
        "    global_model.eval()\n",
        "    test_loss = 0\n",
        "    correct = 0\n",
        "    with torch.no_grad():\n",
        "        for data, label in test_loader:\n",
        "            data, label = data.to(device), label.to(device)\n",
        "            output = global_model(data)\n",
        "            test_loss += criterion(output, label).item()\n",
        "            pred = output.argmax(dim=1, keepdim = True)\n",
        "            correct += pred.eq(label.view_as(pred)).sum().item()\n",
        "    test_loss /= len(test_loader.dataset)\n",
        "    print('\\nTest set: Average loss: {:.4f}, Accuracy: {}/{} ({:.2f}%)\\n'.format\n",
        "          (test_loss, correct, len(test_loader.dataset),\n",
        "        100. * correct / len(test_loader.dataset)))"
      ],
      "execution_count": null,
      "outputs": []
    },
    {
      "cell_type": "code",
      "metadata": {
        "id": "U1qXnb3mrmit",
        "colab": {
          "base_uri": "https://localhost:8080/"
        },
        "outputId": "151d85e4-b569-4633-fd2d-9e9a5b3408e3"
      },
      "source": [
        "global_model = train_test(global_model, train_loaders, user_id)"
      ],
      "execution_count": null,
      "outputs": [
        {
          "output_type": "stream",
          "text": [
            "User ID : Alice2\n",
            "Train Epoch: 0 [0/16000 (0%)]\tLoss: 2.653322\n",
            "Train Epoch: 0 [12800/16000 (80%)]\tLoss: 0.019025\n",
            "User ID : John2\n",
            "Train Epoch: 0 [0/16000 (0%)]\tLoss: 3.059779\n",
            "Train Epoch: 0 [12800/16000 (80%)]\tLoss: 0.016942\n",
            "User ID : Peter2\n",
            "Train Epoch: 0 [0/16000 (0%)]\tLoss: 2.814598\n",
            "Train Epoch: 0 [12800/16000 (80%)]\tLoss: 0.054173\n",
            "\n",
            "Test set: Average loss: 0.0165, Accuracy: 3029/10000 (30.29%)\n",
            "\n",
            "User ID : Alice2\n",
            "Train Epoch: 1 [0/16000 (0%)]\tLoss: 0.670925\n",
            "Train Epoch: 1 [12800/16000 (80%)]\tLoss: 0.087176\n",
            "User ID : John2\n",
            "Train Epoch: 1 [0/16000 (0%)]\tLoss: 0.896065\n",
            "Train Epoch: 1 [12800/16000 (80%)]\tLoss: 0.078421\n",
            "User ID : Peter2\n",
            "Train Epoch: 1 [0/16000 (0%)]\tLoss: 1.049617\n",
            "Train Epoch: 1 [12800/16000 (80%)]\tLoss: 0.103569\n",
            "\n",
            "Test set: Average loss: 0.0173, Accuracy: 2020/10000 (20.20%)\n",
            "\n",
            "User ID : Alice2\n",
            "Train Epoch: 2 [0/16000 (0%)]\tLoss: 0.153397\n",
            "Train Epoch: 2 [12800/16000 (80%)]\tLoss: 0.084168\n",
            "User ID : John2\n",
            "Train Epoch: 2 [0/16000 (0%)]\tLoss: 0.537547\n",
            "Train Epoch: 2 [12800/16000 (80%)]\tLoss: 0.093651\n",
            "User ID : Peter2\n",
            "Train Epoch: 2 [0/16000 (0%)]\tLoss: 2.397895\n",
            "Train Epoch: 2 [12800/16000 (80%)]\tLoss: 0.048480\n",
            "\n",
            "Test set: Average loss: 0.0151, Accuracy: 2020/10000 (20.20%)\n",
            "\n",
            "User ID : Alice2\n",
            "Train Epoch: 3 [0/16000 (0%)]\tLoss: 1.040433\n",
            "Train Epoch: 3 [12800/16000 (80%)]\tLoss: 0.129351\n",
            "User ID : John2\n",
            "Train Epoch: 3 [0/16000 (0%)]\tLoss: 0.400476\n",
            "Train Epoch: 3 [12800/16000 (80%)]\tLoss: 0.078222\n",
            "User ID : Peter2\n",
            "Train Epoch: 3 [0/16000 (0%)]\tLoss: 1.525388\n",
            "Train Epoch: 3 [12800/16000 (80%)]\tLoss: 0.068659\n",
            "\n",
            "Test set: Average loss: 0.0144, Accuracy: 3641/10000 (36.41%)\n",
            "\n",
            "User ID : Alice2\n",
            "Train Epoch: 4 [0/16000 (0%)]\tLoss: 0.193385\n",
            "Train Epoch: 4 [12800/16000 (80%)]\tLoss: 0.062277\n",
            "User ID : John2\n",
            "Train Epoch: 4 [0/16000 (0%)]\tLoss: 1.352687\n",
            "Train Epoch: 4 [12800/16000 (80%)]\tLoss: 0.053944\n",
            "User ID : Peter2\n",
            "Train Epoch: 4 [0/16000 (0%)]\tLoss: 1.502394\n",
            "Train Epoch: 4 [12800/16000 (80%)]\tLoss: 0.077937\n",
            "\n",
            "Test set: Average loss: 0.0136, Accuracy: 3279/10000 (32.79%)\n",
            "\n",
            "User ID : Alice2\n",
            "Train Epoch: 5 [0/16000 (0%)]\tLoss: 0.535279\n",
            "Train Epoch: 5 [12800/16000 (80%)]\tLoss: 0.031303\n",
            "User ID : John2\n",
            "Train Epoch: 5 [0/16000 (0%)]\tLoss: 0.409640\n",
            "Train Epoch: 5 [12800/16000 (80%)]\tLoss: 0.010189\n",
            "User ID : Peter2\n",
            "Train Epoch: 5 [0/16000 (0%)]\tLoss: 0.501484\n",
            "Train Epoch: 5 [12800/16000 (80%)]\tLoss: 0.042122\n",
            "\n",
            "Test set: Average loss: 0.0128, Accuracy: 4590/10000 (45.90%)\n",
            "\n",
            "User ID : Alice2\n",
            "Train Epoch: 6 [0/16000 (0%)]\tLoss: 0.064613\n",
            "Train Epoch: 6 [12800/16000 (80%)]\tLoss: 0.050477\n",
            "User ID : John2\n",
            "Train Epoch: 6 [0/16000 (0%)]\tLoss: 0.387028\n",
            "Train Epoch: 6 [12800/16000 (80%)]\tLoss: 0.028179\n",
            "User ID : Peter2\n",
            "Train Epoch: 6 [0/16000 (0%)]\tLoss: 0.638606\n",
            "Train Epoch: 6 [12800/16000 (80%)]\tLoss: 0.024173\n",
            "\n",
            "Test set: Average loss: 0.0122, Accuracy: 5042/10000 (50.42%)\n",
            "\n",
            "User ID : Alice2\n",
            "Train Epoch: 7 [0/16000 (0%)]\tLoss: 0.055652\n",
            "Train Epoch: 7 [12800/16000 (80%)]\tLoss: 0.034927\n",
            "User ID : John2\n",
            "Train Epoch: 7 [0/16000 (0%)]\tLoss: 0.264845\n",
            "Train Epoch: 7 [12800/16000 (80%)]\tLoss: 0.039282\n",
            "User ID : Peter2\n",
            "Train Epoch: 7 [0/16000 (0%)]\tLoss: 0.636979\n",
            "Train Epoch: 7 [12800/16000 (80%)]\tLoss: 0.095523\n",
            "\n",
            "Test set: Average loss: 0.0124, Accuracy: 5333/10000 (53.33%)\n",
            "\n",
            "User ID : Alice2\n",
            "Train Epoch: 8 [0/16000 (0%)]\tLoss: 0.178726\n",
            "Train Epoch: 8 [12800/16000 (80%)]\tLoss: 0.056616\n",
            "User ID : John2\n",
            "Train Epoch: 8 [0/16000 (0%)]\tLoss: 0.314249\n",
            "Train Epoch: 8 [12800/16000 (80%)]\tLoss: 0.029767\n",
            "User ID : Peter2\n",
            "Train Epoch: 8 [0/16000 (0%)]\tLoss: 0.360106\n",
            "Train Epoch: 8 [12800/16000 (80%)]\tLoss: 0.065993\n",
            "\n",
            "Test set: Average loss: 0.0111, Accuracy: 6099/10000 (60.99%)\n",
            "\n",
            "User ID : Alice2\n",
            "Train Epoch: 9 [0/16000 (0%)]\tLoss: 0.058432\n",
            "Train Epoch: 9 [12800/16000 (80%)]\tLoss: 0.118285\n",
            "User ID : John2\n",
            "Train Epoch: 9 [0/16000 (0%)]\tLoss: 0.387322\n",
            "Train Epoch: 9 [12800/16000 (80%)]\tLoss: 0.007475\n",
            "User ID : Peter2\n",
            "Train Epoch: 9 [0/16000 (0%)]\tLoss: 0.146809\n",
            "Train Epoch: 9 [12800/16000 (80%)]\tLoss: 0.059481\n",
            "\n",
            "Test set: Average loss: 0.0105, Accuracy: 5566/10000 (55.66%)\n",
            "\n"
          ],
          "name": "stdout"
        }
      ]
    },
    {
      "cell_type": "markdown",
      "metadata": {
        "id": "YpMOwEOb6H-K"
      },
      "source": [
        "# **개별 데이터 학습**"
      ]
    },
    {
      "cell_type": "code",
      "metadata": {
        "id": "3B-AdVIDtIre",
        "colab": {
          "base_uri": "https://localhost:8080/",
          "height": 476
        },
        "outputId": "b8fce314-18a0-4766-ce17-727f18bff981"
      },
      "source": [
        "#개별 데이터 학습 alice train&test\n",
        "\n",
        "total_step = len(train_loader_alice1)\n",
        "loss_list = []\n",
        "best_acc = 0\n",
        "\n",
        "for epoch in range(num_epochs):\n",
        "  for i, (data, labels) in enumerate(train_loader_alice1):\n",
        "\n",
        "\n",
        "    # Assign Tensors to Configured Device\n",
        "    images, labels = Variable(data.float()).to(device), Variable(labels.type(torch.LongTensor)).to(device)\n",
        "\n",
        "    # Forward Propagation\n",
        "    outputs = model(images)\n",
        "\n",
        "    # Get Loss, Compute Gradient, Update Parameters\n",
        "    loss = criterion(outputs, labels)\n",
        "    optimizer.zero_grad()\n",
        "    loss.backward()\n",
        "    optimizer.step()\n",
        "\n",
        "    # Append loss to plot graph\n",
        "    loss_list.append(loss)\n",
        "\n",
        "    # Print Loss to track Training process\n",
        "    if (i+1)==len(train_loader_alice1):\n",
        "      \n",
        "      train_acc = 0\n",
        "      train_image, train_label = next(iter(train_loader_alice1))\n",
        "      train_image, train_label = Variable(train_image.float()).to(device), Variable(train_label.type(torch.LongTensor)).to(device)\n",
        "\n",
        "      _, train_predicted = torch.max(model(train_image.to(device)).data, 1)\n",
        "\n",
        "      for (pred, ans) in zip(train_predicted, train_label):\n",
        "        if pred == ans:\n",
        "          train_acc += 1\n",
        "      train_acc = train_acc / len(train_predicted)\n",
        "\n",
        "      valid_acc = 0\n",
        "      valid_image, valid_label = next(iter(valid_loader_alice1))\n",
        "      valid_image, valid_label = Variable(valid_image.float()).to(device), Variable(valid_label.type(torch.LongTensor)).to(device)\n",
        "\n",
        "      _, valid_predicted = torch.max(model(valid_image.to(device)).data, 1)\n",
        "      \n",
        "      for (pred, ans) in zip(valid_predicted, valid_label):\n",
        "        if pred == ans:\n",
        "          valid_acc += 1\n",
        "      valid_acc = valid_acc / len(valid_predicted)\n",
        "\n",
        "      if best_acc < valid_acc:\n",
        "          best_acc = valid_acc\n",
        "          torch.save(model.state_dict(), 'Fassion_Classification_Alice2.pth')\n",
        "\n",
        "      print('Epoch [{}/{}], Loss: {:.4f}, Train Accuracy: {:.2f}%, Valid Accuracy: {:.2f}%'.format(epoch+1,num_epochs, loss.item(), train_acc*100, valid_acc*100))\n",
        "\n",
        "plt.plot(loss_list)\n",
        "plt.title(\"Fassion Classfication_Alice2\")\n",
        "plt.show()\n",
        "\n",
        "#CL Test\n",
        "\n",
        "model = ResNet(in_channel,resnet18,num_classes).to(device)\n",
        "#Loss, Optimizer, LR scheduler\n",
        "criterion = nn.CrossEntropyLoss()\n",
        "optimizer = torch.optim.Adagrad(model.parameters(), lr=learning_rate, weight_decay=0.1)\n",
        "\n",
        "#load trained model and evaluate model on test data\n",
        "test_model = ResNet(1,resnet18,10).to(device)\n",
        "test_model.load_state_dict(torch.load('/content/Fassion_Classification_Alice2.pth'))\n",
        "test_model.eval()\n",
        "with torch.no_grad():\n",
        "  correct = 0\n",
        "  for image, label in test_loader:\n",
        "    image = image.to(device)\n",
        "    label = label.to(device)\n",
        "    out = model(image)\n",
        "    _, pred = torch.max(out.data, 1)\n",
        "    correct += (pred == label).sum().item()\n",
        "  print(\"Accuracy of the network on the {} test images: {}%\".format(len(test_loader)*batch_size, 100 * correct / (len(test_loader) * batch_size)))"
      ],
      "execution_count": null,
      "outputs": [
        {
          "output_type": "stream",
          "text": [
            "Epoch [1/10], Loss: 0.6140, Train Accuracy: 86.72%, Valid Accuracy: 92.19%\n",
            "Epoch [2/10], Loss: 0.3978, Train Accuracy: 94.53%, Valid Accuracy: 88.28%\n",
            "Epoch [3/10], Loss: 0.3220, Train Accuracy: 91.41%, Valid Accuracy: 85.16%\n",
            "Epoch [4/10], Loss: 0.3142, Train Accuracy: 95.31%, Valid Accuracy: 89.84%\n",
            "Epoch [5/10], Loss: 0.3405, Train Accuracy: 92.19%, Valid Accuracy: 91.41%\n",
            "Epoch [6/10], Loss: 0.2814, Train Accuracy: 94.53%, Valid Accuracy: 94.53%\n",
            "Epoch [7/10], Loss: 0.3630, Train Accuracy: 93.75%, Valid Accuracy: 93.75%\n",
            "Epoch [8/10], Loss: 0.2741, Train Accuracy: 91.41%, Valid Accuracy: 92.19%\n",
            "Epoch [9/10], Loss: 0.3434, Train Accuracy: 92.19%, Valid Accuracy: 94.53%\n",
            "Epoch [10/10], Loss: 0.3979, Train Accuracy: 92.97%, Valid Accuracy: 89.84%\n"
          ],
          "name": "stdout"
        },
        {
          "output_type": "display_data",
          "data": {
            "image/png": "[encoded data removed]",
            "text/plain": [
              "<Figure size 432x288 with 1 Axes>"
            ]
          },
          "metadata": {
            "tags": [],
            "needs_background": "light"
          }
        },
        {
          "output_type": "stream",
          "text": [
            "Accuracy of the network on the 10112 test images: 36.214398734177216%\n"
          ],
          "name": "stdout"
        }
      ]
    },
    {
      "cell_type": "code",
      "metadata": {
        "colab": {
          "base_uri": "https://localhost:8080/",
          "height": 476
        },
        "id": "OrpP0jRh5uns",
        "outputId": "383c1a82-2c17-4308-d7bd-1a6be49f8e8a"
      },
      "source": [
        "#개별 데이터 학습 john train&test\n",
        "\n",
        "total_step = len(train_loader_john1)\n",
        "loss_list = []\n",
        "best_acc = 0\n",
        "\n",
        "for epoch in range(num_epochs):\n",
        "  for i, (data, labels) in enumerate(train_loader_john1):\n",
        "\n",
        "\n",
        "    # Assign Tensors to Configured Device\n",
        "    images, labels = Variable(data.float()).to(device), Variable(labels.type(torch.LongTensor)).to(device)\n",
        "\n",
        "    # Forward Propagation\n",
        "    outputs = model(images)\n",
        "\n",
        "    # Get Loss, Compute Gradient, Update Parameters\n",
        "    loss = criterion(outputs, labels)\n",
        "    optimizer.zero_grad()\n",
        "    loss.backward()\n",
        "    optimizer.step()\n",
        "\n",
        "    # Append loss to plot graph\n",
        "    loss_list.append(loss)\n",
        "\n",
        "    # Print Loss to track Training process\n",
        "    if (i+1)==len(train_loader_john1):\n",
        "      \n",
        "      train_acc = 0\n",
        "      train_image, train_label = next(iter(train_loader_john1))\n",
        "      train_image, train_label = Variable(train_image.float()).to(device), Variable(train_label.type(torch.LongTensor)).to(device)\n",
        "\n",
        "      _, train_predicted = torch.max(model(train_image.to(device)).data, 1)\n",
        "\n",
        "      for (pred, ans) in zip(train_predicted, train_label):\n",
        "        if pred == ans:\n",
        "          train_acc += 1\n",
        "      train_acc = train_acc / len(train_predicted)\n",
        "\n",
        "      valid_acc = 0\n",
        "      valid_image, valid_label = next(iter(valid_loader_john1))\n",
        "      valid_image, valid_label = Variable(valid_image.float()).to(device), Variable(valid_label.type(torch.LongTensor)).to(device)\n",
        "\n",
        "      _, valid_predicted = torch.max(model(valid_image.to(device)).data, 1)\n",
        "      \n",
        "      for (pred, ans) in zip(valid_predicted, valid_label):\n",
        "        if pred == ans:\n",
        "          valid_acc += 1\n",
        "      valid_acc = valid_acc / len(valid_predicted)\n",
        "\n",
        "      if best_acc < valid_acc:\n",
        "          best_acc = valid_acc\n",
        "          torch.save(model.state_dict(), 'Fassion_Classification_John2.pth')\n",
        "\n",
        "      print('Epoch [{}/{}], Loss: {:.4f}, Train Accuracy: {:.2f}%, Valid Accuracy: {:.2f}%'.format(epoch+1,num_epochs, loss.item(), train_acc*100, valid_acc*100))\n",
        "\n",
        "plt.plot(loss_list)\n",
        "plt.title(\"Fassion Classfication_John2\")\n",
        "plt.show()\n",
        "\n",
        "#CL Test\n",
        "\n",
        "model = ResNet(in_channel,resnet18,num_classes).to(device)\n",
        "#Loss, Optimizer, LR scheduler\n",
        "criterion = nn.CrossEntropyLoss()\n",
        "optimizer = torch.optim.Adagrad(model.parameters(), lr=learning_rate, weight_decay=0.1)\n",
        "\n",
        "#load trained model and evaluate model on test data\n",
        "test_model = ResNet(1,resnet18,10).to(device)\n",
        "test_model.load_state_dict(torch.load('/content/Fassion_Classification_John2.pth'))\n",
        "test_model.eval()\n",
        "with torch.no_grad():\n",
        "  correct = 0\n",
        "  for image, label in test_loader:\n",
        "    image = image.to(device)\n",
        "    label = label.to(device)\n",
        "    out = model(image)\n",
        "    _, pred = torch.max(out.data, 1)\n",
        "    correct += (pred == label).sum().item()\n",
        "  print(\"Accuracy of the network on the {} test images: {}%\".format(len(test_loader)*batch_size, 100 * correct / (len(test_loader) * batch_size)))"
      ],
      "execution_count": null,
      "outputs": [
        {
          "output_type": "stream",
          "text": [
            "Epoch [1/10], Loss: 0.1179, Train Accuracy: 99.22%, Valid Accuracy: 97.66%\n",
            "Epoch [2/10], Loss: 0.0663, Train Accuracy: 96.88%, Valid Accuracy: 95.31%\n",
            "Epoch [3/10], Loss: 0.1705, Train Accuracy: 99.22%, Valid Accuracy: 99.22%\n",
            "Epoch [4/10], Loss: 0.0459, Train Accuracy: 98.44%, Valid Accuracy: 97.66%\n",
            "Epoch [5/10], Loss: 0.0168, Train Accuracy: 100.00%, Valid Accuracy: 96.88%\n",
            "Epoch [6/10], Loss: 0.0443, Train Accuracy: 99.22%, Valid Accuracy: 97.66%\n",
            "Epoch [7/10], Loss: 0.0965, Train Accuracy: 100.00%, Valid Accuracy: 96.09%\n",
            "Epoch [8/10], Loss: 0.0491, Train Accuracy: 100.00%, Valid Accuracy: 98.44%\n",
            "Epoch [9/10], Loss: 0.0171, Train Accuracy: 99.22%, Valid Accuracy: 96.88%\n",
            "Epoch [10/10], Loss: 0.0385, Train Accuracy: 99.22%, Valid Accuracy: 97.66%\n"
          ],
          "name": "stdout"
        },
        {
          "output_type": "display_data",
          "data": {
            "image/png": "[encoded data removed]",
            "text/plain": [
              "<Figure size 432x288 with 1 Axes>"
            ]
          },
          "metadata": {
            "tags": [],
            "needs_background": "light"
          }
        },
        {
          "output_type": "stream",
          "text": [
            "Accuracy of the network on the 10112 test images: 39.50751582278481%\n"
          ],
          "name": "stdout"
        }
      ]
    },
    {
      "cell_type": "code",
      "metadata": {
        "colab": {
          "base_uri": "https://localhost:8080/",
          "height": 476
        },
        "id": "vP5bzHWq63vJ",
        "outputId": "3383ae1c-2945-4a99-a94b-7478abffeb8e"
      },
      "source": [
        "#개별 데이터 학습 peter train&test\n",
        "\n",
        "total_step = len(train_loader_peter1)\n",
        "loss_list = []\n",
        "best_acc = 0\n",
        "\n",
        "for epoch in range(num_epochs):\n",
        "  for i, (data, labels) in enumerate(train_loader_peter1):\n",
        "\n",
        "\n",
        "    # Assign Tensors to Configured Device\n",
        "    images, labels = Variable(data.float()).to(device), Variable(labels.type(torch.LongTensor)).to(device)\n",
        "\n",
        "    # Forward Propagation\n",
        "    outputs = model(images)\n",
        "\n",
        "    # Get Loss, Compute Gradient, Update Parameters\n",
        "    loss = criterion(outputs, labels)\n",
        "    optimizer.zero_grad()\n",
        "    loss.backward()\n",
        "    optimizer.step()\n",
        "\n",
        "    # Append loss to plot graph\n",
        "    loss_list.append(loss)\n",
        "\n",
        "    # Print Loss to track Training process\n",
        "    if (i+1)==len(train_loader_peter1):\n",
        "      \n",
        "      train_acc = 0\n",
        "      train_image, train_label = next(iter(train_loader_peter1))\n",
        "      train_image, train_label = Variable(train_image.float()).to(device), Variable(train_label.type(torch.LongTensor)).to(device)\n",
        "\n",
        "      _, train_predicted = torch.max(model(train_image.to(device)).data, 1)\n",
        "\n",
        "      for (pred, ans) in zip(train_predicted, train_label):\n",
        "        if pred == ans:\n",
        "          train_acc += 1\n",
        "      train_acc = train_acc / len(train_predicted)\n",
        "\n",
        "      valid_acc = 0\n",
        "      valid_image, valid_label = next(iter(valid_loader_peter1))\n",
        "      valid_image, valid_label = Variable(valid_image.float()).to(device), Variable(valid_label.type(torch.LongTensor)).to(device)\n",
        "\n",
        "      _, valid_predicted = torch.max(model(valid_image.to(device)).data, 1)\n",
        "      \n",
        "      for (pred, ans) in zip(valid_predicted, valid_label):\n",
        "        if pred == ans:\n",
        "          valid_acc += 1\n",
        "      valid_acc = valid_acc / len(valid_predicted)\n",
        "\n",
        "      if best_acc < valid_acc:\n",
        "          best_acc = valid_acc\n",
        "          torch.save(model.state_dict(), 'Fassion_Classification_Peter2.pth')\n",
        "\n",
        "      print('Epoch [{}/{}], Loss: {:.4f}, Train Accuracy: {:.2f}%, Valid Accuracy: {:.2f}%'.format(epoch+1,num_epochs, loss.item(), train_acc*100, valid_acc*100))\n",
        "\n",
        "plt.plot(loss_list)\n",
        "plt.title(\"Fassion Classfication_Peter2\")\n",
        "plt.show()\n",
        "\n",
        "#CL Test\n",
        "\n",
        "model = ResNet(in_channel,resnet18,num_classes).to(device)\n",
        "#Loss, Optimizer, LR scheduler\n",
        "criterion = nn.CrossEntropyLoss()\n",
        "optimizer = torch.optim.Adagrad(model.parameters(), lr=learning_rate, weight_decay=0.1)\n",
        "\n",
        "#load trained model and evaluate model on test data\n",
        "test_model = ResNet(1,resnet18,10).to(device)\n",
        "test_model.load_state_dict(torch.load('/content/Fassion_Classification_Peter2.pth'))\n",
        "test_model.eval()\n",
        "with torch.no_grad():\n",
        "  correct = 0\n",
        "  for image, label in test_loader:\n",
        "    image = image.to(device)\n",
        "    label = label.to(device)\n",
        "    out = model(image)\n",
        "    _, pred = torch.max(out.data, 1)\n",
        "    correct += (pred == label).sum().item()\n",
        "  print(\"Accuracy of the network on the {} test images: {}%\".format(len(test_loader)*batch_size, 100 * correct / (len(test_loader) * batch_size)))"
      ],
      "execution_count": null,
      "outputs": [
        {
          "output_type": "stream",
          "text": [
            "Epoch [1/10], Loss: 0.0338, Train Accuracy: 96.09%, Valid Accuracy: 96.09%\n",
            "Epoch [2/10], Loss: 0.1231, Train Accuracy: 96.88%, Valid Accuracy: 97.66%\n",
            "Epoch [3/10], Loss: 0.0817, Train Accuracy: 97.66%, Valid Accuracy: 94.53%\n",
            "Epoch [4/10], Loss: 0.0374, Train Accuracy: 97.66%, Valid Accuracy: 93.75%\n",
            "Epoch [5/10], Loss: 0.0539, Train Accuracy: 98.44%, Valid Accuracy: 93.75%\n",
            "Epoch [6/10], Loss: 0.0339, Train Accuracy: 96.88%, Valid Accuracy: 96.88%\n",
            "Epoch [7/10], Loss: 0.0286, Train Accuracy: 100.00%, Valid Accuracy: 97.66%\n",
            "Epoch [8/10], Loss: 0.0370, Train Accuracy: 98.44%, Valid Accuracy: 94.53%\n",
            "Epoch [9/10], Loss: 0.0367, Train Accuracy: 98.44%, Valid Accuracy: 92.19%\n",
            "Epoch [10/10], Loss: 0.0116, Train Accuracy: 100.00%, Valid Accuracy: 94.53%\n"
          ],
          "name": "stdout"
        },
        {
          "output_type": "display_data",
          "data": {
            "image/png": "[encoded data removed]",
            "text/plain": [
              "<Figure size 432x288 with 1 Axes>"
            ]
          },
          "metadata": {
            "tags": [],
            "needs_background": "light"
          }
        },
        {
          "output_type": "stream",
          "text": [
            "Accuracy of the network on the 10112 test images: 34.99802215189873%\n"
          ],
          "name": "stdout"
        }
      ]
    },
    {
      "cell_type": "code",
      "metadata": {
        "id": "Qpk4oX9s7nlr"
      },
      "source": [
        ""
      ],
      "execution_count": null,
      "outputs": []
    }
  ]
}