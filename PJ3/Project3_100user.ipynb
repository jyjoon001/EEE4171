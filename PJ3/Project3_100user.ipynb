{
  "nbformat": 4,
  "nbformat_minor": 0,
  "metadata": {
    "colab": {
      "name": "Project3_100user.ipynb",
      "provenance": [],
      "collapsed_sections": []
    },
    "kernelspec": {
      "name": "python3",
      "display_name": "Python 3"
    },
    "language_info": {
      "name": "python"
    }
  },
  "cells": [
    {
      "cell_type": "code",
      "metadata": {
        "colab": {
          "base_uri": "https://localhost:8080/"
        },
        "id": "FiVRtQlzpCa4",
        "outputId": "67ff9940-18e7-437f-a6cf-faf25619ef2a"
      },
      "source": [
        "from google.colab import drive \n",
        "\n",
        "drive.mount('/content/gdrive')"
      ],
      "execution_count": 40,
      "outputs": [
        {
          "output_type": "stream",
          "text": [
            "Drive already mounted at /content/gdrive; to attempt to forcibly remount, call drive.mount(\"/content/gdrive\", force_remount=True).\n"
          ],
          "name": "stdout"
        }
      ]
    },
    {
      "cell_type": "code",
      "metadata": {
        "id": "34n5CfdSpEa0"
      },
      "source": [
        "#initialize\n",
        "import numpy as np\n",
        "import pandas as pd\n",
        "\n",
        "#load train_data from csv\n",
        "\n",
        "csv_dataset ='/content/gdrive/MyDrive/AIC/movie_train.csv'\n",
        "\n",
        "cols_dataset = list(pd.read_csv(csv_dataset, nrows =1))\n",
        "\n",
        "csv_features = pd.read_csv(csv_dataset, index_col = 0, usecols =[i for i in cols_dataset if i != 'rating'])\n",
        "csv_label = pd.read_csv(csv_dataset, index_col = 0, usecols=[0, 3])\n",
        "csv_user = pd.read_csv(csv_dataset, index_col = 0, usecols=[0, 1])\n",
        "csv_movie = pd.read_csv(csv_dataset, index_col = 0, usecols=[0, 2])\n",
        "\n",
        "data_label = csv_label.values\n",
        "data_label = data_label.reshape(-1, len(data_label))\n",
        "\n",
        "data_user = csv_user.values\n",
        "data_user = data_user.reshape(-1, len(data_user))\n",
        "\n",
        "data_movie = csv_movie.values\n",
        "data_movie = data_movie.reshape(-1, len(data_movie))"
      ],
      "execution_count": 41,
      "outputs": []
    },
    {
      "cell_type": "code",
      "metadata": {
        "id": "-EoNd-fsWLWM"
      },
      "source": [
        "#display training data\n",
        "matrix_R = []\n",
        "R = []\n",
        "\n",
        "max_movie = data_movie.max()\n",
        "max_user = data_user.max()\n",
        "\n",
        "for i in range(max_user):\n",
        "    for j in range(max_movie):\n",
        "        R.append(0)\n",
        "\n",
        "    matrix_R.append(R)\n",
        "    R = []\n",
        "\n",
        "for i in range(len(data_user[0])):\n",
        "    matrix_R[data_user[0][i]-1][data_movie[0][i]-1] = data_label[0][i]\n",
        "    "
      ],
      "execution_count": 42,
      "outputs": []
    },
    {
      "cell_type": "code",
      "metadata": {
        "id": "vQKqhM-GsJOv"
      },
      "source": [
        "#Baseline predictor\n",
        "matrix_A = []\n",
        "A = []\n",
        "\n",
        "max_movie = data_movie.max()\n",
        "max_user = data_user.max()\n",
        "average_predictor = np.sum(data_label)/len(data_label[0])\n",
        "for i in range(len(data_user[0])):\n",
        "    for j in range(max_user+max_movie):\n",
        "        A.append(0)\n",
        "\n",
        "    matrix_A.append(A)\n",
        "    A = []\n",
        "\n",
        "for i in range(len(data_user[0])):\n",
        "    matrix_A[i][data_user[0][i]-1] = 1\n",
        "    matrix_A[i][data_movie[0][i]-1+max_user] = 1\n",
        "    \n",
        "trans_matrix_A = np.transpose(matrix_A)\n",
        "\n",
        "pinv_matrix_A = np.linalg.pinv(matrix_A)\n",
        "\n",
        "matrix_C = []\n",
        "C = []\n",
        "\n",
        "#prediction of bias\n",
        "for i in range(len(data_user[0])):\n",
        "    C.append(0)\n",
        "    matrix_C.append(C)\n",
        "    C = []\n",
        "for i in range(len(data_user[0])):\n",
        "    matrix_C[i][0] = data_label[0][i]-average_predictor\n",
        "\n",
        "matrix_B = np.matmul(pinv_matrix_A, matrix_C)"
      ],
      "execution_count": 43,
      "outputs": []
    },
    {
      "cell_type": "code",
      "metadata": {
        "id": "BmnGxxMEQKjv"
      },
      "source": [
        "#Rating matrix estimated by the baseline predictor\n",
        "matrix_R_hat = []\n",
        "R_hat = []\n",
        "R_index = 0\n",
        "\n",
        "max_movie = data_movie.max()\n",
        "max_user = data_user.max()\n",
        "\n",
        "for i in range(max_user):\n",
        "    for j in range(max_movie):\n",
        "        R_hat.append(0)\n",
        "    matrix_R_hat.append(R_hat)\n",
        "    R_hat = []\n",
        "\n",
        "for i in range(max_user):\n",
        "    for j in range(max_movie):\n",
        "        matrix_R_hat[i][j] = round(matrix_B[i][0]+matrix_B[max_user+j][0]+average_predictor,2)"
      ],
      "execution_count": 44,
      "outputs": []
    },
    {
      "cell_type": "code",
      "metadata": {
        "id": "Db6g4KQ-UmHV"
      },
      "source": [
        "matrix_P = []\n",
        "P = []\n",
        "for i in range(max_user):\n",
        "    for j in range(max_movie):\n",
        "        P.append(0)\n",
        "    matrix_P.append(P)\n",
        "    P = []\n",
        "\n",
        "for i in range(max_user):\n",
        "    for j in range(max_movie):\n",
        "        if matrix_R[i][j] != 0:\n",
        "            matrix_P[i][j] = round(matrix_R[i][j] - matrix_R_hat[i][j],2)"
      ],
      "execution_count": 45,
      "outputs": []
    },
    {
      "cell_type": "code",
      "metadata": {
        "id": "AryTbGZAZVzt"
      },
      "source": [
        "#Similarity matrix\n",
        "matrix_S = []\n",
        "S = []\n",
        "for i in range(max_movie):\n",
        "    for j in range(max_movie):\n",
        "        S.append(0)\n",
        "    matrix_S.append(S)\n",
        "    S = []\n",
        "\n",
        "for i in range(max_movie):\n",
        "    for j in range(max_movie):\n",
        "        K = []\n",
        "        upper_distance = 0\n",
        "        lower_distance = 0\n",
        "        lower_distance1 = 0\n",
        "        lower_distance2 = 0\n",
        "        distance = 0\n",
        "        for k in range(max_user):\n",
        "            if (matrix_R[k][i] != 0) & (matrix_R[k][j] != 0):\n",
        "                K.append(k)\n",
        "        for x in range(len(K)):\n",
        "            upper_distance = upper_distance + (matrix_P[K[x]][i]*matrix_P[K[x]][j])\n",
        "            lower_distance1 = lower_distance1 + (matrix_P[K[x]][i])**2\n",
        "            lower_distance2 = lower_distance2 + (matrix_P[K[x]][j])**2\n",
        "            lower_distance = (lower_distance1 * lower_distance2)**0.5\n",
        "        if (lower_distance != 0):\n",
        "            distance = upper_distance/lower_distance\n",
        "        if (i != j):\n",
        "            matrix_S[i][j] = round(distance,2)"
      ],
      "execution_count": 46,
      "outputs": []
    },
    {
      "cell_type": "code",
      "metadata": {
        "id": "k6lC8wVMZXs1"
      },
      "source": [
        "#Rating matrix estimated by the Neighborhood Predictor\n",
        "matrix_R_neigh = []\n",
        "R_neigh = []\n",
        "\n",
        "max_movie = data_movie.max()\n",
        "max_user = data_user.max()\n",
        "\n",
        "for i in range(max_user):\n",
        "    for j in range(max_movie):\n",
        "        R_neigh.append(0)\n",
        "    matrix_R_neigh.append(R_neigh)\n",
        "    R_neigh = []\n",
        "\n",
        "\n",
        "for i in range(max_user):\n",
        "    for j in range(max_movie):\n",
        "        matrix_R_neigh[i][j] = round(matrix_B[i][0]+matrix_B[max_user+j][0]+average_predictor,2)\n",
        "\n",
        "for k in range(max_user):\n",
        "    for i in range(max_movie):\n",
        "        upper_sum = 0\n",
        "        lower_sum = 0\n",
        "        for j in range(max_movie):\n",
        "            if (abs(matrix_S[i][j]) > 0.1) & (matrix_P[k][j] != 0):\n",
        "                upper_sum = upper_sum + matrix_S[i][j]*matrix_P[k][j]\n",
        "                lower_sum = lower_sum + abs(matrix_S[i][j])\n",
        "        if (lower_sum != 0):\n",
        "            matrix_R_neigh[k][i] = round(matrix_R_hat[k][i] + (upper_sum/lower_sum),2)"
      ],
      "execution_count": 47,
      "outputs": []
    },
    {
      "cell_type": "markdown",
      "metadata": {
        "id": "Ra4sgW7rzhNu"
      },
      "source": [
        "# **Train Accuracy**"
      ]
    },
    {
      "cell_type": "code",
      "metadata": {
        "colab": {
          "base_uri": "https://localhost:8080/"
        },
        "id": "276-uVHjbLLM",
        "outputId": "c7406668-6485-4c64-d8e0-5ab29f283331"
      },
      "source": [
        "#train_accuracy by baseline predictor\n",
        "correct = 0\n",
        "sample = 0\n",
        "for i in range(max_user):\n",
        "    for j in range(max_movie):\n",
        "        if matrix_R[i][j] != 0:\n",
        "            sample = sample +1\n",
        "            if (matrix_R[i][j] - round(matrix_R_hat[i][j])) == 0:\n",
        "                correct = correct +1\n",
        "\n",
        "accuracy = correct/sample*100\n",
        "\n",
        "print(\"Accuracy on the {} samples : {:.2f}\".format(sample, accuracy))"
      ],
      "execution_count": 10,
      "outputs": [
        {
          "output_type": "stream",
          "text": [
            "Accuracy on the 5216 samples : 43.35\n"
          ],
          "name": "stdout"
        }
      ]
    },
    {
      "cell_type": "code",
      "metadata": {
        "colab": {
          "base_uri": "https://localhost:8080/"
        },
        "id": "EqjyZDPAZZzE",
        "outputId": "24c5d738-1462-4b97-b3da-75c6e925e28c"
      },
      "source": [
        "#train_accuracy by neighborhood predictor\n",
        "correct = 0\n",
        "sample = 0\n",
        "for i in range(max_user):\n",
        "    for j in range(max_movie):\n",
        "        if matrix_R[i][j] != 0:\n",
        "            sample = sample +1\n",
        "            if (matrix_R[i][j] - round(matrix_R_neigh[i][j])) == 0:\n",
        "                correct = correct +1\n",
        "\n",
        "accuracy = correct/sample*100\n",
        "\n",
        "print(\"Accuracy on the {} samples : {:.2f}%\".format(sample, accuracy))"
      ],
      "execution_count": 11,
      "outputs": [
        {
          "output_type": "stream",
          "text": [
            "Accuracy on the 5216 samples : 69.13%\n"
          ],
          "name": "stdout"
        }
      ]
    },
    {
      "cell_type": "code",
      "metadata": {
        "id": "dOsEbZEOTWUn"
      },
      "source": [
        "#load test_data from csv\n",
        "\n",
        "csv_testset ='/content/gdrive/MyDrive/AIC/movie_test.csv'\n",
        "csv_testset_label ='/content/gdrive/MyDrive/AIC/movie_test_label.csv'\n",
        "\n",
        "cols_testset = list(pd.read_csv(csv_testset, nrows =1))\n",
        "cols_testset_label = list(pd.read_csv(csv_testset_label, nrows =1))\n",
        "\n",
        "csv_label = pd.read_csv(csv_testset_label, index_col = 0, usecols=[0, 3])\n",
        "csv_user = pd.read_csv(csv_testset, index_col = 0, usecols=[0, 1])\n",
        "csv_movie = pd.read_csv(csv_testset, index_col = 0, usecols=[0, 2])\n",
        "\n",
        "test_label = csv_label.values\n",
        "test_label = test_label.reshape(-1, len(test_label))\n",
        "\n",
        "test_user = csv_user.values\n",
        "test_user = test_user.reshape(-1, len(test_user))\n",
        "\n",
        "test_movie = csv_movie.values\n",
        "test_movie = test_movie.reshape(-1, len(test_movie))"
      ],
      "execution_count": 48,
      "outputs": []
    },
    {
      "cell_type": "code",
      "metadata": {
        "id": "kZQOtqFXeeRi"
      },
      "source": [
        "#display test data\n",
        "matrix_R = []\n",
        "R = []\n",
        "\n",
        "max_movie = test_movie.max()\n",
        "max_user = test_user.max()\n",
        "\n",
        "for i in range(max_user):\n",
        "    for j in range(max_movie):\n",
        "        R.append(0)\n",
        "\n",
        "    matrix_R.append(R)\n",
        "    R = []\n",
        "\n",
        "for i in range(len(test_user[0])):\n",
        "    matrix_R[test_user[0][i]-1][test_movie[0][i]-1] = test_label[0][i]\n",
        "    "
      ],
      "execution_count": 49,
      "outputs": []
    },
    {
      "cell_type": "code",
      "metadata": {
        "id": "F2a1uxJ2ev1r"
      },
      "source": [
        "#Rating matrix estimated by the baseline predictor\n",
        "matrix_R_hat = []\n",
        "R_hat = []\n",
        "R_index = 0\n",
        "\n",
        "max_movie = test_movie.max()\n",
        "max_user = test_user.max()\n",
        "\n",
        "for i in range(max_user):\n",
        "    for j in range(max_movie):\n",
        "        R_hat.append(0)\n",
        "    matrix_R_hat.append(R_hat)\n",
        "    R_hat = []\n",
        "\n",
        "for i in range(max_user):\n",
        "    for j in range(max_movie):\n",
        "        matrix_R_hat[i][j] = round(matrix_B[i][0]+matrix_B[max_user+j][0]+average_predictor,2)"
      ],
      "execution_count": 20,
      "outputs": []
    },
    {
      "cell_type": "code",
      "metadata": {
        "id": "VY-EXbWKejkV"
      },
      "source": [
        "matrix_P = []\n",
        "P = []\n",
        "for i in range(max_user):\n",
        "    for j in range(max_movie):\n",
        "        P.append(0)\n",
        "    matrix_P.append(P)\n",
        "    P = []\n",
        "\n",
        "for i in range(max_user):\n",
        "    for j in range(max_movie):\n",
        "        if matrix_R[i][j] != 0:\n",
        "            matrix_P[i][j] = round(matrix_R[i][j] - matrix_R_hat[i][j],2)"
      ],
      "execution_count": 21,
      "outputs": []
    },
    {
      "cell_type": "code",
      "metadata": {
        "id": "Nyu5kvnRWdjX"
      },
      "source": [
        "#Similarity matrix\n",
        "matrix_S = []\n",
        "S = []\n",
        "for i in range(max_movie):\n",
        "    for j in range(max_movie):\n",
        "        S.append(0)\n",
        "    matrix_S.append(S)\n",
        "    S = []\n",
        "\n",
        "for i in range(max_movie):\n",
        "    for j in range(max_movie):\n",
        "        K = []\n",
        "        upper_distance = 0\n",
        "        lower_distance = 0\n",
        "        lower_distance1 = 0\n",
        "        lower_distance2 = 0\n",
        "        distance = 0\n",
        "        for k in range(max_user):\n",
        "            if (matrix_R[k][i] != 0) & (matrix_R[k][j] != 0):\n",
        "                K.append(k)\n",
        "        for x in range(len(K)):\n",
        "            upper_distance = upper_distance + (matrix_P[K[x]][i]*matrix_P[K[x]][j])\n",
        "            lower_distance1 = lower_distance1 + (matrix_P[K[x]][i])**2\n",
        "            lower_distance2 = lower_distance2 + (matrix_P[K[x]][j])**2\n",
        "            lower_distance = (lower_distance1 * lower_distance2)**0.5\n",
        "        if (lower_distance != 0):\n",
        "            distance = upper_distance/lower_distance\n",
        "        if (i != j):\n",
        "            matrix_S[i][j] = round(distance,2)"
      ],
      "execution_count": 22,
      "outputs": []
    },
    {
      "cell_type": "code",
      "metadata": {
        "id": "XRyiqC8bWjGg"
      },
      "source": [
        "#Rating matrix estimated by the Neighborhood Predictor\n",
        "matrix_R_neigh = []\n",
        "R_neigh = []\n",
        "\n",
        "max_movie = data_movie.max()\n",
        "max_user = data_user.max()\n",
        "\n",
        "for i in range(max_user):\n",
        "    for j in range(max_movie):\n",
        "        R_neigh.append(0)\n",
        "    matrix_R_neigh.append(R_neigh)\n",
        "    R_neigh = []\n",
        "\n",
        "\n",
        "for i in range(max_user):\n",
        "    for j in range(max_movie):\n",
        "        matrix_R_neigh[i][j] = round(matrix_B[i][0]+matrix_B[max_user+j][0]+average_predictor,2)\n",
        "\n",
        "for k in range(max_user):\n",
        "    for i in range(max_movie):\n",
        "        upper_sum = 0\n",
        "        lower_sum = 0\n",
        "        for j in range(max_movie):\n",
        "            if (abs(matrix_S[i][j]) > 0.6) & (matrix_P[k][j] != 0):\n",
        "                upper_sum = upper_sum + matrix_S[i][j]*matrix_P[k][j]\n",
        "                lower_sum = lower_sum + abs(matrix_S[i][j])\n",
        "        if (lower_sum != 0):\n",
        "            matrix_R_neigh[k][i] = round(matrix_R_hat[k][i] + (upper_sum/lower_sum),2)"
      ],
      "execution_count": null,
      "outputs": []
    },
    {
      "cell_type": "markdown",
      "metadata": {
        "id": "bRO5Eioux6Z4"
      },
      "source": [
        "# **Test accuracy**\n"
      ]
    },
    {
      "cell_type": "code",
      "metadata": {
        "colab": {
          "base_uri": "https://localhost:8080/"
        },
        "id": "oAJ08kNObVM_",
        "outputId": "1ecc853a-3f62-4c01-d525-fce5ffa0ac54"
      },
      "source": [
        "#test_accuracy by baseline predictor\n",
        "correct = 0\n",
        "sample = 0\n",
        "for i in range(max_user):\n",
        "    for j in range(max_movie):\n",
        "        if matrix_R[i][j] != 0:\n",
        "            sample = sample +1\n",
        "            if (matrix_R[i][j] - round(matrix_R_hat[i][j])) == 0:\n",
        "                correct = correct +1\n",
        "\n",
        "accuracy = correct/sample*100\n",
        "\n",
        "print(\"Accuracy on the {} samples : {:.2f}%\".format(sample, accuracy))"
      ],
      "execution_count": 17,
      "outputs": [
        {
          "output_type": "stream",
          "text": [
            "Accuracy on the 1304 samples : 36.20%\n"
          ],
          "name": "stdout"
        }
      ]
    },
    {
      "cell_type": "code",
      "metadata": {
        "colab": {
          "base_uri": "https://localhost:8080/"
        },
        "id": "mOVGBSGvXDMW",
        "outputId": "1f4c69a1-2604-4ffd-c7e9-ce5e3cb01574"
      },
      "source": [
        "#test_accuracy by neighborhood predictor tolerance = 0.4\n",
        "correct = 0\n",
        "sample = 0\n",
        "for i in range(max_user):\n",
        "    for j in range(max_movie):\n",
        "        if matrix_R[i][j] != 0:\n",
        "            sample = sample +1\n",
        "            if (matrix_R[i][j] - round(matrix_R_neigh[i][j])) == 0:\n",
        "                correct = correct +1\n",
        "\n",
        "accuracy = correct/sample*100\n",
        "\n",
        "print(\"Accuracy on the {} samples : {:.2f}%\".format(sample, accuracy))"
      ],
      "execution_count": null,
      "outputs": [
        {
          "output_type": "stream",
          "text": [
            "Accuracy on the 1304 samples : 54.37%\n"
          ],
          "name": "stdout"
        }
      ]
    },
    {
      "cell_type": "code",
      "metadata": {
        "id": "CzNrkCPPYA62"
      },
      "source": [
        "#Rating matrix estimated by the Neighborhood Predictor\n",
        "matrix_R_neigh = []\n",
        "R_neigh = []\n",
        "\n",
        "max_movie = data_movie.max()\n",
        "max_user = data_user.max()\n",
        "\n",
        "for i in range(max_user):\n",
        "    for j in range(max_movie):\n",
        "        R_neigh.append(0)\n",
        "    matrix_R_neigh.append(R_neigh)\n",
        "    R_neigh = []\n",
        "\n",
        "\n",
        "for i in range(max_user):\n",
        "    for j in range(max_movie):\n",
        "        matrix_R_neigh[i][j] = round(matrix_B[i][0]+matrix_B[max_user+j][0]+average_predictor,2)\n",
        "\n",
        "for k in range(max_user):\n",
        "    for i in range(max_movie):\n",
        "        upper_sum = 0\n",
        "        lower_sum = 0\n",
        "        for j in range(max_movie):\n",
        "            if (abs(matrix_S[i][j]) > 0.3) & (matrix_P[k][j] != 0):\n",
        "                upper_sum = upper_sum + matrix_S[i][j]*matrix_P[k][j]\n",
        "                lower_sum = lower_sum + abs(matrix_S[i][j])\n",
        "        if (lower_sum != 0):\n",
        "            matrix_R_neigh[k][i] = round(matrix_R_hat[k][i] + (upper_sum/lower_sum),2)"
      ],
      "execution_count": 26,
      "outputs": []
    },
    {
      "cell_type": "code",
      "metadata": {
        "colab": {
          "base_uri": "https://localhost:8080/"
        },
        "id": "M2FYAFISYCWy",
        "outputId": "4fd76a1a-6091-4417-b18d-3230b1e727cd"
      },
      "source": [
        "#test_accuracy by neighborhood predictor tolerance = 0.7\n",
        "correct = 0\n",
        "sample = 0\n",
        "for i in range(max_user):\n",
        "    for j in range(max_movie):\n",
        "        if matrix_R[i][j] != 0:\n",
        "            sample = sample +1\n",
        "            if (matrix_R[i][j] - round(matrix_R_neigh[i][j])) == 0:\n",
        "                correct = correct +1\n",
        "\n",
        "accuracy = correct/sample*100\n",
        "\n",
        "print(\"Accuracy on the {} samples : {:.2f}%\".format(sample, accuracy))"
      ],
      "execution_count": 27,
      "outputs": [
        {
          "output_type": "stream",
          "text": [
            "Accuracy on the 1304 samples : 55.14%\n"
          ],
          "name": "stdout"
        }
      ]
    },
    {
      "cell_type": "code",
      "metadata": {
        "id": "yhvjTj2kgwiT"
      },
      "source": [
        "#Rating matrix estimated by the Neighborhood Predictor\n",
        "matrix_R_neigh = []\n",
        "R_neigh = []\n",
        "\n",
        "max_movie = data_movie.max()\n",
        "max_user = data_user.max()\n",
        "\n",
        "for i in range(max_user):\n",
        "    for j in range(max_movie):\n",
        "        R_neigh.append(0)\n",
        "    matrix_R_neigh.append(R_neigh)\n",
        "    R_neigh = []\n",
        "\n",
        "\n",
        "for i in range(max_user):\n",
        "    for j in range(max_movie):\n",
        "        matrix_R_neigh[i][j] = round(matrix_B[i][0]+matrix_B[max_user+j][0]+average_predictor,2)\n",
        "\n",
        "for k in range(max_user):\n",
        "    for i in range(max_movie):\n",
        "        upper_sum = 0\n",
        "        lower_sum = 0\n",
        "        for j in range(max_movie):\n",
        "            if (abs(matrix_S[i][j]) != 0) & (matrix_P[k][j] != 0):\n",
        "                upper_sum = upper_sum + matrix_S[i][j]*matrix_P[k][j]\n",
        "                lower_sum = lower_sum + abs(matrix_S[i][j])\n",
        "        if (lower_sum != 0):\n",
        "            matrix_R_neigh[k][i] = round(matrix_R_hat[k][i] + (upper_sum/lower_sum),2)"
      ],
      "execution_count": 30,
      "outputs": []
    },
    {
      "cell_type": "code",
      "metadata": {
        "colab": {
          "base_uri": "https://localhost:8080/"
        },
        "id": "4HdJCpekhxZ6",
        "outputId": "e29d3406-abef-4ec5-dc14-958903055a44"
      },
      "source": [
        "#test_accuracy by neighborhood predictor tolerance = 1\n",
        "correct = 0\n",
        "sample = 0\n",
        "for i in range(max_user):\n",
        "    for j in range(max_movie):\n",
        "        if matrix_R[i][j] != 0:\n",
        "            sample = sample +1\n",
        "            if (matrix_R[i][j] - round(matrix_R_neigh[i][j])) == 0:\n",
        "                correct = correct +1\n",
        "\n",
        "accuracy = correct/sample*100\n",
        "\n",
        "print(\"Accuracy on the {} samples : {:.2f}%\".format(sample, accuracy))"
      ],
      "execution_count": 31,
      "outputs": [
        {
          "output_type": "stream",
          "text": [
            "Accuracy on the 1304 samples : 55.21%\n"
          ],
          "name": "stdout"
        }
      ]
    }
  ]
}