{
  "nbformat": 4,
  "nbformat_minor": 0,
  "metadata": {
    "colab": {
      "name": "Project3_toy_example.ipynb",
      "provenance": [],
      "collapsed_sections": []
    },
    "kernelspec": {
      "name": "python3",
      "display_name": "Python 3"
    },
    "language_info": {
      "name": "python"
    }
  },
  "cells": [
    {
      "cell_type": "code",
      "metadata": {
        "colab": {
          "base_uri": "https://localhost:8080/"
        },
        "id": "FiVRtQlzpCa4",
        "outputId": "1fec062d-fc24-42d6-b584-6dff10e8a528"
      },
      "source": [
        "from google.colab import drive \n",
        "\n",
        "drive.mount('/content/gdrive')"
      ],
      "execution_count": null,
      "outputs": [
        {
          "output_type": "stream",
          "text": [
            "Mounted at /content/gdrive\n"
          ],
          "name": "stdout"
        }
      ]
    },
    {
      "cell_type": "code",
      "metadata": {
        "id": "34n5CfdSpEa0"
      },
      "source": [
        "#initialize\n",
        "import numpy as np\n",
        "import pandas as pd\n",
        "\n",
        "#load train_data from csv\n",
        "\n",
        "csv_dataset ='/content/gdrive/MyDrive/AIC/movie_toy.csv'\n",
        "\n",
        "cols_dataset = list(pd.read_csv(csv_dataset, nrows =1))\n",
        "\n",
        "csv_features = pd.read_csv(csv_dataset, index_col = 0, usecols =[i for i in cols_dataset if i != 'rating'])\n",
        "csv_label = pd.read_csv(csv_dataset, index_col = 0, usecols=[0, 3])\n",
        "csv_user = pd.read_csv(csv_dataset, index_col = 0, usecols=[0, 1])\n",
        "csv_movie = pd.read_csv(csv_dataset, index_col = 0, usecols=[0, 2])\n",
        "\n",
        "data_label = csv_label.values\n",
        "data_label = data_label.reshape(-1, len(data_label))\n",
        "\n",
        "data_user = csv_user.values\n",
        "data_user = data_user.reshape(-1, len(data_user))\n",
        "\n",
        "data_movie = csv_movie.values\n",
        "data_movie = data_movie.reshape(-1, len(data_movie))"
      ],
      "execution_count": null,
      "outputs": []
    },
    {
      "cell_type": "code",
      "metadata": {
        "id": "-EoNd-fsWLWM"
      },
      "source": [
        "#display training data\n",
        "matrix_R = []\n",
        "R = []\n",
        "\n",
        "max_movie = data_movie.max()\n",
        "max_user = data_user.max()\n",
        "\n",
        "for i in range(max_user):\n",
        "    for j in range(max_movie):\n",
        "        R.append(0)\n",
        "\n",
        "    matrix_R.append(R)\n",
        "    R = []\n",
        "\n",
        "for i in range(len(data_user[0])):\n",
        "    matrix_R[data_user[0][i]-1][data_movie[0][i]-1] = data_label[0][i]\n",
        "    "
      ],
      "execution_count": null,
      "outputs": []
    },
    {
      "cell_type": "code",
      "metadata": {
        "colab": {
          "base_uri": "https://localhost:8080/"
        },
        "id": "ZNnoilndMfLr",
        "outputId": "612fa712-a36e-4cab-9f49-6182c8825ab6"
      },
      "source": [
        "matrix_R"
      ],
      "execution_count": null,
      "outputs": [
        {
          "output_type": "execute_result",
          "data": {
            "text/plain": [
              "[[5, 4, 4, 0, 0],\n",
              " [0, 3, 5, 0, 4],\n",
              " [5, 2, 0, 0, 3],\n",
              " [0, 0, 3, 1, 2],\n",
              " [4, 0, 0, 4, 5],\n",
              " [0, 3, 0, 3, 5],\n",
              " [3, 0, 3, 2, 0],\n",
              " [5, 0, 4, 0, 5],\n",
              " [0, 2, 5, 4, 0],\n",
              " [0, 0, 5, 3, 4]]"
            ]
          },
          "metadata": {
            "tags": []
          },
          "execution_count": 5
        }
      ]
    },
    {
      "cell_type": "code",
      "metadata": {
        "id": "vQKqhM-GsJOv"
      },
      "source": [
        "#Baseline predictor\n",
        "matrix_A = []\n",
        "A = []\n",
        "\n",
        "max_movie = data_movie.max()\n",
        "max_user = data_user.max()\n",
        "average_predictor = np.sum(data_label)/len(data_label[0])\n",
        "for i in range(len(data_user[0])):\n",
        "    for j in range(max_user+max_movie):\n",
        "        A.append(0)\n",
        "\n",
        "    matrix_A.append(A)\n",
        "    A = []\n",
        "\n",
        "for i in range(len(data_user[0])):\n",
        "    matrix_A[i][data_user[0][i]-1] = 1\n",
        "    matrix_A[i][data_movie[0][i]-1+max_user] = 1\n",
        "    \n",
        "trans_matrix_A = np.transpose(matrix_A)\n",
        "\n",
        "pinv_matrix_A = np.linalg.pinv(matrix_A)\n",
        "\n",
        "matrix_C = []\n",
        "C = []\n",
        "\n",
        "#prediction of bias\n",
        "for i in range(len(data_user[0])):\n",
        "    C.append(0)\n",
        "    matrix_C.append(C)\n",
        "    C = []\n",
        "for i in range(len(data_user[0])):\n",
        "    matrix_C[i][0] = data_label[0][i]-average_predictor\n",
        "\n",
        "matrix_B = np.matmul(pinv_matrix_A, matrix_C)"
      ],
      "execution_count": null,
      "outputs": []
    },
    {
      "cell_type": "code",
      "metadata": {
        "colab": {
          "base_uri": "https://localhost:8080/"
        },
        "id": "_lmjsi_4Z8vN",
        "outputId": "520deffc-2c36-4001-feb1-4ad2d2dabc4a"
      },
      "source": [
        "matrix_A"
      ],
      "execution_count": null,
      "outputs": [
        {
          "output_type": "execute_result",
          "data": {
            "text/plain": [
              "[[1, 0, 0, 0, 0, 0, 0, 0, 0, 0, 1, 0, 0, 0, 0],\n",
              " [1, 0, 0, 0, 0, 0, 0, 0, 0, 0, 0, 1, 0, 0, 0],\n",
              " [1, 0, 0, 0, 0, 0, 0, 0, 0, 0, 0, 0, 1, 0, 0],\n",
              " [0, 1, 0, 0, 0, 0, 0, 0, 0, 0, 0, 1, 0, 0, 0],\n",
              " [0, 1, 0, 0, 0, 0, 0, 0, 0, 0, 0, 0, 1, 0, 0],\n",
              " [0, 1, 0, 0, 0, 0, 0, 0, 0, 0, 0, 0, 0, 0, 1],\n",
              " [0, 0, 1, 0, 0, 0, 0, 0, 0, 0, 1, 0, 0, 0, 0],\n",
              " [0, 0, 1, 0, 0, 0, 0, 0, 0, 0, 0, 1, 0, 0, 0],\n",
              " [0, 0, 1, 0, 0, 0, 0, 0, 0, 0, 0, 0, 0, 0, 1],\n",
              " [0, 0, 0, 1, 0, 0, 0, 0, 0, 0, 0, 0, 1, 0, 0],\n",
              " [0, 0, 0, 1, 0, 0, 0, 0, 0, 0, 0, 0, 0, 1, 0],\n",
              " [0, 0, 0, 1, 0, 0, 0, 0, 0, 0, 0, 0, 0, 0, 1],\n",
              " [0, 0, 0, 0, 1, 0, 0, 0, 0, 0, 1, 0, 0, 0, 0],\n",
              " [0, 0, 0, 0, 1, 0, 0, 0, 0, 0, 0, 0, 0, 1, 0],\n",
              " [0, 0, 0, 0, 1, 0, 0, 0, 0, 0, 0, 0, 0, 0, 1],\n",
              " [0, 0, 0, 0, 0, 1, 0, 0, 0, 0, 0, 1, 0, 0, 0],\n",
              " [0, 0, 0, 0, 0, 1, 0, 0, 0, 0, 0, 0, 0, 1, 0],\n",
              " [0, 0, 0, 0, 0, 1, 0, 0, 0, 0, 0, 0, 0, 0, 1],\n",
              " [0, 0, 0, 0, 0, 0, 1, 0, 0, 0, 1, 0, 0, 0, 0],\n",
              " [0, 0, 0, 0, 0, 0, 1, 0, 0, 0, 0, 0, 1, 0, 0],\n",
              " [0, 0, 0, 0, 0, 0, 1, 0, 0, 0, 0, 0, 0, 1, 0],\n",
              " [0, 0, 0, 0, 0, 0, 0, 1, 0, 0, 1, 0, 0, 0, 0],\n",
              " [0, 0, 0, 0, 0, 0, 0, 1, 0, 0, 0, 0, 1, 0, 0],\n",
              " [0, 0, 0, 0, 0, 0, 0, 1, 0, 0, 0, 0, 0, 0, 1],\n",
              " [0, 0, 0, 0, 0, 0, 0, 0, 1, 0, 0, 1, 0, 0, 0],\n",
              " [0, 0, 0, 0, 0, 0, 0, 0, 1, 0, 0, 0, 1, 0, 0],\n",
              " [0, 0, 0, 0, 0, 0, 0, 0, 1, 0, 0, 0, 0, 1, 0],\n",
              " [0, 0, 0, 0, 0, 0, 0, 0, 0, 1, 0, 0, 1, 0, 0],\n",
              " [0, 0, 0, 0, 0, 0, 0, 0, 0, 1, 0, 0, 0, 1, 0],\n",
              " [0, 0, 0, 0, 0, 0, 0, 0, 0, 1, 0, 0, 0, 0, 1]]"
            ]
          },
          "metadata": {
            "tags": []
          },
          "execution_count": 7
        }
      ]
    },
    {
      "cell_type": "code",
      "metadata": {
        "id": "N6u0yl9ue12E",
        "colab": {
          "base_uri": "https://localhost:8080/"
        },
        "outputId": "59dfd490-6695-4e6d-b944-397190735715"
      },
      "source": [
        "matrix_C"
      ],
      "execution_count": null,
      "outputs": [
        {
          "output_type": "execute_result",
          "data": {
            "text/plain": [
              "[[1.3333333333333335],\n",
              " [0.3333333333333335],\n",
              " [0.3333333333333335],\n",
              " [-0.6666666666666665],\n",
              " [1.3333333333333335],\n",
              " [0.3333333333333335],\n",
              " [1.3333333333333335],\n",
              " [-1.6666666666666665],\n",
              " [-0.6666666666666665],\n",
              " [-0.6666666666666665],\n",
              " [-2.6666666666666665],\n",
              " [-1.6666666666666665],\n",
              " [0.3333333333333335],\n",
              " [0.3333333333333335],\n",
              " [1.3333333333333335],\n",
              " [-0.6666666666666665],\n",
              " [-0.6666666666666665],\n",
              " [1.3333333333333335],\n",
              " [-0.6666666666666665],\n",
              " [-0.6666666666666665],\n",
              " [-1.6666666666666665],\n",
              " [1.3333333333333335],\n",
              " [0.3333333333333335],\n",
              " [1.3333333333333335],\n",
              " [-1.6666666666666665],\n",
              " [1.3333333333333335],\n",
              " [0.3333333333333335],\n",
              " [1.3333333333333335],\n",
              " [-0.6666666666666665],\n",
              " [0.3333333333333335]]"
            ]
          },
          "metadata": {
            "tags": []
          },
          "execution_count": 8
        }
      ]
    },
    {
      "cell_type": "code",
      "metadata": {
        "id": "6N4BAbese7u8",
        "colab": {
          "base_uri": "https://localhost:8080/"
        },
        "outputId": "17adff17-8aba-41f8-be8c-fc21d999dc06"
      },
      "source": [
        "matrix_B"
      ],
      "execution_count": null,
      "outputs": [
        {
          "output_type": "execute_result",
          "data": {
            "text/plain": [
              "array([[ 0.62592593],\n",
              "       [ 0.42348485],\n",
              "       [-0.28148148],\n",
              "       [-1.77474747],\n",
              "       [ 0.5202862 ],\n",
              "       [ 0.49250842],\n",
              "       [-1.23897306],\n",
              "       [ 0.45126263],\n",
              "       [ 0.39991582],\n",
              "       [ 0.22525253],\n",
              "       [ 0.71792929],\n",
              "       [-1.19873737],\n",
              "       [ 0.6030303 ],\n",
              "       [-0.6040404 ],\n",
              "       [ 0.32525253]])"
            ]
          },
          "metadata": {
            "tags": []
          },
          "execution_count": 9
        }
      ]
    },
    {
      "cell_type": "code",
      "metadata": {
        "id": "BmnGxxMEQKjv"
      },
      "source": [
        "#Rating matrix estimated by the baseline predictor\n",
        "matrix_R_hat = []\n",
        "R_hat = []\n",
        "R_index = 0\n",
        "\n",
        "max_movie = data_movie.max()\n",
        "max_user = data_user.max()\n",
        "\n",
        "for i in range(max_user):\n",
        "    for j in range(max_movie):\n",
        "        R_hat.append(0)\n",
        "    matrix_R_hat.append(R_hat)\n",
        "    R_hat = []\n",
        "\n",
        "for i in range(max_user):\n",
        "    for j in range(max_movie):\n",
        "        matrix_R_hat[i][j] = round(matrix_B[i][0]+matrix_B[max_user+j][0]+average_predictor,2)"
      ],
      "execution_count": null,
      "outputs": []
    },
    {
      "cell_type": "code",
      "metadata": {
        "colab": {
          "base_uri": "https://localhost:8080/"
        },
        "id": "PXuIUR-3Rq6f",
        "outputId": "6156fe21-ca14-4f59-f557-54d1bf3ab788"
      },
      "source": [
        "matrix_R_hat"
      ],
      "execution_count": null,
      "outputs": [
        {
          "output_type": "execute_result",
          "data": {
            "text/plain": [
              "[[5.01, 3.09, 4.9, 3.69, 4.62],\n",
              " [4.81, 2.89, 4.69, 3.49, 4.42],\n",
              " [4.1, 2.19, 3.99, 2.78, 3.71],\n",
              " [2.61, 0.69, 2.49, 1.29, 2.22],\n",
              " [4.9, 2.99, 4.79, 3.58, 4.51],\n",
              " [4.88, 2.96, 4.76, 3.56, 4.48],\n",
              " [3.15, 1.23, 3.03, 1.82, 2.75],\n",
              " [4.84, 2.92, 4.72, 3.51, 4.44],\n",
              " [4.78, 2.87, 4.67, 3.46, 4.39],\n",
              " [4.61, 2.69, 4.49, 3.29, 4.22]]"
            ]
          },
          "metadata": {
            "tags": []
          },
          "execution_count": 11
        }
      ]
    },
    {
      "cell_type": "code",
      "metadata": {
        "id": "Db6g4KQ-UmHV"
      },
      "source": [
        "matrix_P = []\n",
        "P = []\n",
        "for i in range(max_user):\n",
        "    for j in range(max_movie):\n",
        "        P.append(0)\n",
        "    matrix_P.append(P)\n",
        "    P = []\n",
        "\n",
        "for i in range(max_user):\n",
        "    for j in range(max_movie):\n",
        "        if matrix_R[i][j] != 0:\n",
        "            matrix_P[i][j] = round(matrix_R[i][j] - matrix_R_hat[i][j],2)"
      ],
      "execution_count": null,
      "outputs": []
    },
    {
      "cell_type": "code",
      "metadata": {
        "colab": {
          "base_uri": "https://localhost:8080/"
        },
        "id": "qxx1kQo9ZFqg",
        "outputId": "e16fcf3b-9c7f-42fd-eabb-923dad168df0"
      },
      "source": [
        "matrix_P"
      ],
      "execution_count": null,
      "outputs": [
        {
          "output_type": "execute_result",
          "data": {
            "text/plain": [
              "[[-0.01, 0.91, -0.9, 0, 0],\n",
              " [0, 0.11, 0.31, 0, -0.42],\n",
              " [0.9, -0.19, 0, 0, -0.71],\n",
              " [0, 0, 0.51, -0.29, -0.22],\n",
              " [-0.9, 0, 0, 0.42, 0.49],\n",
              " [0, 0.04, 0, -0.56, 0.52],\n",
              " [-0.15, 0, -0.03, 0.18, 0],\n",
              " [0.16, 0, -0.72, 0, 0.56],\n",
              " [0, -0.87, 0.33, 0.54, 0],\n",
              " [0, 0, 0.51, -0.29, -0.22]]"
            ]
          },
          "metadata": {
            "tags": []
          },
          "execution_count": 13
        }
      ]
    },
    {
      "cell_type": "code",
      "metadata": {
        "id": "VzynkodLSRi1"
      },
      "source": [
        "#Similarity matrix\n",
        "matrix_S = []\n",
        "S = []\n",
        "for i in range(max_movie):\n",
        "    for j in range(max_movie):\n",
        "        S.append(0)\n",
        "    matrix_S.append(S)\n",
        "    S = []\n",
        "\n",
        "for i in range(max_movie):\n",
        "    for j in range(max_movie):\n",
        "        K = []\n",
        "        upper_distance = 0\n",
        "        lower_distance = 0\n",
        "        lower_distance1 = 0\n",
        "        lower_distance2 = 0\n",
        "        distance = 0\n",
        "        for k in range(max_user):\n",
        "            if (matrix_R[k][i] != 0) & (matrix_R[k][j] != 0):\n",
        "                K.append(k)\n",
        "        for x in range(len(K)):\n",
        "            upper_distance = upper_distance + (matrix_P[K[x]][i]*matrix_P[K[x]][j])\n",
        "            lower_distance1 = lower_distance1 + (matrix_P[K[x]][i])**2\n",
        "            lower_distance2 = lower_distance2 + (matrix_P[K[x]][j])**2\n",
        "            lower_distance = (lower_distance1 * lower_distance2)**0.5\n",
        "        distance = upper_distance/lower_distance\n",
        "        if (i != j):\n",
        "            matrix_S[i][j] = round(distance,2)"
      ],
      "execution_count": null,
      "outputs": []
    },
    {
      "cell_type": "code",
      "metadata": {
        "colab": {
          "base_uri": "https://localhost:8080/"
        },
        "id": "2HM06Zm5Hyeu",
        "outputId": "9c46305e-0c5d-4777-fbe9-756e7ca1a77e"
      },
      "source": [
        "matrix_S"
      ],
      "execution_count": null,
      "outputs": [
        {
          "output_type": "execute_result",
          "data": {
            "text/plain": [
              "[[0, -0.22, -0.4, -0.97, -0.75],\n",
              " [-0.22, 0, -0.84, -0.73, 0.5],\n",
              " [-0.4, -0.84, 0, -0.22, -0.93],\n",
              " [-0.97, -0.73, -0.22, 0, 0.07],\n",
              " [-0.75, 0.5, -0.93, 0.07, 0]]"
            ]
          },
          "metadata": {
            "tags": []
          },
          "execution_count": 15
        }
      ]
    },
    {
      "cell_type": "code",
      "metadata": {
        "id": "74q-OoqALwbo"
      },
      "source": [
        "#Rating matrix estimated by the Neighborhood Predictor\n",
        "matrix_R_neigh = []\n",
        "R_neigh = []\n",
        "\n",
        "max_movie = data_movie.max()\n",
        "max_user = data_user.max()\n",
        "\n",
        "for i in range(max_user):\n",
        "    for j in range(max_movie):\n",
        "        R_neigh.append(0)\n",
        "    matrix_R_neigh.append(R_neigh)\n",
        "    R_neigh = []\n",
        "\n",
        "\n",
        "for i in range(max_user):\n",
        "    for j in range(max_movie):\n",
        "        matrix_R_neigh[i][j] = round(matrix_B[i][0]+matrix_B[max_user+j][0]+average_predictor,2)\n",
        "\n",
        "for k in range(max_user):\n",
        "    for i in range(max_movie):\n",
        "        upper_sum = 0\n",
        "        lower_sum = 0\n",
        "        for j in range(max_movie):\n",
        "            if (abs(matrix_S[i][j]) > 0.6) & (matrix_P[k][j] != 0):\n",
        "                upper_sum = upper_sum + matrix_S[i][j]*matrix_P[k][j]\n",
        "                lower_sum = lower_sum + abs(matrix_S[i][j])\n",
        "        if (lower_sum != 0):\n",
        "            matrix_R_neigh[k][i] = round(matrix_R_hat[k][i] + (upper_sum/lower_sum),2)"
      ],
      "execution_count": null,
      "outputs": []
    },
    {
      "cell_type": "code",
      "metadata": {
        "colab": {
          "base_uri": "https://localhost:8080/"
        },
        "id": "czZ3qcY4SPEn",
        "outputId": "77ce161b-d1a5-4765-be33-b48533fc9c1d"
      },
      "source": [
        "matrix_R_neigh"
      ],
      "execution_count": null,
      "outputs": [
        {
          "output_type": "execute_result",
          "data": {
            "text/plain": [
              "[[5.01, 3.99, 3.99, 3.3, 5.12],\n",
              " [5.23, 2.58, 4.86, 3.38, 4.11],\n",
              " [4.81, 2.19, 4.45, 2.35, 2.81],\n",
              " [2.87, 0.55, 2.71, 1.29, 1.71],\n",
              " [4.45, 2.57, 4.3, 4.48, 5.41],\n",
              " [4.97, 3.52, 4.47, 3.52, 4.48],\n",
              " [2.97, 1.16, 3.03, 1.97, 2.83],\n",
              " [4.28, 3.64, 4.16, 3.35, 4.77],\n",
              " [4.24, 2.44, 5.54, 4.33, 4.06],\n",
              " [4.87, 2.55, 4.71, 3.29, 3.71]]"
            ]
          },
          "metadata": {
            "tags": []
          },
          "execution_count": 17
        }
      ]
    },
    {
      "cell_type": "code",
      "metadata": {
        "colab": {
          "base_uri": "https://localhost:8080/"
        },
        "id": "rGRzeWSJjU0L",
        "outputId": "bca92f08-c468-4d6f-a205-0250550b0c80"
      },
      "source": [
        "#train_accuracy by baseline predictor\n",
        "correct = 0\n",
        "sample = 0\n",
        "for i in range(max_user):\n",
        "    for j in range(max_movie):\n",
        "        if matrix_R[i][j] != 0:\n",
        "            sample = sample +1\n",
        "            if (matrix_R[i][j] - round(matrix_R_hat[i][j])) == 0:\n",
        "                correct = correct +1\n",
        "\n",
        "accuracy = correct/sample*100\n",
        "\n",
        "print(\"Accuracy on the {} samples : {:.2f}%\".format(sample, accuracy))"
      ],
      "execution_count": null,
      "outputs": [
        {
          "output_type": "stream",
          "text": [
            "Accuracy on the 30 samples : 56.67%\n"
          ],
          "name": "stdout"
        }
      ]
    },
    {
      "cell_type": "code",
      "metadata": {
        "colab": {
          "base_uri": "https://localhost:8080/"
        },
        "id": "KiZhDU2Ijjay",
        "outputId": "197800be-1687-4bf7-beac-a0c62185b47c"
      },
      "source": [
        "#train_accuracy by neighborhood predictor\n",
        "correct = 0\n",
        "sample = 0\n",
        "for i in range(max_user):\n",
        "    for j in range(max_movie):\n",
        "        if matrix_R[i][j] != 0:\n",
        "            sample = sample +1\n",
        "            if (matrix_R[i][j] - round(matrix_R_neigh[i][j])) == 0:\n",
        "                correct = correct +1\n",
        "\n",
        "accuracy = correct/sample*100\n",
        "\n",
        "print(\"Accuracy on the {} samples : {:.2f}%\".format(sample, accuracy))"
      ],
      "execution_count": null,
      "outputs": [
        {
          "output_type": "stream",
          "text": [
            "Accuracy on the 30 samples : 83.33%\n"
          ],
          "name": "stdout"
        }
      ]
    }
  ]
}