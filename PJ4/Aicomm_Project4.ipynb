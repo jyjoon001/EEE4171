{
  "nbformat": 4,
  "nbformat_minor": 0,
  "metadata": {
    "colab": {
      "name": "Aicomm_Project4.ipynb",
      "provenance": [],
      "collapsed_sections": [],
      "authorship_tag": "ABX9TyOWnt2fItSqH4VfcX6Mhoe6",
      "include_colab_link": true
    },
    "kernelspec": {
      "name": "python3",
      "display_name": "Python 3"
    },
    "language_info": {
      "name": "python"
    }
  },
  "cells": [
    {
      "cell_type": "markdown",
      "metadata": {
        "id": "view-in-github",
        "colab_type": "text"
      },
      "source": [
        "<a href=\"https://colab.research.google.com/github/jyjoon001/EEE4171/blob/main/PJ4/Aicomm_Project4.ipynb\" target=\"_parent\"><img src=\"https://colab.research.google.com/assets/colab-badge.svg\" alt=\"Open In Colab\"/></a>"
      ]
    },
    {
      "cell_type": "code",
      "metadata": {
        "id": "zk5oGWI7gD1I"
      },
      "source": [
        "#initialize\n",
        "import numpy as np\n",
        "import pandas as pd"
      ],
      "execution_count": null,
      "outputs": []
    },
    {
      "cell_type": "code",
      "metadata": {
        "colab": {
          "base_uri": "https://localhost:8080/"
        },
        "id": "VEJde4XRgx8Q",
        "outputId": "811c413a-6bf6-459f-9342-575eb3ebe358"
      },
      "source": [
        "#Matrix\n",
        "H = np.matrix('0 0.5 0.5 0 0 0 0 0; 0.5 0 0 0 0.5 0 0 0; 0 0.5 0 0 0 0 0 0.5; 0 0 1 0 0 0 0 0; 0 0 0 0.5 0 0 0 0.5; 0 0 0 0.5 0.5 0 0 0; 0 0 0 0.5 0 0.5 0 0; 0.33333333 0 0 0.33333333 0 0 0.33333333 0') \n",
        "H"
      ],
      "execution_count": null,
      "outputs": [
        {
          "output_type": "execute_result",
          "data": {
            "text/plain": [
              "matrix([[0.        , 0.5       , 0.5       , 0.        , 0.        ,\n",
              "         0.        , 0.        , 0.        ],\n",
              "        [0.5       , 0.        , 0.        , 0.        , 0.5       ,\n",
              "         0.        , 0.        , 0.        ],\n",
              "        [0.        , 0.5       , 0.        , 0.        , 0.        ,\n",
              "         0.        , 0.        , 0.5       ],\n",
              "        [0.        , 0.        , 1.        , 0.        , 0.        ,\n",
              "         0.        , 0.        , 0.        ],\n",
              "        [0.        , 0.        , 0.        , 0.5       , 0.        ,\n",
              "         0.        , 0.        , 0.5       ],\n",
              "        [0.        , 0.        , 0.        , 0.5       , 0.5       ,\n",
              "         0.        , 0.        , 0.        ],\n",
              "        [0.        , 0.        , 0.        , 0.5       , 0.        ,\n",
              "         0.5       , 0.        , 0.        ],\n",
              "        [0.33333333, 0.        , 0.        , 0.33333333, 0.        ,\n",
              "         0.        , 0.33333333, 0.        ]])"
            ]
          },
          "metadata": {
            "tags": []
          },
          "execution_count": 2
        }
      ]
    },
    {
      "cell_type": "code",
      "metadata": {
        "id": "OAIkCm4yt4Q7"
      },
      "source": [
        "#Mandatory score-spreading\n",
        "H_hat = H"
      ],
      "execution_count": null,
      "outputs": []
    },
    {
      "cell_type": "code",
      "metadata": {
        "colab": {
          "base_uri": "https://localhost:8080/"
        },
        "id": "adLQt1f_loX5",
        "outputId": "c291d92d-81b3-4bf2-c395-239fb528b64e"
      },
      "source": [
        "#Randomization\n",
        "theta = 0.85\n",
        "G = theta * H_hat + (1-theta)*(1/len(H))*np.ones((len(H),len(H)))\n",
        "G"
      ],
      "execution_count": null,
      "outputs": [
        {
          "output_type": "execute_result",
          "data": {
            "text/plain": [
              "matrix([[0.01875   , 0.44375   , 0.44375   , 0.01875   , 0.01875   ,\n",
              "         0.01875   , 0.01875   , 0.01875   ],\n",
              "        [0.44375   , 0.01875   , 0.01875   , 0.01875   , 0.44375   ,\n",
              "         0.01875   , 0.01875   , 0.01875   ],\n",
              "        [0.01875   , 0.44375   , 0.01875   , 0.01875   , 0.01875   ,\n",
              "         0.01875   , 0.01875   , 0.44375   ],\n",
              "        [0.01875   , 0.01875   , 0.86875   , 0.01875   , 0.01875   ,\n",
              "         0.01875   , 0.01875   , 0.01875   ],\n",
              "        [0.01875   , 0.01875   , 0.01875   , 0.44375   , 0.01875   ,\n",
              "         0.01875   , 0.01875   , 0.44375   ],\n",
              "        [0.01875   , 0.01875   , 0.01875   , 0.44375   , 0.44375   ,\n",
              "         0.01875   , 0.01875   , 0.01875   ],\n",
              "        [0.01875   , 0.01875   , 0.01875   , 0.44375   , 0.01875   ,\n",
              "         0.44375   , 0.01875   , 0.01875   ],\n",
              "        [0.30208333, 0.01875   , 0.01875   , 0.30208333, 0.01875   ,\n",
              "         0.01875   , 0.30208333, 0.01875   ]])"
            ]
          },
          "metadata": {
            "tags": []
          },
          "execution_count": 4
        }
      ]
    },
    {
      "cell_type": "code",
      "metadata": {
        "colab": {
          "base_uri": "https://localhost:8080/"
        },
        "id": "oG8Lw6OOrFmD",
        "outputId": "b9f82de8-ff91-4c8e-d84a-1b3de998b890"
      },
      "source": [
        "#Iterations\n",
        "iter = 10\n",
        "pi = np.ones((len(G),1))*(1/len(G))\n",
        "pi = pi.T\n",
        "for i in range(0, iter):\n",
        "    pi = pi*G\n",
        "    print(pi.T);print('\\n')"
      ],
      "execution_count": null,
      "outputs": [
        {
          "output_type": "stream",
          "text": [
            "[[0.10729167]\n",
            " [0.125     ]\n",
            " [0.178125  ]\n",
            " [0.21354167]\n",
            " [0.125     ]\n",
            " [0.071875  ]\n",
            " [0.05416667]\n",
            " [0.125     ]]\n",
            "\n",
            "\n",
            "[[0.10729167]\n",
            " [0.14005208]\n",
            " [0.24585937]\n",
            " [0.16085937]\n",
            " [0.10242187]\n",
            " [0.04177083]\n",
            " [0.05416667]\n",
            " [0.14757812]]\n",
            "\n",
            "\n",
            "[[0.12008594]\n",
            " [0.16883919]\n",
            " [0.20107943]\n",
            " [0.14486654]\n",
            " [0.09602474]\n",
            " [0.04177083]\n",
            " [0.0605638 ]\n",
            " [0.16676953]]\n",
            "\n",
            "\n",
            "[[0.13775802]\n",
            " [0.15524528]\n",
            " [0.19292308]\n",
            " [0.1503041 ]\n",
            " [0.10825926]\n",
            " [0.04448962]\n",
            " [0.06600137]\n",
            " [0.14501927]]\n",
            "\n",
            "\n",
            "[[0.12581804]\n",
            " [0.15928947]\n",
            " [0.20505565]\n",
            " [0.15280765]\n",
            " [0.10363733]\n",
            " [0.04680058]\n",
            " [0.05983879]\n",
            " [0.14675249]]\n",
            "\n",
            "\n",
            "[[0.1280279 ]\n",
            " [0.15937131]\n",
            " [0.20210916]\n",
            " [0.14969747]\n",
            " [0.10633827]\n",
            " [0.04418149]\n",
            " [0.06032987]\n",
            " [0.14994451]]\n",
            "\n",
            "\n",
            "[[0.12896709]\n",
            " [0.15905825]\n",
            " [0.20040471]\n",
            " [0.15084537]\n",
            " [0.10525994]\n",
            " [0.0443902 ]\n",
            " [0.06123428]\n",
            " [0.14984016]]\n",
            "\n",
            "\n",
            "[[0.12880447]\n",
            " [0.15873301]\n",
            " [0.20177958]\n",
            " [0.15083059]\n",
            " [0.10521559]\n",
            " [0.04477457]\n",
            " [0.06120471]\n",
            " [0.14865748]]\n",
            "\n",
            "\n",
            "[[0.12833115]\n",
            " [0.15924822]\n",
            " [0.2016979 ]\n",
            " [0.15062744]\n",
            " [0.10524072]\n",
            " [0.044762  ]\n",
            " [0.06086962]\n",
            " [0.14922295]]\n",
            "\n",
            "\n",
            "[[0.12871033]\n",
            " [0.15901234]\n",
            " [0.20132406]\n",
            " [0.15065058]\n",
            " [0.10545434]\n",
            " [0.04461959]\n",
            " [0.06102983]\n",
            " [0.14919891]]\n",
            "\n",
            "\n"
          ],
          "name": "stdout"
        }
      ]
    },
    {
      "cell_type": "code",
      "metadata": {
        "colab": {
          "base_uri": "https://localhost:8080/"
        },
        "id": "oYjhp-yHqXNS",
        "outputId": "4ad19a35-ca9f-431a-a372-634018a9e269"
      },
      "source": [
        "pi.round(4)"
      ],
      "execution_count": null,
      "outputs": [
        {
          "output_type": "execute_result",
          "data": {
            "text/plain": [
              "array([[0.1287, 0.159 , 0.2013, 0.1507, 0.1055, 0.0446, 0.061 , 0.1492]])"
            ]
          },
          "metadata": {
            "tags": []
          },
          "execution_count": 6
        }
      ]
    },
    {
      "cell_type": "code",
      "metadata": {
        "colab": {
          "base_uri": "https://localhost:8080/"
        },
        "id": "uC6URrgTtg3C",
        "outputId": "f512c0e3-a2d1-4de1-fea1-d262774c36b8"
      },
      "source": [
        "#PageRank result\n",
        "import collections\n",
        "pg = {k: v for v, k in enumerate(pi.round(4).tolist()[0])}\n",
        "pg = collections.OrderedDict(sorted(pg.items(),reverse=True))\n",
        "pg"
      ],
      "execution_count": null,
      "outputs": [
        {
          "output_type": "execute_result",
          "data": {
            "text/plain": [
              "OrderedDict([(0.2013, 2),\n",
              "             (0.159, 1),\n",
              "             (0.1507, 3),\n",
              "             (0.1492, 7),\n",
              "             (0.1287, 0),\n",
              "             (0.1055, 4),\n",
              "             (0.061, 6),\n",
              "             (0.0446, 5)])"
            ]
          },
          "metadata": {
            "tags": []
          },
          "execution_count": 7
        }
      ]
    },
    {
      "cell_type": "code",
      "metadata": {
        "colab": {
          "base_uri": "https://localhost:8080/"
        },
        "id": "abrNZaBwuzvu",
        "outputId": "d6d8c58a-d10c-46f7-ceab-a8fed5ab538e"
      },
      "source": [
        "print('The ranked order of the webpages are:')\n",
        "for i in range(0, len(pg.values())):\n",
        "    temp = list(pg.values())[i]+1\n",
        "    print(temp)"
      ],
      "execution_count": null,
      "outputs": [
        {
          "output_type": "stream",
          "text": [
            "The ranked order of the webpages are:\n",
            "3\n",
            "2\n",
            "4\n",
            "8\n",
            "1\n",
            "5\n",
            "7\n",
            "6\n"
          ],
          "name": "stdout"
        }
      ]
    }
  ]
}