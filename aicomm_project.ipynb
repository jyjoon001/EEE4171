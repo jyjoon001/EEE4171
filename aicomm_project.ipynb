{
  "nbformat": 4,
  "nbformat_minor": 0,
  "metadata": {
    "colab": {
      "name": "aicomm_project.ipynb",
      "provenance": [],
      "collapsed_sections": [],
      "include_colab_link": true
    },
    "kernelspec": {
      "name": "python3",
      "display_name": "Python 3"
    },
    "accelerator": "GPU"
  },
  "cells": [
    {
      "cell_type": "markdown",
      "metadata": {
        "id": "view-in-github",
        "colab_type": "text"
      },
      "source": [
        "<a href=\"https://colab.research.google.com/github/jyjoon001/EEE4171/blob/main/aicomm_project.ipynb\" target=\"_parent\"><img src=\"https://colab.research.google.com/assets/colab-badge.svg\" alt=\"Open In Colab\"/></a>"
      ]
    },
    {
      "cell_type": "code",
      "metadata": {
        "id": "G6B2TtWTz4rS"
      },
      "source": [
        "import torch\n",
        "import torchvision\n",
        "import torch.nn as nn\n",
        "import torch.nn.functional as F\n",
        "from torchvision import models, transforms\n",
        "import matplotlib.pyplot as plt"
      ],
      "execution_count": null,
      "outputs": []
    },
    {
      "cell_type": "code",
      "metadata": {
        "id": "eI9oyn5h3_lT"
      },
      "source": [
        "# device configuration\n",
        "device = torch.device('cuda' if torch.cuda.is_available() else 'cpu')\n",
        "\n",
        "num_class = 10\n",
        "# hyper - parameters\n",
        "num_epochs = 5\n",
        "learning_rate = 0.0025\n",
        "batch_size = 128\n",
        "max_pool_kernel = 2"
      ],
      "execution_count": null,
      "outputs": []
    },
    {
      "cell_type": "code",
      "metadata": {
        "id": "l_7_zfz-4ePT"
      },
      "source": [
        "train_data = torchvision.datasets.FashionMNIST(\"./data\", download=True, transform=\n",
        "                                                transforms.Compose([transforms.ToTensor()]))\n",
        "test_data = torchvision.datasets.FashionMNIST(\"./data\", download=True, train=False, transform=\n",
        "                                               transforms.Compose([transforms.ToTensor()]))  "
      ],
      "execution_count": null,
      "outputs": []
    },
    {
      "cell_type": "code",
      "metadata": {
        "id": "ULjBuFaFvCzp",
        "colab": {
          "base_uri": "https://localhost:8080/"
        },
        "outputId": "f29b51e9-3303-4c25-c2f2-e32e4d85dfce"
      },
      "source": [
        "!nvidia-smi"
      ],
      "execution_count": null,
      "outputs": [
        {
          "output_type": "stream",
          "text": [
            "Sat Apr 24 11:51:27 2021       \n",
            "+-----------------------------------------------------------------------------+\n",
            "| NVIDIA-SMI 465.19.01    Driver Version: 460.32.03    CUDA Version: 11.2     |\n",
            "|-------------------------------+----------------------+----------------------+\n",
            "| GPU  Name        Persistence-M| Bus-Id        Disp.A | Volatile Uncorr. ECC |\n",
            "| Fan  Temp  Perf  Pwr:Usage/Cap|         Memory-Usage | GPU-Util  Compute M. |\n",
            "|                               |                      |               MIG M. |\n",
            "|===============================+======================+======================|\n",
            "|   0  Tesla T4            Off  | 00000000:00:04.0 Off |                    0 |\n",
            "| N/A   69C    P0    32W /  70W |   1542MiB / 15109MiB |      0%      Default |\n",
            "|                               |                      |                  N/A |\n",
            "+-------------------------------+----------------------+----------------------+\n",
            "                                                                               \n",
            "+-----------------------------------------------------------------------------+\n",
            "| Processes:                                                                  |\n",
            "|  GPU   GI   CI        PID   Type   Process name                  GPU Memory |\n",
            "|        ID   ID                                                   Usage      |\n",
            "|=============================================================================|\n",
            "+-----------------------------------------------------------------------------+\n"
          ],
          "name": "stdout"
        }
      ]
    },
    {
      "cell_type": "code",
      "metadata": {
        "id": "f_2xgqYB4uqC"
      },
      "source": [
        "# Define DataLoader\n",
        "train_loader = torch.utils.data.DataLoader(train_data,\n",
        "                                     batch_size=batch_size,\n",
        "                                     shuffle=True)\n",
        "test_loader = torch.utils.data.DataLoader(test_data,\n",
        "                                     batch_size=batch_size,\n",
        "                                     shuffle=False)"
      ],
      "execution_count": null,
      "outputs": []
    },
    {
      "cell_type": "code",
      "metadata": {
        "id": "o4IqpvP8JPRS"
      },
      "source": [
        "def image_show(dataset, num):\n",
        "  fig = plt.figure(figsize=(30,30))\n",
        "\n",
        "  for i in range(num):\n",
        "    plt.subplot(1, num, i+1)\n",
        "    plt.imshow(dataset[i][0].squeeze())\n",
        "    plt.title(dataset[i][1])"
      ],
      "execution_count": null,
      "outputs": []
    },
    {
      "cell_type": "code",
      "metadata": {
        "id": "RMgtSU345TPv"
      },
      "source": [
        "class ConvNet(nn.Module):\n",
        "  def __init__(self, num_class):\n",
        "    super(ConvNet, self).__init__()\n",
        "    self.layer1a = nn.Sequential(\n",
        "        nn.Conv2d(1, 10, 3, stride=1, padding=1),\n",
        "        nn.BatchNorm2d(10),\n",
        "        nn.ReLU()\n",
        "    )\n",
        "    self.layer1b = nn.Sequential(\n",
        "        nn.Conv2d(10, 16, 3, stride=1, padding=1),\n",
        "        nn.BatchNorm2d(16),\n",
        "        nn.ReLU()\n",
        "    )\n",
        "    self.layer2a = nn.Sequential(\n",
        "        nn.LeakyReLU(),\n",
        "        nn.Conv2d(16, 16, 3, stride=1, padding=1),\n",
        "        nn.BatchNorm2d(16)\n",
        "    )\n",
        "    self.layer2b = nn.Sequential(\n",
        "        nn.LeakyReLU(),\n",
        "        nn.Conv2d(16, 16, 3, stride=1, padding=1),\n",
        "        nn.BatchNorm2d(16)\n",
        "    )\n",
        "    self.layer2c = nn.Sequential(\n",
        "        nn.Conv2d(16, 32, 5, stride=1, padding=2),\n",
        "        nn.BatchNorm2d(32),\n",
        "        nn.ReLU()\n",
        "    )\n",
        "    self.layer3a = nn.Sequential(\n",
        "        nn.Conv2d(32, 64, 7, stride=1, padding=3),\n",
        "        nn.BatchNorm2d(64),\n",
        "        nn.ReLU()\n",
        "    )\n",
        "    self.layer3b = nn.Sequential(\n",
        "        nn.Conv2d(64, 128, 7, stride=1, padding=3),\n",
        "        nn.BatchNorm2d(128),\n",
        "        nn.ReLU(),\n",
        "        nn.AdaptiveAvgPool2d(6),\n",
        "        nn.Flatten()\n",
        "    )\n",
        "    self.fc0 = nn.Sequential(\n",
        "        nn.Linear(6*6*128, 360),\n",
        "        nn.BatchNorm1d(360),\n",
        "        nn.ReLU()\n",
        "    )\n",
        "    self.fc1 = nn.Sequential(\n",
        "        nn.Linear(360, 120),\n",
        "        nn.BatchNorm1d(120),\n",
        "        nn.ReLU()\n",
        "    )\n",
        "    self.fc2 = nn.Sequential(\n",
        "        nn.Linear(120, 84),\n",
        "        nn.BatchNorm1d(84),\n",
        "        nn.ReLU()\n",
        "    )\n",
        "    self.fc3 = nn.Sequential(\n",
        "        nn.Linear(84, num_class),\n",
        "        nn.BatchNorm1d(num_class)\n",
        "    )\n",
        "    self.maxpool = nn.MaxPool2d(max_pool_kernel)\n",
        "\n",
        "  def forward(self, x):\n",
        "    x = self.layer1a(x)\n",
        "    x = self.layer1b(x)\n",
        "    res = x\n",
        "\n",
        "    x = self.layer2a(x)\n",
        "    x = self.layer2b(x)\n",
        "    x = self.maxpool(x+res)\n",
        "    x = self.layer2c(x)\n",
        "\n",
        "    x = self.layer3a(x)   \n",
        "    x = self.layer3b(x)   \n",
        "    x = x.reshape(x.size(0),-1)\n",
        "    x = self.fc0(x)\n",
        "    x = self.fc1(x)\n",
        "    x = self.fc2(x)\n",
        "    x = F.log_softmax(self.fc3(x))\n",
        "    return x\n",
        "\n",
        "model = ConvNet(num_class).to(device)"
      ],
      "execution_count": null,
      "outputs": []
    },
    {
      "cell_type": "code",
      "metadata": {
        "colab": {
          "base_uri": "https://localhost:8080/"
        },
        "id": "aoFokJvz1cOA",
        "outputId": "3a38e519-6c4e-482a-bdc4-77f2edf8de6b"
      },
      "source": [
        "model"
      ],
      "execution_count": null,
      "outputs": [
        {
          "output_type": "execute_result",
          "data": {
            "text/plain": [
              "ConvNet(\n",
              "  (layer1a): Sequential(\n",
              "    (0): Conv2d(1, 10, kernel_size=(3, 3), stride=(1, 1), padding=(1, 1))\n",
              "    (1): BatchNorm2d(10, eps=1e-05, momentum=0.1, affine=True, track_running_stats=True)\n",
              "    (2): ReLU()\n",
              "  )\n",
              "  (layer1b): Sequential(\n",
              "    (0): Conv2d(10, 16, kernel_size=(3, 3), stride=(1, 1), padding=(1, 1))\n",
              "    (1): BatchNorm2d(16, eps=1e-05, momentum=0.1, affine=True, track_running_stats=True)\n",
              "    (2): ReLU()\n",
              "  )\n",
              "  (layer2a): Sequential(\n",
              "    (0): LeakyReLU(negative_slope=0.01)\n",
              "    (1): Conv2d(16, 16, kernel_size=(3, 3), stride=(1, 1), padding=(1, 1))\n",
              "    (2): BatchNorm2d(16, eps=1e-05, momentum=0.1, affine=True, track_running_stats=True)\n",
              "  )\n",
              "  (layer2b): Sequential(\n",
              "    (0): LeakyReLU(negative_slope=0.01)\n",
              "    (1): Conv2d(16, 16, kernel_size=(3, 3), stride=(1, 1), padding=(1, 1))\n",
              "    (2): BatchNorm2d(16, eps=1e-05, momentum=0.1, affine=True, track_running_stats=True)\n",
              "  )\n",
              "  (layer2c): Sequential(\n",
              "    (0): Conv2d(16, 32, kernel_size=(5, 5), stride=(1, 1), padding=(2, 2))\n",
              "    (1): BatchNorm2d(32, eps=1e-05, momentum=0.1, affine=True, track_running_stats=True)\n",
              "    (2): ReLU()\n",
              "  )\n",
              "  (layer3a): Sequential(\n",
              "    (0): Conv2d(32, 64, kernel_size=(7, 7), stride=(1, 1), padding=(3, 3))\n",
              "    (1): BatchNorm2d(64, eps=1e-05, momentum=0.1, affine=True, track_running_stats=True)\n",
              "    (2): ReLU()\n",
              "  )\n",
              "  (layer3b): Sequential(\n",
              "    (0): Conv2d(64, 128, kernel_size=(7, 7), stride=(1, 1), padding=(3, 3))\n",
              "    (1): BatchNorm2d(128, eps=1e-05, momentum=0.1, affine=True, track_running_stats=True)\n",
              "    (2): ReLU()\n",
              "    (3): AdaptiveAvgPool2d(output_size=6)\n",
              "    (4): Flatten(start_dim=1, end_dim=-1)\n",
              "  )\n",
              "  (fc0): Sequential(\n",
              "    (0): Linear(in_features=4608, out_features=360, bias=True)\n",
              "    (1): BatchNorm1d(360, eps=1e-05, momentum=0.1, affine=True, track_running_stats=True)\n",
              "    (2): ReLU()\n",
              "  )\n",
              "  (fc1): Sequential(\n",
              "    (0): Linear(in_features=360, out_features=120, bias=True)\n",
              "    (1): BatchNorm1d(120, eps=1e-05, momentum=0.1, affine=True, track_running_stats=True)\n",
              "    (2): ReLU()\n",
              "  )\n",
              "  (fc2): Sequential(\n",
              "    (0): Linear(in_features=120, out_features=84, bias=True)\n",
              "    (1): BatchNorm1d(84, eps=1e-05, momentum=0.1, affine=True, track_running_stats=True)\n",
              "    (2): ReLU()\n",
              "  )\n",
              "  (fc3): Sequential(\n",
              "    (0): Linear(in_features=84, out_features=10, bias=True)\n",
              "    (1): BatchNorm1d(10, eps=1e-05, momentum=0.1, affine=True, track_running_stats=True)\n",
              "  )\n",
              "  (maxpool): MaxPool2d(kernel_size=2, stride=2, padding=0, dilation=1, ceil_mode=False)\n",
              ")"
            ]
          },
          "metadata": {
            "tags": []
          },
          "execution_count": 44
        }
      ]
    },
    {
      "cell_type": "code",
      "metadata": {
        "id": "IflNZDPF6c3f"
      },
      "source": [
        "# Set Loss and Optimizer\n",
        "criterion = nn.CrossEntropyLoss()\n",
        "optimizer = torch.optim.Adam(model.parameters(), lr = learning_rate)"
      ],
      "execution_count": null,
      "outputs": []
    },
    {
      "cell_type": "code",
      "metadata": {
        "id": "090OtB7I6vXa"
      },
      "source": [
        "import time"
      ],
      "execution_count": null,
      "outputs": []
    },
    {
      "cell_type": "code",
      "metadata": {
        "colab": {
          "base_uri": "https://localhost:8080/"
        },
        "id": "WWv-Kl_Z8NDk",
        "outputId": "d26f9367-789d-4904-ecce-a700e3972e25"
      },
      "source": [
        "image, label = next(iter(test_loader))\n",
        "print(image.size()) # [Batch, Channel, Height, Width]"
      ],
      "execution_count": null,
      "outputs": [
        {
          "output_type": "stream",
          "text": [
            "torch.Size([128, 1, 28, 28])\n"
          ],
          "name": "stdout"
        }
      ]
    },
    {
      "cell_type": "code",
      "metadata": {
        "colab": {
          "base_uri": "https://localhost:8080/"
        },
        "id": "e5l9N57J7C8g",
        "outputId": "04d55182-700b-4a73-b1d6-520771549c64"
      },
      "source": [
        "start = time.time()\n",
        "best_epoch = 0\n",
        "best_loss = float('inf')\n",
        "total_step = len(train_loader)\n",
        "loss_list = []\n",
        "\n",
        "for epoch in range(num_epochs):\n",
        "  for i, (image, label) in enumerate(train_loader):\n",
        "    image = image.to(device)\n",
        "    label = label.to(device)\n",
        "\n",
        "    # Forward\n",
        "    output = model(image)\n",
        "    loss = criterion(output, label)\n",
        "\n",
        "    # Backward and optimize\n",
        "    optimizer.zero_grad()\n",
        "    loss.backward()\n",
        "    optimizer.step()\n",
        "\n",
        "    loss_list.append(loss.item())\n",
        "\n",
        "    if (i+1) % 1000 == 0:\n",
        "      print(\"Epoch [{}/{}], Step[{}/{}], Loss:{:.4f}\".format(epoch+1, num_epochs, i+1, total_step, loss.item()))\n",
        "\n",
        "end = time.time()\n",
        "print(\"Train takes {:.2f}minutes\".format((end-start)/60))\n",
        "torch.save(model.state_dict(),'20161482_model2.pth')"
      ],
      "execution_count": null,
      "outputs": [
        {
          "output_type": "stream",
          "text": [
            "/usr/local/lib/python3.7/dist-packages/ipykernel_launcher.py:78: UserWarning: Implicit dimension choice for log_softmax has been deprecated. Change the call to include dim=X as an argument.\n"
          ],
          "name": "stderr"
        },
        {
          "output_type": "stream",
          "text": [
            "Train takes 1.40minutes\n"
          ],
          "name": "stdout"
        }
      ]
    },
    {
      "cell_type": "code",
      "metadata": {
        "colab": {
          "base_uri": "https://localhost:8080/",
          "height": 281
        },
        "id": "j2TyUV0vFmx7",
        "outputId": "66cd82e0-e17c-49cf-d8e1-9a339ae0d761"
      },
      "source": [
        "plt.plot(loss_list)\n",
        "plt.title(\"EMNIST with CNN\")\n",
        "plt.show()"
      ],
      "execution_count": null,
      "outputs": [
        {
          "output_type": "display_data",
          "data": {
            "image/png": "[encoded data removed]",
            "text/plain": [
              "<Figure size 432x288 with 1 Axes>"
            ]
          },
          "metadata": {
            "tags": [],
            "needs_background": "light"
          }
        }
      ]
    },
    {
      "cell_type": "code",
      "metadata": {
        "colab": {
          "base_uri": "https://localhost:8080/"
        },
        "id": "1pzY0SFd7VLN",
        "outputId": "dedc2ea7-8c17-45fa-b9af-302458ac147a"
      },
      "source": [
        "model_saved = ConvNet(num_class).to(device)\n",
        "model_saved.load_state_dict(torch.load(\"20161482_model2.pth\"))\n",
        "model_saved.eval()\n",
        "\n",
        "with torch.no_grad():\n",
        "  correct = 0\n",
        "  \n",
        "  for img, lab in test_loader:\n",
        "    img = img.to(device)\n",
        "    lab = lab.to(device)\n",
        "    out = model_saved(img)\n",
        "    _, pred = torch.max(out.data, 1)\n",
        "    correct += (pred == lab).sum().item()\n",
        "\n",
        "  print(\"Accuracy of the network on the {} test images: {}%\".format(len(test_loader)*batch_size, 100 * correct / (len(test_loader) * batch_size)))"
      ],
      "execution_count": null,
      "outputs": [
        {
          "output_type": "stream",
          "text": [
            "/usr/local/lib/python3.7/dist-packages/ipykernel_launcher.py:78: UserWarning: Implicit dimension choice for log_softmax has been deprecated. Change the call to include dim=X as an argument.\n"
          ],
          "name": "stderr"
        },
        {
          "output_type": "stream",
          "text": [
            "Accuracy of the network on the 10112 test images: 91.0304588607595%\n"
          ],
          "name": "stdout"
        }
      ]
    },
    {
      "cell_type": "code",
      "metadata": {
        "id": "bQ43uwYexbZF"
      },
      "source": [
        ""
      ],
      "execution_count": null,
      "outputs": []
    }
  ]
}